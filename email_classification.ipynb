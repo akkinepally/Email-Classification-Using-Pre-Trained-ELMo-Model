{
  "nbformat": 4,
  "nbformat_minor": 0,
  "metadata": {
    "colab": {
      "name": "email_classification.ipynb",
      "provenance": [],
      "collapsed_sections": [],
      "authorship_tag": "ABX9TyP5Ij488hJ++6/BWLOGKZS2",
      "include_colab_link": true
    },
    "kernelspec": {
      "display_name": "Python 3",
      "name": "python3"
    }
  },
  "cells": [
    {
      "cell_type": "markdown",
      "metadata": {
        "id": "view-in-github",
        "colab_type": "text"
      },
      "source": [
        "<a href=\"https://colab.research.google.com/github/akkinepally/email_classification/blob/main/email_classification.ipynb\" target=\"_parent\"><img src=\"https://colab.research.google.com/assets/colab-badge.svg\" alt=\"Open In Colab\"/></a>"
      ]
    },
    {
      "cell_type": "code",
      "metadata": {
        "id": "JV65aAR1vyzy",
        "outputId": "2e8a3a87-c385-403f-b144-f15091ad5819",
        "colab": {
          "base_uri": "https://localhost:8080/"
        }
      },
      "source": [
        "# import libraries \n",
        "import pandas as pd\n",
        "import re  \n",
        "from nltk.stem import WordNetLemmatizer\n",
        "from nltk.corpus import stopwords\n",
        "import nltk\n",
        "import spacy\n",
        "nltk.download('stopwords')\n",
        "nltk.download('wordnet')\n"
      ],
      "execution_count": 8,
      "outputs": [
        {
          "output_type": "stream",
          "text": [
            "[nltk_data] Downloading package stopwords to /root/nltk_data...\n",
            "[nltk_data]   Package stopwords is already up-to-date!\n",
            "[nltk_data] Downloading package wordnet to /root/nltk_data...\n",
            "[nltk_data]   Package wordnet is already up-to-date!\n"
          ],
          "name": "stdout"
        },
        {
          "output_type": "execute_result",
          "data": {
            "text/plain": [
              "True"
            ]
          },
          "metadata": {
            "tags": []
          },
          "execution_count": 8
        }
      ]
    },
    {
      "cell_type": "code",
      "metadata": {
        "id": "C7yUKWIswEx0"
      },
      "source": [
        "# load data \n",
        "email_train_dataframe = pd.read_csv('train.csv', encoding='utf-8')\n",
        "email_test_dataframe = pd.read_csv('test.csv', encoding='utf-8')\n"
      ],
      "execution_count": 9,
      "outputs": []
    },
    {
      "cell_type": "code",
      "metadata": {
        "id": "AAqcWl4qzhN2",
        "outputId": "40bbce91-77d2-46ef-c8d9-dbcb4a3cc372",
        "colab": {
          "base_uri": "https://localhost:8080/",
          "height": 402
        }
      },
      "source": [
        "email_train_dataframe "
      ],
      "execution_count": 10,
      "outputs": [
        {
          "output_type": "execute_result",
          "data": {
            "text/html": [
              "<div>\n",
              "<style scoped>\n",
              "    .dataframe tbody tr th:only-of-type {\n",
              "        vertical-align: middle;\n",
              "    }\n",
              "\n",
              "    .dataframe tbody tr th {\n",
              "        vertical-align: top;\n",
              "    }\n",
              "\n",
              "    .dataframe thead th {\n",
              "        text-align: right;\n",
              "    }\n",
              "</style>\n",
              "<table border=\"1\" class=\"dataframe\">\n",
              "  <thead>\n",
              "    <tr style=\"text-align: right;\">\n",
              "      <th></th>\n",
              "      <th>id</th>\n",
              "      <th>label</th>\n",
              "      <th>tweet</th>\n",
              "    </tr>\n",
              "  </thead>\n",
              "  <tbody>\n",
              "    <tr>\n",
              "      <th>0</th>\n",
              "      <td>1</td>\n",
              "      <td>0</td>\n",
              "      <td>#fingerprint #Pregnancy Test https://goo.gl/h1...</td>\n",
              "    </tr>\n",
              "    <tr>\n",
              "      <th>1</th>\n",
              "      <td>2</td>\n",
              "      <td>0</td>\n",
              "      <td>Finally a transparant silicon case ^^ Thanks t...</td>\n",
              "    </tr>\n",
              "    <tr>\n",
              "      <th>2</th>\n",
              "      <td>3</td>\n",
              "      <td>0</td>\n",
              "      <td>We love this! Would you go? #talk #makememorie...</td>\n",
              "    </tr>\n",
              "    <tr>\n",
              "      <th>3</th>\n",
              "      <td>4</td>\n",
              "      <td>0</td>\n",
              "      <td>I'm wired I know I'm George I was made that wa...</td>\n",
              "    </tr>\n",
              "    <tr>\n",
              "      <th>4</th>\n",
              "      <td>5</td>\n",
              "      <td>1</td>\n",
              "      <td>What amazing service! Apple won't even talk to...</td>\n",
              "    </tr>\n",
              "    <tr>\n",
              "      <th>...</th>\n",
              "      <td>...</td>\n",
              "      <td>...</td>\n",
              "      <td>...</td>\n",
              "    </tr>\n",
              "    <tr>\n",
              "      <th>7915</th>\n",
              "      <td>7916</td>\n",
              "      <td>0</td>\n",
              "      <td>Live out loud #lol #liveoutloud #selfie #smile...</td>\n",
              "    </tr>\n",
              "    <tr>\n",
              "      <th>7916</th>\n",
              "      <td>7917</td>\n",
              "      <td>0</td>\n",
              "      <td>We would like to wish you an amazing day! Make...</td>\n",
              "    </tr>\n",
              "    <tr>\n",
              "      <th>7917</th>\n",
              "      <td>7918</td>\n",
              "      <td>0</td>\n",
              "      <td>Helping my lovely 90 year old neighbor with he...</td>\n",
              "    </tr>\n",
              "    <tr>\n",
              "      <th>7918</th>\n",
              "      <td>7919</td>\n",
              "      <td>0</td>\n",
              "      <td>Finally got my #smart #pocket #wifi stay conne...</td>\n",
              "    </tr>\n",
              "    <tr>\n",
              "      <th>7919</th>\n",
              "      <td>7920</td>\n",
              "      <td>0</td>\n",
              "      <td>Apple Barcelona!!! #Apple #Store #BCN #Barcelo...</td>\n",
              "    </tr>\n",
              "  </tbody>\n",
              "</table>\n",
              "<p>7920 rows × 3 columns</p>\n",
              "</div>"
            ],
            "text/plain": [
              "        id  label                                              tweet\n",
              "0        1      0  #fingerprint #Pregnancy Test https://goo.gl/h1...\n",
              "1        2      0  Finally a transparant silicon case ^^ Thanks t...\n",
              "2        3      0  We love this! Would you go? #talk #makememorie...\n",
              "3        4      0  I'm wired I know I'm George I was made that wa...\n",
              "4        5      1  What amazing service! Apple won't even talk to...\n",
              "...    ...    ...                                                ...\n",
              "7915  7916      0  Live out loud #lol #liveoutloud #selfie #smile...\n",
              "7916  7917      0  We would like to wish you an amazing day! Make...\n",
              "7917  7918      0  Helping my lovely 90 year old neighbor with he...\n",
              "7918  7919      0  Finally got my #smart #pocket #wifi stay conne...\n",
              "7919  7920      0  Apple Barcelona!!! #Apple #Store #BCN #Barcelo...\n",
              "\n",
              "[7920 rows x 3 columns]"
            ]
          },
          "metadata": {
            "tags": []
          },
          "execution_count": 10
        }
      ]
    },
    {
      "cell_type": "code",
      "metadata": {
        "id": "xKJANIBTurfD",
        "outputId": "8cbb3b81-01d4-4ef7-ad6d-a550133c8b5d",
        "colab": {
          "base_uri": "https://localhost:8080/"
        }
      },
      "source": [
        "nlp = spacy.load('en', disable=['parser', 'ner'])\n",
        "corpus = []\n",
        "lem = WordNetLemmatizer()\n",
        "punctuation = [\"'#$%^&*()!@~\"]\n",
        "for count in range(len(email_train_dataframe['tweet'])):\n",
        "  clean_tweet = re.sub('http\\S+', '', email_train_dataframe['tweet'][count] )\n",
        "  clean_tweet = clean_tweet.lower()\n",
        "  clean_tweet = re.sub('[^a-zA-Z]', ' ', clean_tweet )\n",
        "  clean_tweet = re.sub(\"'#$%^&*()!@~\", ' ', clean_tweet)\n",
        "  clean_tweet = clean_tweet.split()\n",
        "  clean_tweet = [lem.lemmatize(word) for word in clean_tweet if word not in set(stopwords.words('english'))]\n",
        "  clean_tweet = \" \".join(clean_tweet)\n",
        "  corpus.append(clean_tweet)\n",
        "\n",
        "corpus\n"
      ],
      "execution_count": 11,
      "outputs": [
        {
          "output_type": "execute_result",
          "data": {
            "text/plain": [
              "['fingerprint pregnancy test android apps beautiful cute health igers iphoneonly iphonesia iphone',\n",
              " 'finally transparant silicon case thanks uncle yay sony xperia sonyexperias',\n",
              " 'love would go talk makememories unplug relax iphone smartphone wifi connect',\n",
              " 'wired know george made way iphone cute daventry home',\n",
              " 'amazing service apple even talk question unless pay stupid support',\n",
              " 'iphone software update fucked phone big time stupid iphones',\n",
              " 'happy u instapic instadaily u sony xperia xperiaz',\n",
              " 'new type c charger cable uk bay amazon etsy new year rob cross toby young evemun mcmafia taylor spectre newyear starting recipe technology samsunggalaxys iphonex pic twitter com pjiwq wtc',\n",
              " 'bout go shopping listening music iphone justme music likeforlike followforfollow',\n",
              " 'photo fun selfie pool water sony camera picoftheday sun instagood boy cute outdoor',\n",
              " 'hey apple make new ipod dont make new color inch thinner make crash every five fuckin minite',\n",
              " 'ha heavy machinery need apple really dropped ball design drinkyourhaterade',\n",
              " 'contemplating giving iphone bandwagon simply cellcom new android depressing idontwantto',\n",
              " 'made another crazy purchase lol theory work hard play hard lol ipad apple shopping',\n",
              " 'shaqlockholmes sam louise battery painful charge overnight lunchtime battery dead hateorange',\n",
              " 'deepellum towards downtown dallas bigd saturday rx sony summer urban',\n",
              " 'like share want phone case iphone iphone pic twitter com gfkn yec j',\n",
              " 'go crazy iphonesia iphone instagood instagram photooftheday tweegram',\n",
              " 'reason one iphone suck apple truth truthbetold agree fact realitycheck blackberrypic twitter com zpggd cazn',\n",
              " 'apple store gunna c screen monday ur fucking apple store fuckingpissed',\n",
              " 'apple art easter dear friend would like published channel design face easter bunny email png thumbnail email mutita edibleart gmail compic twitter com jhwphfbgt',\n",
              " 'excuse waiter seems pie soup wife bake apple pie yay',\n",
              " 'new ipod four day button back broke accidentally hit',\n",
              " 'iphone screen go completely black keep getting text day fucking check apple thiphone',\n",
              " 'time new wallpaper phone wallpaper wall screen galaxy samsung app',\n",
              " 'billion patent prior art million patent troll partying thanks apple apple',\n",
              " 'ipod messed done nothing myloss apple',\n",
              " 'ipod touch frozen apple logo start lose demi music pic kill someone soangry hateapple',\n",
              " 'love new phone case flower green diamond pearl cute new iphone iphone case',\n",
              " 'must watch youtube subscribe daily vlog twitch gaming fun p xbox sony game io android',\n",
              " 'thank samsung live laugh life food philippine instago instahub instagram',\n",
              " 'ch cannon suewee friendship americanbully dog piggy family southerncharm americanidol goal bestfriends pitbull iphonex onelove country muscle nfl worldwide america bigboy thislife tmz wild hoggpic twitter com mn ogpi c',\n",
              " 'instapic mimmo al feb taken sony rx direzioneverticale sunset sky beautiful fun pic twitter com cxifijj g',\n",
              " 'happy sister bought new phone early b day gift happy samsung',\n",
              " 'received samsung note many thanks cottds phone',\n",
              " 'nswrl app android market pipeline',\n",
              " 'delete individual song phone apple itunes',\n",
              " 'everybody freaking io like duuude even window phone advanced iphones customization',\n",
              " 'new iphone c standing sirri iously bad c standing cheap screen re camera tech apple',\n",
              " 'bull instasize legging lightskin curlyhair iphone bellypiercing smile potd',\n",
              " 'din create let destroy candid photo iphonex sunday sundayvibes smile always photooftheday eye ootd fashion blackandwhite poser attitude lifeisgood mylook mylife photoeveryday lookoftheday latepost mylifepic twitter com mmhcqyad b',\n",
              " 'film set building time lapse video photooftheday beautiful producer live fashion videoproduction cute follow commercial iphone apple actor actress iphonesia hollywood losangeles picoftheday movie acting startup startupvideos shotoniphonpic twitter com eceiaine',\n",
              " 'new phone cupcake wallpaper pink cute sweet samsung cherry',\n",
              " 'eeeeee sexy lady live iphone iphonesia instagood photooftheday tweegram iphon',\n",
              " 'acquisto del week end iphone iphone plus apple gril moment italy',\n",
              " 'majestic see differently photography nature landscape forest hidden clearing view wood tree travel biker sony ziess photo instgramhub picoftheday',\n",
              " 'google apple cut itunes get program',\n",
              " 'ahhhh look got christmas iphone apple christmas girl',\n",
              " 'love like love instacool photooftheday iphone instago food followforfollow like',\n",
              " 'follow play bitcoinboy iphone ipad ipod free game fun kansa georgia',\n",
              " 'ogochocinco would new talking antoine iphone app check u ent appstore',\n",
              " 'joy peace reflect remember sky cloud cloudhub skyhub tree gr iphone',\n",
              " 'love baby boy baby boy babyboy muesli hedgehog pet iphone iphone',\n",
              " 'inbox letter editor news photography fashion health fail tech ipad iphone funny lolpic twitter com ik rhumovz',\n",
              " 'zsofimonster thinner faster amazing hated ipad getting one ye',\n",
              " 'jamesdawute like tablet personally use sense im fan think quite gd product',\n",
              " 'black friday called black friday blackfridaydeals blackfriday blackfriday news amazon shopping shop christmas holiday gift family friend newyork business crowd money birthday tv iphone computer lifehacks school',\n",
              " 'apple seriously afraid profit going someone else pocket make charger supported phone po apple charger broke month getting phone good job apple',\n",
              " 'phone actually killing paying replacement',\n",
              " 'agree still programmed basic rt sloan lovescudi apple suck droid',\n",
              " 'wait double check saw alyssa fun camera iphone h cool picture l',\n",
              " 'cycle life complete froot apple run dog sun beach sport health',\n",
              " 'tysonj bit hypocritical use hashtag apple yet quivering anticipation arrival new phone',\n",
              " 'gain follower rt must follow follow back follow everyone rts gain iphone sougofollow ff si',\n",
              " 'geometry iphoneography iphoneonly iphoneography streetphotography iphonephotography mobilephotography mobile iphone apple color bright',\n",
              " 'iphone user fettish phone mobile iphone sexy technology techno indie dating okcupid',\n",
              " 'photo love le pink iphone random instamood photography loljk',\n",
              " 'shine bright like wine amaliexmaria amazing beautiful copenhagen creative composer denmark fun f f hot iconic keepthefaith l l mariajensen music original pop producer red rock soul singer songwriter song universal sony warnerpic twitter com gbeusyed',\n",
              " 'tescophoneshop samsung galaxy wedding dvd thought lost day',\n",
              " 'rt meliiecandy apple ipadmini soldes instamoment planeteig new baby instasize',\n",
              " 'feeling broken phone screen replaced iphone happiness pic twitter com ygsuke ce',\n",
              " 'light way please lamp light photooftheday instagood life pekanbaru riau indonesia photography streetphotography sony sonya',\n",
              " 'new acquisition iphone gold apple phone brussels potd picoftheday',\n",
              " 'havent texted back phone reset work sorry iphone',\n",
              " 'happy sunday samsung phone smile inception white tea chilling',\n",
              " 'carcasa clear cover para samsung grandprime felizdomingo samsunggalaxy g felizlunes felizsemana oct oct felizmartespic twitter com xtldsjwpz',\n",
              " 'apple mighty mouse came lithium aa apple magic mouse come alkaline aa magic mouse apple',\n",
              " 'nyclesbians followsunday followback rt teamfollowback follow retweet iphone keep ya thing',\n",
              " 'happy samsunguk samsung tumble dryer month replaced already problem occurred iwant issue resolved want able return product back samsung im alexandraeton bbcwatchdog',\n",
              " 'lilya retweet sll sony sonya throwback shoot blury nature pic photo girl smile art pic twitter com btew b kx',\n",
              " 'cnet call apple phone put absurd price new apple device tech',\n",
              " 'commonwealth game skye nicolson win boxing gold memory dead brother commonwealth game adaptive galatasaray iherborder samsung presidenttrump',\n",
              " 'oh dear joy new iphone good comment lip service win getalife apple tecshit',\n",
              " 'love finally enjoying game p tombraider laracroft playstation samsung gamer',\n",
              " 'hunger game simpson simpson thehungergames iphone instagram apple always',\n",
              " 'apple called made something wrong right today make thank',\n",
              " 'new item jammieexoxo recommends iphone apple earphone earpods white lifestyle amazing',\n",
              " 'fuckyou apple never ending bug like payed buck phone little quality anotherangrycustomer',\n",
              " 'cute girlfriend happy one year love gf bf card cute sony xperia z soppy',\n",
              " 'birthday present mom apple macbookpro macbook birthday stockholm sweden compute',\n",
              " 'photo quote day quote wisdom word smile follow tweetgram cute iphone fashion',\n",
              " 'samsunguk applaud samsung sheffield store customer service great service quality repair done hour',\n",
              " 'lost everything due freaking iphone update put recovery mode',\n",
              " 'mashable apple hater yousuck briantong easytotalk producesomething usa company korean samsung fan loser',\n",
              " 'thanks working server day sony dumb scheduled maintenance today sony',\n",
              " 'new model byhilalak earphone urbanears handmade hayatinarenkkat iphone sony',\n",
              " 'photo itunes vicio nellyfurtado nelstar playingnow iphoneonly iphone diva cd',\n",
              " 'see many feature know iphone iphone yourtechcompany pic twitter com h iza',\n",
              " 'happiness box yey phone sony xperia sonyxperiaz new blessed',\n",
              " 'feliz bado con caf saturday coffee pantry iphonex',\n",
              " 'dreamy effect created straight iphone impressive spring flower blossom',\n",
              " 'finalllllly note note samsung galaxy galaxynote awsome beamman best',\n",
              " 'special app valentine fashion nowplaying daughter poem valentine iphone',\n",
              " 'photo day erie pa car sign iloveyou blackandwhite streetphotography iphone erie pa',\n",
              " 'lunch park apple carrot banana lovely dog tree autumn leaf',\n",
              " 'iphone confession app spend time confessing faith need le time confessing sin much',\n",
              " 'day p love iphone photography book flickr',\n",
              " 'hey apple want say fuck u ur new update took hour download hate apple io',\n",
              " 'photo sunset westcoast iphone taken instagram huntington dog beach',\n",
              " 'added twitter directory new york ny iphone fun education mom',\n",
              " 'iphones losin phone reception got text n missed call last min',\n",
              " 'tmobile day come thanks jump finally get rid iphone get samsung note absolutely love tmobile',\n",
              " 'get taste frank ocean new news photography fashion health fail tech ipad iphone funny lol',\n",
              " 'annoying finish level water buy full version apple',\n",
              " 'nothing wear important smile smile quote mood girl bos blog life style amazing quote wcw wce bestoftheday cute pretty beautiful sexy fashion babe samsung wednesday funpic twitter com ggnuvxbv',\n",
              " 'natepgilbraith send text turn imessage',\n",
              " 'fanta apple fanta delish sunday sundayfunday healing',\n",
              " 'sleep way lap babygirl popular iphonesia iphone iphone babygirl io',\n",
              " 'loverly tweet rabbitsofinstagram bunniesofinstagram rabbit hop bounce charlie houserabbit bunnylove rabbitsofig shotoniphone apple iphone plus photography photographer family chuck charles pic twitter com gpw nfuzwh',\n",
              " 'new iphone case happy valentine day iphone case le lucien swarovski crystal pink',\n",
              " 'photo vegan glutenfree apple pie day silly sally pop diner',\n",
              " 'technology advanced day syncing ipod hear second mmlp song fml',\n",
              " 'sweet iphone sweet phone iphone apple candy fun cute beatiful beaty gold good nice photo fo',\n",
              " 'wait finally hand iphonex iphonex iphone spacegray gb apple pic twitter com ogo gkeopw',\n",
              " 'unpacking sony xperia z compact android really really nice first impression pic twitter com blo b osu',\n",
              " 'muoneoz progress bar car key long give another hour still car key cold boot fear dead',\n",
              " 'siri doesnt understand command lol beautiful funny nephew shot iphone igers siri',\n",
              " 'endless love instagram instagood instadaily instahub instagood photoofthaday iphone iphone',\n",
              " 'literally cry lost contact',\n",
              " 'andyvaughan look great wonder available uk b compare apple cloud',\n",
              " 'al fiiiiin laptop sony vaio white black case minnie beautiful inlove',\n",
              " 'dear blackberry occasionally best fruit fall tree worry thou soon best fruit',\n",
              " 'username splinkio thai curry yum food iphone iphoneonly iphoneography picoft',\n",
              " 'yosemite steep hill climb mac kernel issue hour serve well apple update',\n",
              " 'another fuckyou sony p health warning display upon boot',\n",
              " 'brbrrylove shesh told ya stop killing mojo p',\n",
              " 'spend like three hour finally get thing ship new phone selfie samsung',\n",
              " 'advertisement new samsung galaxy gear vr well made commercial feeling',\n",
              " 'lost picture everything phone past year sodepressed samsunggalaxyftw loljk',\n",
              " 'check jewish american single free paid membership available jewish single iphone app',\n",
              " 'follow capetownsup instagram sup surf fun capetown funny sexy samsung pic twitter com oz xt',\n",
              " 'final cut pro trial work yosemite aarrrggghhhh fail makingmylifesodifficultpic twitter com lzs zgi sb',\n",
              " 'really apple delete half downloaded el capitan first mistake usefuckingtorrent',\n",
              " 'hooray stuff arrived excited case android samsung galaxy today open',\n",
              " 'really need new iphone charger mine spaz short constantly piss like apple iphones',\n",
              " 'phone officially broken hear go screen work keyboard okay though samsung',\n",
              " 'deepeshalways ndtvgadgets enough money challenge u jury decision simple an mine apple',\n",
              " 'golden state warrior photooftheday instadaily like iphone follow colorful style',\n",
              " 'installing itunes th time week refuse sync phone',\n",
              " 'slept new iphone last night love iphone atlast',\n",
              " 'father son samsung live laugh life instago instahub instamood instagood',\n",
              " 'happy bday jj bday jj crazyfriend iphone party lb l l likeall likeback',\n",
              " 'pic day quote wisdom word smile follow ortho cute iphone fashion makeup brace',\n",
              " 'want love match iphone buy lovematcher iphone',\n",
              " 'nice one valentinesday playstationasia ad p february playstation sony gamers college',\n",
              " 'portrait shot sonya sonyalpha sonycamera sony sony mm mm dof bokeh market markt hemd schwarz blacknwhite blackandwhite grey smile',\n",
              " 'hacker wifi password android apps beautiful cute color igers iphoneonly iphone',\n",
              " 'extra zoom video android apps beautiful cute color igers iphoneonly iphone',\n",
              " 'phone deleted every single one contact random apple',\n",
              " 'love new baby ipod music apple itunes gold',\n",
              " 'one stevejobs tyrannical reign apple fucking cultist',\n",
              " 'follower thanks inkstagram iphone instagram addiction wordphoto rt dot roche',\n",
              " 'prophet husband iphone android kindle book february',\n",
              " 'upgraded iphone apple iphone iphone instadaily instagramers instalike',\n",
              " 'help deliver happiness child malaysia uai samsung sony toyota',\n",
              " 'something wrong charge phone least three time day getbetterbatteries',\n",
              " 'new samsung galaxy tab like real b tablet smile',\n",
              " 'santa visited wife earlier year see iphoneonly iphone sweden',\n",
              " 'hi world old photo followme like like good dog solodivertimento samsung',\n",
              " 'marque gray swag swagger sky dog cat iphone new followme edit sick paint minnesota gopherspic twitter com ldh lxwg',\n",
              " 'geniusbar suck tube surgery bullshit apple may good product customercare battery',\n",
              " 'happy p sony playstation gta fun design white dualshock instaday cool',\n",
              " 'holy shitbirds watched last night colbertreport apple presentation iwatch creepy idk',\n",
              " 'book good night relax cool perfect book iphone preguntaleaalicia instaphoto',\n",
              " 'photo prosperous new year everyone welcome newyear art drawing sketch samsung',\n",
              " 'one blog video girl amazing fashion ootd beautiful samsung swag videoofthedaypic twitter com p ln unh',\n",
              " 'new iphone o g fucking suck want throw phone wall sm app crash apple iphone',\n",
              " 'baby let love adorn miguel fan artdealer samsung hospital braid smile',\n",
              " 'photo sign peace sign junephotoaday photoadayjune body iphone likeit taken',\n",
              " 'would delet photo vids concert mylifesajoke',\n",
              " 'nobauerm let get hooked fast w iphone u fall promise',\n",
              " 'take evening update two apple device hate itunes hate apple android next round apple',\n",
              " 'audi offer apple android smartphone integration',\n",
              " 'ran buy iphone charger middle night iphone charger iphone apple',\n",
              " 'used apple product year hole accessed old account find way dispute charge',\n",
              " 'photo pic day quote wisdom word smile follow tweetgram cute iphone fashion',\n",
              " 'new york baby new york amazing city big apple summer',\n",
              " 'chasing pavement story friendship family music life destiny soulmates kindle nook iphone ipad ipod',\n",
              " 'irishazada love photography go follow photograpytrick tweet awesome sunset photography iphone htt',\n",
              " 'like share want car accessory bag iphone samsung pic twitter com xhwknjqfyh',\n",
              " 'apple suck every time update o erase private info disable apps purchase like customer friendly approach time go android disappointed',\n",
              " 'goodnight dubai sweet dream life hope joy dubai uae iphone instagram',\n",
              " 'birthday present came advance thank much apple ipadmini iphone lucky',\n",
              " 'saturday everyone look shop great deal dvd bluray vdeogames p sony playstation',\n",
              " 'turkey photography photo travel nature photo landscape photooftheday camera sony pic foto passion behappy pic twitter com mjjnomhpy',\n",
              " 'amigo friend iphonesia iphone instagood instagram photooftheday tweegram',\n",
              " 'thing make reading pink ereader sony use nearly',\n",
              " 'edm life hardwell amor apple avicii acedemy academia b b bogota mac music',\n",
              " 'year shuffle samsung galaxyfamily finally real shuffle like whole new playlist',\n",
              " 'thank u much god christian iphone instagram iphonesia pray thanks popularpage',\n",
              " 'woohoo finally get nx finally camera nx samsung excited nice black peace tha',\n",
              " 'family family friend beauty fun cuties iphone iphoneisa foreveryoung hookahbar onyx',\n",
              " 'happy samsung galaxy note got updated android kitkat version thanks samsung mobile',\n",
              " 'rt sleekdeals hot deal high tech lightning usb cable foot geek tech bot deal amazon home iphone ipad android samsung galaxy google gadget gift io technews power pc dev pic twitter com ykfpf fixe',\n",
              " 'looove amazing beautiful copenhagen creative composer denmark fun f f hot iconic keepthefaith l l mariajensen music original pop producer red rock soul singer songwriter song universal sony warner worldpic twitter com jrdwetxbjo',\n",
              " 'bad sprint carry lumia device least able pick samsung ativ neo windowsphone',\n",
              " 'would like wish amazing day make every minute count tl today iphone accessory news life july',\n",
              " 'ipads new home ipad leopardprint neon ipad apple',\n",
              " 'iphone apps listen drive time hip hop nyc whilst peeling potato kitchen',\n",
              " 'dissatisfied apple iphone splus runner issue filter camera sweat incasearmband',\n",
              " 'love fuck outta kingponder imessage iphone text gay hesa',\n",
              " 'ready chromebook samsung hellokitty diamond shine ready',\n",
              " 'beach group text beach ocean cellphone friend trio iphone cosmosquito karebear',\n",
              " 'last apple watch mm space black stainless steel excited overthemoon didalittleweepic twitter com zznj fjw',\n",
              " 'l ny hug follow like iphone tattoo christmas beautiful newyork',\n",
              " 'slick mindy x id totally fuck siri knowledge excites siri fuckinsiri',\n",
              " 'lol love iphone rt apple fuckedup phone u know u get oh yes pow via kadaf',\n",
              " 'photo new macbook air installed ready perform apple pepsimax ddb taken',\n",
              " 'throw worry fit fab marjdiary samsung fit fabolous smile stayhealthy',\n",
              " 'samsung galaxy plus dual sim g fd gb ram b black florida money today life twitch retweet twitter birthday sale android window nokia samsung iphone phone smartphone motorola lg sony offer best',\n",
              " 'new phone yes please without phone death taking hold sony sorrysamsung',\n",
              " 'speed wifi g g android apps unitedstate cute color igers iphoneonly guitarplayer iphone',\n",
              " 'samsung gear etat comme neuve samsung gear prixhappy occasion cash',\n",
              " 'applenws iphone would trade computer smart phone galaxynote sexy',\n",
              " 'mac o hight sierra buggy little crap jobsdead applenofuture',\n",
              " 'send calendar event invite exchange user user cant accept icloud v exchange apple iphone',\n",
              " 'like iphone get play game lol love angry bird iphone gam',\n",
              " 'phone keep freezing whenever go end call iphone',\n",
              " 'ever since updated phone fucking apple iphoneproblems appleofficlal',\n",
              " 'chicwithatwist team ootd mixandmatch urban style expressyourselfie workshopping samsung galaxya',\n",
              " 'trying hour sync ipod give',\n",
              " 'conversation sister swap sister text imessage iphone chat',\n",
              " 'small blue steemit blue small life story blog try nature naturephotos bug blue color color photo photo photography sony sonylens lens sonyphotography image image photofeed feed follow home gr grassland land',\n",
              " 'photo oh yeah caligurl pretty cute gorgeous beauty ig iphone ignation instahub',\n",
              " 'bought something kahapon walkman sony xempre orange headset haha',\n",
              " 'shadesofmoonlight dress party alcohol night heel iphone leg stripe',\n",
              " 'actually cry screenshot snapchat lock button broken apple',\n",
              " 'egg speaker speaker egg awesome music ipod apple school chilling relax',\n",
              " 'reallyreal app approved iphone ipad dating college college vc singlepic twitter com dzq cxo',\n",
              " 'mychristmaswish last year wish come true course fame friend chocolate food iphone',\n",
              " 'swear iphone update erased everything phone im gunna flip shit',\n",
              " 'yes itunes take time put song ipod wishishadagalaxy',\n",
              " 'rose moon trying help iphone majority usa help adore',\n",
              " 'getting email picture like make life iphone instagram nofilter cute christmas popular',\n",
              " 'iphone wallpaper much full constellation milk way annabelle shermaine want bump',\n",
              " 'drink amazing fruit apple cherry purple tasty drink sun garden',\n",
              " 'blocky car android game news io apple iphone',\n",
              " 'hey guy look new motorola moto e xt nd gen gb simfree money today life twitch birthday sale android window nokia samsung iphone phone smartphone motorola offer bestprice jun',\n",
              " 'cant unlock samsung galaxy ace cause good blackberry although managed unlock samsung vodafone',\n",
              " 'look mommy got p igers ipad apple mom gift instahub instadaily blessed fo',\n",
              " 'apple could make itunes itunesradio bit would fabulous disappointing',\n",
              " 'finally iphone dominated phone apple io android iphonex market chinese smartphone pic twitter com grc hbsc',\n",
              " 'apple hate rant iphone synch outlook entourage darthjobsstrikesagain say apple closed system',\n",
              " 'good morning everyone jam nike iphone apple goodmorning selfie coffee pic twitter com hwxpuracjl',\n",
              " 'rt genevievermrz picture smileykidd tennis today tennis babolat pink iphone black gold green r',\n",
              " 'photo apple ipad iphone imac ibra samsung galaxy instragram instramode smiling',\n",
              " 'senza love without nasimibeach compleanno birthday hb apple sun iphone',\n",
              " 'dear apple thank selling dollar laptop date year able run diablo p',\n",
              " 'convenient iphone stopped working completely le month warranty ended mad apple',\n",
              " 'purpose life live life purpose mondaymotivation iphone ipad io mondaymotivation',\n",
              " 'paris iphone photo chronicle violence horor paris iphone poster wall einstein answer',\n",
              " 'apple rolling verizon iphone valentine day sale',\n",
              " 'bobinson twitter tehran photography affliate marketing iran iphone ruby obama osama saddam iraq google adwords',\n",
              " 'happy new year newyear reveillon happynewyear newyears year nouvelleannee nouvelleann e instagram instagram web webmaster webdesign elodiewebdesign apple mac macbook macbookpropic twitter com mzcxkjuwqf',\n",
              " 'sunday tranna cram work sunday mac macbook samsung mom work life',\n",
              " 'hi apple thanks gig retarded fuckup recycle free apple iphone headphone nah io whatev',\n",
              " 'lmprodevents present stage home show pop musician rock hardrock sound live sbamfest festival italy torino turin guitarpractice gig event music guitar metal stratocaster apple iphone socialmedia club sneak life band rt webzine ffpic twitter com pmivqqvdxy',\n",
              " 'learn smoke smoke painting iphone art life green inocentes',\n",
              " 'indulge swim tomorrow american seasonalcrisp apple blueberry lemon caramel th see beach closed monday',\n",
              " 'gunslugs android game news io apple iphone',\n",
              " 'tried instagram yet reason give whirl iphone',\n",
              " 'delicious morning friday smoothie nutribullet tasty apple orange banana honey pic twitter com wautkfgi',\n",
              " 'wait long another apple fail come along itard appear',\n",
              " 'reflect iphonesia iphone instagood instagram photooftheday tweegram iphoneonly far far away',\n",
              " 'hi new phone cover ebay blue tower samsung',\n",
              " 'alternative power fix apple cinema display priceless take random volt power connector finish easy pic twitter com ycug wjopq',\n",
              " 'new phone iphone iphone new phone mine silver white exciting',\n",
              " 'thanks oneplus de oneplus still providing update oneplus android never experience mobile oneplus',\n",
              " 'iphone seem confederate flag emoji little flag section change southernmen ga al',\n",
              " 'photo new addition family instapic life samsung april spring cali',\n",
              " 'fucking apple man wanna use wifi telling use wifi apple',\n",
              " 'take look samsung cool see dream initiative samsung iseeyourdreams soccer kid fun',\n",
              " 'hour usage phone thanks iphone apple',\n",
              " 'tablet using google android system accounted market apple io achieved androidalltheway',\n",
              " 'downgraded phone backup compatible version retained phonebook going upgrade',\n",
              " 'spell check mistyped quickest quackiest alternative often people use word',\n",
              " 'dude th usb chord thats broken past month',\n",
              " 'one newest model iphone iphoneography tumblr tweegram instagramaddict life thingsilove',\n",
              " 'new samsung galaxy advance case get best friend madelief thank',\n",
              " 'yey thanks dad xperia sony z xperiaz gift graduationgift',\n",
              " 'follow capetownsup instagram sup surf fun capetown funny sexy samsung pic twitter com ttjru zxzh',\n",
              " 'anyone else trouble iphone update taking age run new camera stuff',\n",
              " 'gain follower rt must follow follow back follow everyone rts gain iphone sougofollow f',\n",
              " 'welcome world iphone iphone iphone apple life cny',\n",
              " 'iphone block number call every day ppi etc possible old nokia',\n",
              " 'hey appleofficlal schedule appts never honor never time frustrated theirempsareemps',\n",
              " 'uninstall samsung ky get android file transfer working macos option worked',\n",
              " 'gain follower rt must follow follow back follow everyone rts gain iphone sougofollow rfj',\n",
              " 'photo yea bro fifa day dope iphone instagood instagram p picoftheday instaphoto',\n",
              " 'finally get something apple american get rogers bell telus',\n",
              " 'fib rhyme sib nib jib bib rib dibs start today rhyme iphone',\n",
              " 'oneplus finally fixed fast efficient thx oneplus',\n",
              " 'thought would fun jailbreak ipod sitting restoring factory setting apple jailbreak',\n",
              " 'love fucking ipad rednose musicevideo blackfriday walmart apple ipadmini',\n",
              " 'people iphones keep showing',\n",
              " 'follow capetownsup instagram sup surf fun capetown funny sexy samsung pic twitter com gfkco mqm',\n",
              " 'photo meanwhile twitter samsung galaxypocket samsungcheerdance blessed instafun',\n",
              " 'samsungmobileus honored using first ever stock mine stockpile thank samsung stockmarket stock stockport stocktonscholars investing apple stockpile samsung positivevibes stocksmarket investor investment',\n",
              " 'happy mother day mom mothersday iphone igdaily instagood iphoneonly bestoftheday',\n",
              " 'rt lorimoreno married go rt sharonhayes healthy dating app iphone',\n",
              " 'follow capetownsup instagram sup surf fun capetown funny sexy samsung pic twitter com odosytgabd',\n",
              " 'cant iphones option change font like want cute girly one thats option sorry ugh',\n",
              " 'using loving instagram upgrade introduces powerful new feature iphone app',\n",
              " 'apple iphone x apple iphonex techjunkie tech iphone upgrade youbeauty beaut',\n",
              " 'reason get iphone b c supercool case especially one bottle opener back',\n",
              " 'solid gold retro christmas video ff friend gratitude ipad iphone blackberry entrpreneur',\n",
              " 'yes finally got nougat update samsung edge woke battery using slept compared',\n",
              " 'unboxing new smartphone op oneplus oneplus amazon excited wala feelingpic twitter com cschj erex',\n",
              " 'small garden steemit small garden home life look story photo photo photography image image wow cool like sony sonylens sonyphotos sonyphoto sonyphotography photofeed feed new top colorchallenge',\n",
              " 'new video youtube subscribe daily vlogs twitch gaming twitch p xbox sony game destiny dance',\n",
              " 'hate phone ipod take battery much iphone',\n",
              " 'new one yey babypink pink otterbox samsung phone phonecase cute new',\n",
              " 'would like wish amazing day make every minute count tl today iphone accessory news life june',\n",
              " 'water summer summertime pool countryhouse countryside xperiaz sony',\n",
              " 'trying instagram iphone iphone iphoneography imissyou longdistance sad',\n",
              " 'first yellow steemit yellow nature color color new story blog photo photo photography image image sony sonylens sonyphoto sonyphotos sonyphotography photofeed news top wow cool like look color colorphotography',\n",
              " 'good woman might iphone smash phoneunlocking motorola india uk canada kenya smartphone motorola wikomobile europe france relationshipgoals',\n",
              " 'anyone know ipod turn tried charging nothing hateapple',\n",
              " 'munchhhhhh chocolate instagood iphoneonly iphone dairymilk cadbury oreo tasty girl',\n",
              " 'tell u supacamx amazing new live camera effect app iphone',\n",
              " 'new cellphone case samsung galaxy cute case rilakkuma bear new phone super',\n",
              " 'headphone sony red headphone music igerspiura c c real plaza piura',\n",
              " 'photo healthy balloon survivor haha agoogler googlemmi google colorful motorola fun',\n",
              " 'photo iphonesia iphone instagood instagram photooftheday tweegram iphoneonly igers',\n",
              " 'get new ipads one care map mac',\n",
              " 'night day split night day effect science iphone valencia spain picoftheday photooftheday evening',\n",
              " 'finally oneplus arrived excited thanks oneplus oneplus brandnew cellphone',\n",
              " 'awesome friendship best otherhalf iphone imessage biff text',\n",
              " 'get anyone help applestore everyone busy say hello procedure wait helped',\n",
              " 'snapdeal used order soemthin every alternate day see u sent defective sony tv bro',\n",
              " 'phone plugged night long didnt even charge annoyed',\n",
              " 'since iphone come went got earpods',\n",
              " 'cooge beach hafizh instamood like like samsung camera instaphone cooge beach',\n",
              " 'drshwetapuri apple working iphone running io nt iphone flopshow enough reason p hey fan',\n",
              " 'lol nicked rt iamnickd say hateapple android picoftheday photooftheday insta instagram',\n",
              " 'baby finally got newphone galaxy samsung smartphone android galaxy tmobile',\n",
              " 'wrap fish mexican mercatometropolitano londonfoodies london diningout market indoors instafave igdaily instagood photooftheday vsco photography london iphone ifttt instagrampic twitter com qhrdo b rm',\n",
              " 'iphone bugging like day finally back track though start catching tweet soon much love',\n",
              " 'follow capetownsup instagram sup surf fun capetown funny sexy samsung pic twitter com g pyufti v',\n",
              " 'highlight week neues smartphone smartphone huawei samsung baby handy neu handykauf pic twitter com vvus eabjy',\n",
              " 'cristiana carpe followsunday followback rt teamfollowback follow retweet iphone keep ya thing',\n",
              " 'change finger id every f king day want feature recently officially thebrand notthefruit',\n",
              " 'fur ball dog rescuedog cutenessoverload photooftheday instagood picoftheday pic sony pic twitter com dw dlvo',\n",
              " 'top photo app available photography usa woman poem valentine iphone k rlek',\n",
              " 'hate apple twitter app doesnt work anymore bcs ipod old new update apple',\n",
              " 'went apple store got back iphone replaced',\n",
              " 'summer time sonya ii family photooftheday cute capture followme beautiful prilaga photography picoftheday instadaily sony sonyalpha shot film photo fashion fullframe girl artpic twitter com ba ejzfct',\n",
              " 'future cell watch awesome samsung android phone watch followme cute',\n",
              " 'bonding time rakim sexychelly orangecafe apple miglight friend',\n",
              " 'finally got macbook finally apple mac macbook computer firsttime excited laptop lulipeacepic twitter com ba dhyuad',\n",
              " 'litetally one week iphone fuck yes',\n",
              " 'iphone sexy girl ohmann hab ich langeweile nerd',\n",
              " 'redeem promocode io iphone game playing free today art indiegame unity art puzzle fun pic twitter com nxtrvqdwpo',\n",
              " 'love cat cat cute cool likethisphoto instaphoto instalike iphone iphonisia jj',\n",
              " 'summer burgundy sunday afternoon smile picoftheafternoon ig sony',\n",
              " 'apple fucking stupid pay plus tax get help phone telephone apple',\n",
              " 'prophet husband iphone android kindle book march',\n",
              " 'funny story picking apple laughter laugh smile applesauce summer apple harvest',\n",
              " 'time come bride sister sony proud family indonesia jakarta grand asia',\n",
              " 'look like andrewmccabe going prison thejoint thebighouse apple cigarette theyard thepokey bigbobbasmansion get ready hardtime douchebag vaseline lipstick fuckedinthe prisonbitch lockandrewmccabeup loser as',\n",
              " 'phone freaked picture note',\n",
              " 'gain follower rt must follow follow back follow everyone rts gain iphone sougofollow hrhp',\n",
              " 'iphone pricereduction touchid g nfc contactless payment tech mobilepic twitter com hpz xfzn',\n",
              " 'excited little arrival today samsunguk samsung gearfit freebie healthstartpic twitter com sy gcelm',\n",
              " 'iphone itunes pissing might well restore whole phone start right hateiphones hateapple fthis',\n",
              " 'happy friday sticker app preview promised enjoy bright boost appstore sticker io imessage iphone ipad family friend gifpic twitter com yz ttdswpv',\n",
              " 'finally iphone shatters month contract wehadagoodrun',\n",
              " 'furr tree nyc ny vscocam vsco sony sonyalpha riii mm manhattan nike',\n",
              " 'roast pork definately apple sauce steamed veggie mash menu evening scrummy double s oh far concerned cheesefreak sauce well veggie sunday',\n",
              " 'waiting wait cute afternoon iphone picfortoday dog chiwawa',\n",
              " 'brad boxberger nearing return ray news photography fashion health fail tech ipad iphone funny l pic twitter com neh cbqwp',\n",
              " 'pretty amazing feeling phone need charge day iphonex iphone sucked apple theshit',\n",
              " 'good free fruit woolies woolworth banana apple orange fresh',\n",
              " 'apple brings thing want course magickeyboard',\n",
              " 'happiness make better person kiss girl pic samsung photooftheday',\n",
              " 'cute heart custom ipad iphone case valentine day via reward life',\n",
              " 'refreshing fresh salad take enjoy meal apple io smartphone',\n",
              " 'iphone plus iphonex user experience nightmare',\n",
              " 'library paula vogel news photography fashion health fail tech ipad iphone funny lolpic twitter com yk fbch c',\n",
              " 'say hello new camera sony f videoproduction filmmaking sony f bts',\n",
              " 'happy fit style friday money samsung wels sterreich lifestyle herbst',\n",
              " 'moschino iphone case new baby inspired inlove fancy fashion luxury boylikeboys',\n",
              " 'black outing wednesday dont think bad gambateh note samsung asian yan lovely home',\n",
              " 'pc exquisite squishy random charm iphone strap toy decor free shop style sale today giveawaypic twitter com bpgjry g e',\n",
              " 'iphone iphone apple avtweeps avtweetup hot follow friend summer',\n",
              " 'gain follower rt must follow follow back follow everyone rts gain iphone sougofollow ff f l',\n",
              " 'loving cake day brighton got propper lush chocolate beetroot cake apple cake chocolate raspberry cheesecake plus butter shortbread biscuit go coffee fancy',\n",
              " 'new tv bedroom happy samsung smart tv new',\n",
              " 'last day vote dabball round art game app iphone ipad itunes apple karma bribe browniepoints',\n",
              " 'absolutely love sony music cam recommend sony musiccam viola photobyclementino',\n",
              " 'get iphone popular pure shite android far best smartphone',\n",
              " 'hate iphones impossible use g lte theworst cantdeal',\n",
              " 'hateapple update work causing computer restore ipod fml',\n",
              " 'scroll twitter facebook like min phone go seriously iphone iphone batterysucks',\n",
              " 'came home mac case front door winning apple pink matte frosted',\n",
              " 'installed icloud computer wiped outlook contact calender',\n",
              " 'coming soon human hue apparel humanity goodvibes apparel fitness fashion igers streetwear skate surf iphone sport tgifpic twitter com oifg dpxr',\n",
              " 'seriously migration assistant seamless fml firstworldproblems apple epicfail',\n",
              " 'gain follower rt must follow follow back follow everyone rts gain iphone sougofollow znjq',\n",
              " 'follow capetownsup instagram sup surf fun capetown funny sexy samsung pic twitter com oiajffndhv',\n",
              " 'word fuck still turn duck iphone swear fucking know better pottymouth',\n",
              " 'wind tree haveaniceday french mothersday timelapse shotoniphone iphonex pic twitter com ldt gse g',\n",
              " 'sunflower make nature flower sunflower yellow summer sevastopol samsung nxmini',\n",
              " 'razr new estreno motorola razr razrd felicidad smile emocion instapic',\n",
              " 'iphone totally amazing iphone io apple amazing phone tech music iphone plus gold mobile',\n",
              " 'drshwetapuri apple working iphone running io nt iphone flopshow enough reason p eh',\n",
              " 'love bff friend brazilian cute fashion mylife tweegram iphone instalovers photo',\n",
              " 'warning poke sleeping giant cute aww rt ff iphone android',\n",
              " 'new lock screen home screen hehe lockscreen homescreen iphone iphone everyminute lifepic twitter com gqvkyno ax',\n",
              " 'great pointless apps even want taking storage space even thanks apple',\n",
              " 'drinking coffee reading free iphone app jesus awesome god godbless',\n",
              " 'aww thank much m harlem nowplaying wake next savvysossa downloaded uploaded iphone',\n",
              " 'applenws apple shitty io made everyone phone suck as',\n",
              " 'good tab back week samsung tablet',\n",
              " 'hateapple wasted hour life paying get new battery iphone rigged drain battery life apple thx time switch android iphone',\n",
              " 'going back iphone seeing fund added account workonline cashregisterrip',\n",
              " 'new hoesje samsung galaxy lll vistaprint affie white lv',\n",
              " 'retweet follow rt followback gain rt iphone sougofollow ff',\n",
              " 'nickii orange pictureoftheday samsung samsunggalaxys galaxy blonde haare',\n",
              " 'swear god going throw phone fucking bus stop lagging every two fucking second io apple',\n",
              " 'apple messed made new charger iphone really messed using iphone apple',\n",
              " 'oh hi baby new phone finally samsung galaxy excited abouttime yaay baby',\n",
              " 'jo salmon hammer shotgun load green paint splash pretentious store donotfallfortheirlies',\n",
              " 'use iphone htc uk one go th repair hopefully straightforward replacement time',\n",
              " 'funny thing window sue apple copying apple one allowed teamwindows teamandroid',\n",
              " 'hateapple trying get newer version way l nothingworkswithme',\n",
              " 'know going love galaxy stoked samsung byeiphone',\n",
              " 'yeah finally samsung galaxy samsung white',\n",
              " 'picture phone dunno thought looked cool picture memory iphone',\n",
              " 'hooked ipod da fuck music go',\n",
              " 'leftocentre gaycarboys slsandpet capitalteacher gusface redux hey type iphone',\n",
              " 'working hehehe america instagood selfie mac apple coffee vidadura verynice',\n",
              " 'youtube subscribe daily vlogs twitch gaming fun p xbox sony game bungie destiny destiny ign',\n",
              " 'follow play jhawk iphone ipad ipod free game fun kansa georgia',\n",
              " 'apple family garden happydays day apple garden ly flower kitchen',\n",
              " 'upgrading imac lion made smile really max memory gb apple fastandfurious',\n",
              " 'steve job god world would addicted technology anyways tried give better version steve',\n",
              " 'new case lurv new case iphone selfie summer instgram hot wait',\n",
              " 'new phone setup last could also explain absence evening lol nice shiny iphone x get used larger screen smaller phone compared iphone iphonex apple pic twitter com hb npg f',\n",
              " 'mac o x io beta itunes beta feel fresh n updated set lion set io itunes apple',\n",
              " 'mac o x one moment wallet come back minute wwdc apple osx',\n",
              " 'fuck hate itunes garbage program using window crash find device apple',\n",
              " 'live rizkyff rzkyff holiday forest dreamer lightroom adobe sony jakarta indonesia instaday photoshoot photography instagood followme photooftheday',\n",
              " 'molecule rhyme cool pool tool mule jules pules dont miss rhyme iphone',\n",
              " 'happy valentine day czarinagizelle samsung heart day couple phone red favorite',\n",
              " 'chicagonow exactly cosmic yet concrete force flight life iphone mri brain',\n",
              " 'kieran nisbet think haha staff rude letter lengthy one rant btw sorry hahahaha',\n",
              " 'check new flappy bird highscore flappybird highscore iphonesia samsung galaxy bird game pic twitter com vk vhmkfy',\n",
              " 'sony xperia z unboxing newphone freeupgrade sony xperiaz sexybeast excited gadget newtoy',\n",
              " 'michelle came home tcot nascar theater movie single ipad iphone window',\n",
              " 'go back favorite samsung galaxy',\n",
              " 'working day really long apple pic twitter com ynkbs xbf',\n",
              " 'happy birthday pap samsung live laugh life birthday instago instahub instagram',\n",
              " 'one update new itunes bug updated let ever get itunes computer',\n",
              " 'bonding paupaubanana bonding cam tired fun bb iphone case greenhills',\n",
              " 'apparently painful hour go say io apple staytuned pic twitter com rgjiklyw h',\n",
              " 'sunset one minute ago zeeland dezeekust buienradar samsung sunset stormhour omroepzeeland rtpic twitter com ar ocmqb',\n",
              " 'hey guy look motorola moto g plus gb gb lunar grey money today life twitch birthday sale android window nokia samsung iphone phone smartphone motorola offer bestprice jun',\n",
              " 'say hello new phone samsung galaxy edge hype new awesome smartphone',\n",
              " 'apple tv amazing spend money enjoy life apple tv',\n",
              " 'ring kerry get samsunggalaxys last age use constantly',\n",
              " 'appleofficlal genius asked everything backed said said well shame ripoff',\n",
              " 'meet sony newest employee sony newjob smile electronics dope sony store',\n",
              " 'pronounce generic mexican rt tothemax justout warlike doggy apple modest g',\n",
              " 'link bio apparel everything else use code blackfriday iphone tee tanktops tshirt top hoodies tshirtdesign tshirts tshirtdress pillow instagood tbt cute tee apparel girl boy fashion locan',\n",
              " 'beat mistake apple answer racist troll comment undertone aside apple earpods',\n",
              " 'birthday gift aunt happy mybirthday gift sony camera love',\n",
              " 'audio proverb app english italian listen repeat record listen learn iphone ipad',\n",
              " 'yeah io soon badbadnotgood apple pic twitter com zfxqo v l',\n",
              " 'early christmas gift sweet husband galaxy galaxyphone samsung',\n",
              " 'haha instapic kmrpocket sony scholl freecllas kanesma follow like mention follback',\n",
              " 'problem samsung galaxy froyo well lagfix',\n",
              " 'fu ing hate itunes screwed display driver updated fail',\n",
              " 'head hop new game coming soon news gaming gamedev game videogames apps iphone android indiedev io android unitypic twitter com j mnt b j',\n",
              " 'second time week want get rid ipone apple',\n",
              " 'photo quote day quote wisdom word smile follow tweetgram cute iphone fashion',\n",
              " 'finally milanese loop watch apple watch tech gadget fashion bracelet',\n",
              " 'aka forrealdoe workout train geefilmworkz greeneyedent cinematography photography iphonex zeiss movie motivational documentary mensstyle finalcutpro j',\n",
              " 'bmarie followsunday followback rt teamfollowback follow retweet iphone keep ya thing',\n",
              " 'makeup show nyc nyc makeup instagram iphone iphoneograpgy iphonesia picoftheday',\n",
              " 'anyone updated io know pain past hour killingmyself',\n",
              " 'tan check tan spring april fuckyou dope sick apple shirtless skinny workout iphone instalo',\n",
              " 'gain follower rt must follow follow back follow everyone rts gain iphone sougofollow ff lk',\n",
              " 'one love photgraphy sony xperiaz selfie mylove sunny paradise dayoff cute',\n",
              " 'photo day sun nikon apple iphone photo try go pro followme',\n",
              " 'deleting email useless new phone hateiphones',\n",
              " 'boyfriend new song instasize iphone lol hereitis itunes florida chrisbrown',\n",
              " 'samsung engineering building photooftheweek weekend springday weekendday walkingday samsung en',\n",
              " 'rt cook jk cook jk cooking jk japan apple pie f f sweet',\n",
              " 'shopping day starbucks coffee like like nice instagood aruba instagood iphone',\n",
              " 'set almost done newtv samsung black massive',\n",
              " 'main reason hateapple io bullshit sooooo annoying inconvenient time ipad think explode every update',\n",
              " 'catch family southerngirlproblems family cousin iphone',\n",
              " 'even picture apple apple red fruit yum heathy hashtags uggghh annoys lol',\n",
              " 'new case hanogramcase martyarchs case name iphonex name fashioncase fashion',\n",
              " 'architecture design tag friend architecture design design contemporary architecten architect arquitectura iphone mimar mimarl k araba car car instaarchitecture concept architektur architecture luxury archite',\n",
              " 'iphone like thinner better battery life',\n",
              " 'apple applesucks apple applehate u u suck playlist free annoying la pic twitter com pvrkmwgzcf',\n",
              " 'getting galaxy week yipeeee android allday everyday hateiphone',\n",
              " 'katewhinesalot love ipod avoided protest apple suck',\n",
              " 'bye bye samsung time sonyxperiac white thanks pocketmoney eon pune kushpatel kp rrrishabhrathod',\n",
              " 'android taking apple rightly iphoneis macsare',\n",
              " 'hard work word search applebees dinner kid iphone instamood fun instafun',\n",
              " 'amazon prime day everything need know amazon amazonprme sale deal shop onlineshopping discount free buy ad gift birthday family news tech iphone holiday christmas like like viral girl mom summer travel food',\n",
              " 'lost number photo phone apple',\n",
              " 'fuckyou apple connecting itunes keep bull try get buy iphone get rid',\n",
              " 'love bathroom sohohouseberlin sony suite hello xperiaz',\n",
              " 'creativestore cheer ordered bluetooth bundle looking forward getting creative',\n",
              " 'holy crap look new iphone sexier look apple iphone',\n",
              " 'iphone samsung phone everlunastore via etsy galaxy phonecase',\n",
              " 'one human family pakistan humanrights india un iphone',\n",
              " 'periwinkle blue wooden bird feeder gardening gift scottish gift bird apple numonday womaninbiz handmadehour tweedvalley bird garden gift giftidea scottishborders apple green blue eco crafthour',\n",
              " 'free tablet today winning sundayfunday samsung technology tablet newtoy awesome',\n",
              " 'came home new inch flat screen tv dreamhusband samsung berlin tv',\n",
              " 'mayralovee pactaughtme would new wireless provider iphone link ah',\n",
              " 'happy girl galaxy teamgalaxy teamandroid samsung yayy awesome thebest',\n",
              " 'back service gayboy gayguy enamorado gayman newphone note samsung galaxy mihouse',\n",
              " 'man apple itunes serious download da fuck wrong',\n",
              " 'photo incredible teighlorkearney pretty cute gorgeous beauty ig iphone ignation instahub',\n",
              " 'must go job done spread happiness order reveal ff quote twinagoya japan twc iphone haiti support',\n",
              " 'yeeee new phone cover arrived phone iphone cover boxer marcjacobs dog black white',\n",
              " 'xperseguers thx try doubt rsnapshot backup hope keep data',\n",
              " 'honestly probably spent least fixing fucking iphone screen hatemyself',\n",
              " 'sony killed gtav public apology wont bring back excidement unraveling plot thank much',\n",
              " 'jump joy chihuahua dog puppy joy run sony portrait animalpic twitter com szkogwa r',\n",
              " 'smile smile girl vacation bokeh sony color vsco lisboa warm sun sunny',\n",
              " 'bacterial rhyme real serial cereal apply rhyme iphone',\n",
              " 'dragon ball xenoverse sale p cool best anime sony androidinstagram nana mmorpg meme po',\n",
              " 'yaaammmm russianbbq bbq nature fun endlesssummer samsung nxmini',\n",
              " 'photo showing love favorite grammers u romp wit dem u romp wit iphone',\n",
              " 'first picture samsung notebook girl samsung notebook birthday june instaframe',\n",
              " 'christmas glitter aztec design via redbubble redbubble freelance iphonecases iphone tshirt christmas',\n",
              " 'spent hour trying fix broken phone today still broken hateverizon',\n",
              " 'flag photo frame android apps beautiful cute color igers iphoneonly iphone',\n",
              " 'love photography photography nikon nikonistas iphone iphone funny timburton stainboy toy doll',\n",
              " 'time paint bad boy paint beanboots ryobi dewalt namaste yoga yogapants yogaposes king kregjig u pose clarksville iphone clarksvilletn yo tool coke pepsi family frost victory victoriassecret rust rustic woodcarvingpic twitter com iaelrvqnxg',\n",
              " 'right shoutouts indian malayali fun tbt tb tagging photography iphone user',\n",
              " 'le hour left iphone countdown cantwait byebye apple',\n",
              " 'fallout goty buck steam today mean playing whycruelworld',\n",
              " 'appleofficlal thanks helping fix app app issue easily yesterday great apple iphone',\n",
              " 'apple support crap use calling told pay maybe get help hateapple smh',\n",
              " 'sir please visit fiverr profile helpful profile thanks shopify news sport health trump usa russi food iphone android',\n",
              " 'cuddled floor snowday tv drwho relaxed sony appletv',\n",
              " 'using apple product time like watching ugly girl form guy ontop fone number',\n",
              " 'go apple store fourth time wednesday gettingold',\n",
              " 'bestfriend kennylutz alydiano love venice california iphone iphonesia iphoneography califo',\n",
              " 'reposting alexx lucero photooftheday instamood cute iphonesia fashion tbt igers picoftheday food instadaily iphone pic twitter com dtaxttip',\n",
              " 'gain follower rt must follow follow back follow everyone rts gain iphone sougofollow ff z x',\n",
              " 'upgraded samsungmobile galaxy lte yesterday chuffed awesome phone samsung galaxy',\n",
              " 'armani shade samsung alcohol ilove purple pink nonsense bwahaha pic twitter com cbwrhkce',\n",
              " 'oh thanks apple wiped phone said everything normal backed everything gone twat',\n",
              " 'koncno je prisel moj iii nazaj servisa happy child back social medium p phone samsung siii onlineagain',\n",
              " 'tell phone going crash want unjail break fucking course let justmyluck',\n",
              " 'tbf trip visitthecounty tourist travel travelblogger travelphotography picoftheday photography photooftheday iphonex sky summer hot',\n",
              " 'super slow mo samsungs plus samsung plus travel travelled travelling slomo superslowmo fun tweeterindia india indianpic twitter com jsmf',\n",
              " 'shatterproof going punch someone face pieceof apple iphone notw',\n",
              " 'yeapp phone nice camera got skill opo oneplus socal rain',\n",
              " 'apple itunes wtf burned cd x x cutting burned another one nero x problem',\n",
              " 'wow super pumped got new ipod put anything cuz macbook say download new itunes apple wtf',\n",
              " 'apple map dark knight parody movie hd via youtube love microsoft',\n",
              " 'aliciamamo manage dropped mine week ago broke top gl bit told fix tho',\n",
              " 'fucking hate apple like thanks deleting shit',\n",
              " 'follow capetownsup instagram sup surf fun capetown funny sexy samsung pic twitter com h btxrucg',\n",
              " 'lesson download font free io design photo learn junior graphic designer course channel apple iphone ipad applewatch dubai tech madewithover apps bestofover design graphic graphicdesignerspic twitter com pq ows',\n",
              " 'izzi orbit iphone delivers top notch photography izzigadgets orbit photolife topnotch iphone',\n",
              " 'awesome phablet note duo note note samsung',\n",
              " 'photo could linger day melt word instagram twitter iphone night',\n",
              " 'samsung chief mobile dj koh trade phone lost saving year drowning crap company help trade value new phone samsung samsungdontcare dontcare wft screwyoupic twitter com yapgybhon',\n",
              " 'new apple app iphone keep crashing sometimes restarting device trying play mix update suck apple',\n",
              " 'well took time arrive much love new ipad thank mr job technology apple',\n",
              " 'little robin hatched easter monday using sony rx iii sony natgeotravel natgeo memphisbotanicpic twitter com iopclziban',\n",
              " 'love really make silly thing iphone wedding weddingcake macaddict nerd geek apple mac',\n",
              " 'english portuguese audio proverb app released listen record learn language wisdom iphone ipad',\n",
              " 'new baby p gaymer micromania destiny p white sony playstation gaming game',\n",
              " 'iphonex lifeproof case take bomb shower selfies selfie gay instagay gayman scruff pride nofilter joy peace',\n",
              " 'follow capetownsup instagram sup surf fun capetown funny sexy samsung pic twitter com muxywcolqu',\n",
              " 'got pocket full happiness capture excited white new camera sony nex rl',\n",
              " 'think gonna delete pic phone pic iphone full pic instadaily instagood summer',\n",
              " 'happy announce entire store use coupon code cross sell iphoneonly iphone iphone musthave instacool shop shopping onlineshopping instashop instagood instafollow photooftheday picoftheday otstores sma pic twitter com xq nsb fi',\n",
              " 'designed apple california iphonex apple iphone appleaddict beautiful',\n",
              " 'scary connection guy iphone lady might need insert versus getting ur nuvaring hook bait',\n",
              " 'marketinguk thnx email today chance android version would make reconsider ending subscription please',\n",
              " 'finally managed get new battery phone feel like upgrade samsung galaxy',\n",
              " 'teresa giudice head back court news photography fashion health fail tech ipad iphone funny lol',\n",
              " 'finally part iphonegang iphone c iphone tooexcited pink mylittlebaby follow',\n",
              " 'sony bottom heart would like say sonymobilenews update',\n",
              " 'firstpresent firstlove dating penguin necklace jewelry mine shiny ig igers iphone pho',\n",
              " 'look got today dying samsung phone',\n",
              " 'hateapple music whether download music import music compilation say album want see',\n",
              " 'scottiwata saying people micro wave ipads totally agree',\n",
              " 'egg crusher android game news io apple iphone',\n",
              " 'couple picture took photography samsung galaxy k zoom pic twitter com dx vnz oys',\n",
              " 'apple bee flow hour made dollar n tip gotta eat good im starving nice steak koming',\n",
              " 'reposting lexzaronis walk door side find magic explore landscape photographer beautiful outdoors getoutandexplore slowingitdown ludapix photography beautiful england apple mac macbookpro hashtag nofilter igers nikkorpic twitter com yetsust',\n",
              " 'must story camera nikon sony picoftheday free time',\n",
              " 'unraveling another mystery wired apple headphone grassroots grassroots kava house',\n",
              " 'love sony flat screen sony audio unit sony p use different remote given moment',\n",
              " 'wish shoutouts indian malayali fun tbt tb tagging photography iphone',\n",
              " 'despise iphone apparently enough room io deleted loadsa stuff still enough apple',\n",
              " 'gain follower rt must follow follow back follow everyone rts gain iphone sougofollow f k',\n",
              " 'repost bowdapr bow bros perfection bow bowlover iphone bowdapr want',\n",
              " 'analog measuring apparatus like old barometer haveaniceday french mothersday shotoniphone iphonex pic twitter com gchijyt zg',\n",
              " 'happy born day u birthday sibling brother apple iphone',\n",
              " 'job search remixed june th jobpounce iphone sinanews lastfm music hiring',\n",
              " 'favs family life familytime insta instamood iphone snapshot moment picoftheday',\n",
              " 'follow capetownsup instagram sup surf fun capetown funny sexy samsung pic twitter com e wtofg h',\n",
              " 'guess work frankwilliams ru b weekday selfie friend foe friday iphone spawn r art purpose nature humanity piano music friendspic twitter com ak uzij r',\n",
              " 'photo lunch time diet fruit watermellon apple melon yumyum instadelicious instasexy sexy',\n",
              " 'want new ipad new iphone wait money apple',\n",
              " 'shiny new apple store open kingston upon thames apple shiny gadget',\n",
              " 'road road new skirt flower flowerpower mirrorpic new phone samsung',\n",
              " 'photo quote day quote wisdom word smile follow tweetgram cute iphone fashion',\n",
              " 'work properly anymore got little bit angry apple pic twitter com gzv hkgf',\n",
              " 'freddie tom uk general picture good god nice day family today rain sony sonynex n v',\n",
              " 'oneplusone beast phone finally bought one get hand enjoyingmyself thankyou oneplus inlove',\n",
              " 'photo screenprotector hellokitty bow superkawaii cute ahhhhhhh iphone mirrorpic',\n",
              " 'planeis dont know happened reinstall apps oh doesnt accept wifi password anymore apple',\n",
              " 'thankyou christmas present samsung galaxy note brunch mine newtoy igers four ate five',\n",
              " 'rt amplicatetl iphone people agree iphone page iphone',\n",
              " 'bought tablet ipad yeah get lack brainwashing controversial',\n",
              " 'follow capetownsup instagram sup surf fun capetown funny sexy samsung pic twitter com e b ozhk',\n",
              " 'shesofficiall followsunday followback rt teamfollowback follow retweet iphone keep ya thing',\n",
              " 'event sony year dressedup sonytv congratulation completing terrific year',\n",
              " 'new year follower technical apple news nfl forex traiding binary iphone ipadpic twitter com wctqerxmg',\n",
              " 'phone thought cute put recovery mode livid iphoneproblems',\n",
              " 'bowbun finally learned pretty cute highbun sweet iphone fashion',\n",
              " 'got phone even two week ago charger cable already work',\n",
              " 'pink glitter visit u bluewater shopping centre iphone pretty sparkle pink applepic twitter com kqjyojnqne',\n",
              " 'got new apple iphone today apple iphone iphone gold fanboy thrilled',\n",
              " 'new little baby macbook macbookpro retina apple luxury proud lady gaga',\n",
              " 'surprise cd delivery chrismuso today happydays pharrell girl newmusic sony cd',\n",
              " 'hey siriouslysusan thanks follow voicemail message iphone',\n",
              " 'didnt get iphone ahahahaha jk someone got samsung galaxy phone',\n",
              " 'best offer universal smartphone car air vent mount holder cradle compatible iphonex geek tech bot deal amazon home iphone ipad gadget gift io car bike android samsung galaxy google pic twitter com wrc ybtrgt',\n",
              " 'outing vocation newyear trip thailand khaoko ilce sony vsco snapspeed',\n",
              " 'another customer thanks maratavision speedy delivery sony k projector set cinema nightspic twitter com meymjeqs e',\n",
              " 'merry christmas new camera samsung nx camera video christmas finally',\n",
              " 'flower spring flower spring natura nature naturelovers explore f f fun iphonesia iphone cu pic twitter com p misdvdp',\n",
              " 'every time say getting new emojis get hope apple',\n",
              " 'paid college stock market thank apple aapl crossing mark',\n",
              " 'mccabeant people would call fuck hashtag yourfirsttweet apple picture insta',\n",
              " 'hp hpbizanswers hpnews hplabs please make smartphones w webos palm died android sstinkybad',\n",
              " 'samsung next phablet might best display ever seen phone via yahootech galaxynote samsung',\n",
              " 'make work pretty feel like work ilovemyjob happiness mac apple mpls',\n",
              " 'hey guy look samsung galaxy midnight black gb money today life amazon birthday sale android window nokia samsung iphone phone smartphone motorola offer bestprice jul',\n",
              " 'new year get free minute call country android iphone samsung htc lg promo code twfree',\n",
              " 'iphone ksa kuw kuwait q qatar u uae usa iphone apple sale sfssale fun follow',\n",
              " 'barely game even release online multiplayer sony multiplayer online p playstation psn',\n",
              " 'check new baby instagram mextagram gift camera samsung buen fin red',\n",
              " 'new phone new phone sony xperiaz black swag instapic instashot novi',\n",
              " 'like share want car accessory bag iphone samsung pic twitter com vnilmvsw',\n",
              " 'appstore loving ipad except fact play video site visit play adobe flash major apple',\n",
              " 'phone update iphone plus iphone plus iphone iphone apple phone mobile treat upgrade pretty amazing tagsforlikes like like likeforlike followme follow instagood picoftheday photography photooftheday photo bestoftheday cute pic twitter com dc xrxazie',\n",
              " 'doodling shadow wall samsung galaxynote dog smile',\n",
              " 'fucking hell going cost repair two cracked corner ipad ridiculous',\n",
              " 'finally updated version something apple made destroying phone apple',\n",
              " 'expanding apply collection slowly finally got apply tv apple appletv summer pic twitter com x x lzywpi',\n",
              " 'stuck phone even know made week badtimes',\n",
              " 'mean love love humboldt county nativeamerican picoftheday iphone',\n",
              " 'rt planet doug compassion iphone case zazzle com apple housing jo',\n",
              " 'mumbai life walk instalove igers men india soi iphone face silhouet pic twitter com dno enbc c',\n",
              " 'whoever said iphone best world wrong mine even let receive call text iphone',\n",
              " 'echobox life earphone headphone music bluetooth instagood like like wireless speaker apple picoftheday followforfollow sound followme likeforlike iphone follow follow headphone tech earphone bluetoothspeaker repostpic twitter com vu z mt',\n",
              " 'blue blow dugan ruled origin news photography fashion health fail tech ipad iphone funny pic twitter com jbckxc auh',\n",
              " 'sony killed gtav public apology wont bring back excidement unraveling plot thank much',\n",
              " 'latest impulse buy beautiful p toy present game console sony white',\n",
              " 'hot deal high tech lightning usb cable foot geek tech bot deal amazon home iphone ipad android samsung galaxy google gadget gift io technews power pc dev pic twitter com zvgbxciqwk',\n",
              " 'phone charging hour hour ago apple',\n",
              " 'fuck apple product suck ipod instagram instadaily',\n",
              " 'fall beautiful delicious apple crispy healthy strong food foodart yum',\n",
              " 'cming full crop love scene iphone io iwatch iphone',\n",
              " 'photo preach wale feel foodforthought feeling instagram ig iphone live laugh truth',\n",
              " 'meson today hateapple day anand mahindra also complaining apple product',\n",
              " 'forget trouble share face emoji ibbleobble imessage sticker apple pic twitter com phznlzpgys',\n",
              " 'happy new phone day looking forward trying camera pastaval weekend samsunggalaxys samsung macaroni pasta festival blog blogger bloggerlife foodblogger foodblog foodbloggers glasgowpic twitter com oghzq sgsp',\n",
              " 'iphone protective skin choose apple iphone model buy unique piece art iphone skin also providing scratch resistance pic twitter com jmmtldxzwk',\n",
              " 'last watchdog ubisoft playstation p sony midnight gaming gamer videogames',\n",
              " 'enjoy cup happiness instadrink photooftheday samsung samsunggalaxytab tab p',\n",
              " 'iphone protective skin choose apple iphone model buy unique piece art iphone skin also providing scratch resistance pic twitter com vmue pecn',\n",
              " 'new phone thakyousomuchdad mypic minenow myphone samsung samsunggalaxy',\n",
              " 'thanks lot apple making iphone useless non responsive crap io fail',\n",
              " 'stupid iphone fragile whore hate apple back titanium ever fuck iphone',\n",
              " 'apple iphone lover iphone iphone google picoftheday techfreak gadget dell',\n",
              " 'apple apple id login suck remove fucking broken security question system made crap apple security fail',\n",
              " 'gotta love apple make premium electronics yet headphone charger iphone broken apple goandroid',\n",
              " 'year old mother simultaneously hate iphone refers blackberry ipod',\n",
              " 'beautiful princess daughter hawaiian present cute ig iphone',\n",
              " 'apple though big phone unusable apple hypocrits iphone plus iphone launch iphone question',\n",
              " 'go ipon iphone igers dream want igersasia igersph igerspinas follow follower',\n",
              " 'hey guy look samsung galaxy midnight black gb money today life twitch birthday sale android window nokia samsung iphone phone smartphone motorola offer bestprice jun',\n",
              " 'come mama new baby gift galaxy samsung white new sweet valentine igers',\n",
              " 'ya think new iphone cover blingy enough lol iphone fibourke coustommade',\n",
              " 'smile room showmeyour happiness smile room sony light art beautiful',\n",
              " 'anything put mind become accomplish fact miami kingeazzy technology fit apple applestore miamibeach lit smile thankful motivation',\n",
              " 'photooftheday instagram iphone nail creativity spiritual rip bro joy nailsbynettie hooked',\n",
              " 'think trying figure special social network baby iphone',\n",
              " 'friend upsessed apple gold iphone apple polyvorestyle',\n",
              " 'pc exquisite squishy random charm iphone strap toy decor free shop style sale today giveawaypic twitter com nwuoa sr',\n",
              " 'love washing machine play cool little song completion cycle thanks samsung mondaymorning',\n",
              " 'ipod peice anyone wanna sell give new one shitty',\n",
              " 'gain follower rt must follow follow back follow everyone rts gain iphone sougofollow u',\n",
              " 'girl love apple beautiful autumn apple tree nature st ckle garden',\n",
              " 'like unique iphonecases follow instagram page cute case iphone cute',\n",
              " 'love samsung dropped toilet today confirm really water resistant work like dream still',\n",
              " 'prettiest girl block selfie game strong selfie iphonex smile blonde pretty newphone whosdis fresh heart',\n",
              " 'merry christmas one time feel necessary front camera rather behind christmas sony mirrorlessgeeks family familytime familyfirst myfamily familyday myfamily familylove pic twitter com krmip xyh',\n",
              " 'gracias apple trillion positivity motivational awesome positivevibes apple iphone ipad mac winning life',\n",
              " 'sheesh typo prone today think need new cell phone key fucky samsung bebetter',\n",
              " 'yeah bitch hello yeah hat bonnet bedroom iphone tuesday night tired baby tiger f',\n",
              " 'actually shame apple employ vast amount people knowledge language',\n",
              " 'day brighter got surprise husband samsung galaxynote pink',\n",
              " 'best idea could come fb apple pay egg freezing sperm donor via nzherald fb apple',\n",
              " 'omg hate apple iphone getting last nerve cant wait get new phone samsunggalaxy iphoneprobs',\n",
              " 'joe biden donald trump would lead news photography fashion health fail tech ipad iphone funny lol',\n",
              " 'apple plague technology pathetic patent troll know resize device fill lawsuit apple',\n",
              " 'colleague bought first cell phone since apple device sooo updated evolution important innovation oldnews whoneedsinnovation',\n",
              " 'like lock p instahub instagood iphone lock f f fslc',\n",
              " 'mzkelz instagram iphone thanks neekztaylor ya love pic trinidad muah sorry loss',\n",
              " 'apple ceo tim cook work money never',\n",
              " 'planet doug compassion iphone case zazzle com campaign aplacetolive',\n",
              " 'gain follower rt must follow follow back follow everyone rts gain iphone sougofollow c c',\n",
              " 'nba player bryce dejean jones news photography fashion health fail tech ipad iphone funny lol',\n",
              " 'hate apple product everything stand ya fucking trash garbage making delete music',\n",
              " 'first pic new cellphone boy guy happines xperiasl android sony igers',\n",
              " 'know apple product suck people store trying get stuff fixed awful applesucks',\n",
              " 'got new phone today call selfie newphone samsung galaxy white',\n",
              " 'fuck fix iphone plus phantom touching bend screen stop responding apple',\n",
              " 'n bridesmaid white wedding iphone instagram bride bridesmaid memory memory forever',\n",
              " 'q hi u like iphone love help sell iphone helpfor iphone like',\n",
              " 'free fanta instagram instamood picoftheday instagramhub cute beautiful sweet iphonesia iphone',\n",
              " 'hello baby come papa newphone samsung note guerrero house movie',\n",
              " 'bow bridge central park nyc ny nyc newyork newyorkcity manhattan westside nycphotographer nycphotography igers instagood instalike beautiful instagramhub explore exploretocreate iphonesia iphoneonly iphone pic twitter com bbtoxxhakw',\n",
              " 'chill day sitting house playing thinkyoume iphone itunes game',\n",
              " 'updated itunes lost playlist song rating yet another reason',\n",
              " 'tried instagram yet reason give whirl iphone',\n",
              " 'satisfied iphone iphone came alwaysomethingbiggerandbetter',\n",
              " 'mutibabe tonight oh know another day work filming pharrell sony musicvideo go boy',\n",
              " 'bad almost feel like breathe easier calibrate monitor apple laptop',\n",
              " 'new year sam daniel paper artist samsung galaxy note intelenet th floor pantry',\n",
              " 'followback instantfollow ifollowback sing sad fun apple friend holiday follow follow back',\n",
              " 'gain follower rt must follow follow back follow everyone rts gain iphone sougofollow x',\n",
              " 'piss rhyme twas hiss miss kiss click rhyme iphone',\n",
              " 'new dig new display new lease life apple asos thunderbolt ballerstatus getaroundit',\n",
              " 'gain follower rt must follow follow back follow everyone rts gain iphone sougofollow v g',\n",
              " 'waiting motorola capture instagram window lumia lumialove summer waiting',\n",
              " 'timcook apple th anniversary apple via technology rrabg pmrh joseluisbaraja',\n",
              " 'pure innocence sony adorable adorable cute fun family forever photogenic',\n",
              " 'steve job died regret life flash back death scumbagapple boycottapple',\n",
              " 'iphone app health fitness htc one x samsung galaxy tab iphone case iphone',\n",
              " 'excuse mr milestone already deleted lot apps still telling enough space yet motorola',\n",
              " 'changed styling picoftheday ootd hair red brown l l lfl apple bandel',\n",
              " 'canoe ride germany beilngries altm hltal family canoe nature samsungph samsung sport water',\n",
              " 'itunes think acceptable time itsnot apple prick',\n",
              " 'beloved sister girl iphone beauty tree leaf jj instamood imstagram pretty model beautif',\n",
              " 'like send big suck apple cause update took min apple',\n",
              " 'happy family bns wiediasetiani funtime bns holiday samsung galaxy',\n",
              " 'update phone youtube app get deleted',\n",
              " 'skrillex song like food man skrillex scary monster iphone',\n",
              " 'phone charge night already iphone',\n",
              " 'finally new dress baby thanks samsung galaxy casing colourful new instagram in',\n",
              " 'io game play spouse bond husband play game together phone read game recommend blog apps iphone jumanji game boardgames husband wife marriage laugh blog blogger ontheblog article ideaspic twitter com v gy sezup',\n",
              " 'take half day play iphone pretentious asshole asshole iphone applesucks',\n",
              " 'hack wi fi android apps unitedstate cute color igers iphoneonly guitarplayer iphone',\n",
              " 'people thanks holding door oh wait ur apple employee u suck thanks',\n",
              " 'phone phone samsung picoftheday delighted galaxycrew instasweet iliketohashtag',\n",
              " 'day eating happy iphonex analoglondon goaloflife eating pizza',\n",
              " 'gain follower rt must follow follow back follow everyone rts gain iphone sougofollow ff g',\n",
              " 'thank need good nothing phone welovesamsung',\n",
              " 'fuck phone stop glitching let receive message iphone butstillloveyou',\n",
              " 'wanna swing chandelier amazing beautiful copenhagen creative composer denmark fun f f hot iconic keepthefaith l l mariajensen music original pop producer red rock soul singer songwriter song universal sony warner worldpic twitter com lakrzzg',\n",
              " 'spending full day trying recover photo ipod dropbox become savior could hug muchlove',\n",
              " 'post goody tomorrow course affordable price platform would make iphones wanna know wait till tomorrow love iphone iphone iphone iphonex iphone',\n",
              " 'would like give big old fuckyou apple due fact ipad iphone connect',\n",
              " 'iphone think apple absolute bastard care existing customer latest update slow older iphones excuse preserve battery reality force buy new phone hate apple much worse microsoft',\n",
              " 'samsungmobile added emojis change existing one samsung galaxy justfuckyou phone',\n",
              " 'apple please love god stop spamming set apple pay compatible fucking card turn spam apple',\n",
              " 'iphone apple iphone iphone iphone iphone plus applewatch applewatch',\n",
              " 'photo makeup like likeforlike pretty picoftheday ootd igdaily igers iphone',\n",
              " 'hateapple apple earn billion iphone start pitiful amount storage',\n",
              " 'iphone slowly braking screen cracked charge',\n",
              " 'make happy p sony playstation untildawn game console black blakk',\n",
              " 'shot iphone x iphone apple iphonex wonderful selfie portraitmode',\n",
              " 'invisiblehole right invented everything proving assfuck',\n",
              " 'captured moment ep durdledoor stunning iphone photography youtuber smallyoutuber',\n",
              " 'ip neapple yes confidentiality voice choice want let apple middle man',\n",
              " 'meantime tweeting crappad mean ipad',\n",
              " 'black friday follow creativebanana blackfriday banner dailyart photooftheday instagood art artist artoftheday offer blackandwhite iphonex disenografico artistic inspiration design creative picoftheday graphicdesignpic twitter com fzkgx n',\n",
              " 'debut new online customer experience presdak iphonecase samsungcase followme iphone samsungpic twitter com mfok xpwlp',\n",
              " 'february day clock iphone apps home screen oclock ultrasound wallpaper',\n",
              " 'suck earphone month old use office apple',\n",
              " 'love horse summer nature photo girl life photo igers iphone pic twitter com idrhvyxcbi',\n",
              " 'sibling sister fun girl selfie selca frontcam samsung killthetime potd',\n",
              " 'stupid droid u show music player window medium share motorola',\n",
              " 'u used credit card playstation network hacker stolen million card number big sony',\n",
              " 'jill holmes departs vh west news photography fashion health fail tech ipad iphone funny lol',\n",
              " 'luke chicago portrait vsco vscocam iphone iphoneonly photography instagood instagram',\n",
              " 'make appointment unhelpful year old job title genius patronise fox',\n",
              " 'like api change throw exception working previous version calayer layerusescoreimagefilters madness',\n",
              " 'iphone mid phone date le year sometimes apple',\n",
              " 'peace smile happy office mate smile sony photography photo vscom day',\n",
              " 'track day ultraviolet light way news photography fashion health fail tech ipad iphone pic twitter com ff oc tg u',\n",
              " 'welcome back life missed dearly iphone',\n",
              " 'truth tagsforlikes instagood tweegram photooftheday iphone dj blass crib',\n",
              " 'hate phone start make sense gurrr iphone iman',\n",
              " 'glad apple finally decided come white iphone got mine realcool apple',\n",
              " 'people speculating news photography fashion health fail tech ipad iphone funny lol',\n",
              " 'well hello new radio sony ipod music loud b crutchfield pandora yay',\n",
              " 'follow capetownsup instagram sup surf fun capetown funny sexy samsung pic twitter com dpfrqemf u',\n",
              " 'goodmorning sun bike scooter bluesky spring work newday iphone screen fisheye effect',\n",
              " 'wait apple go bankrupt shittycustomerservice worstdevices million dollar company pay help',\n",
              " 'samsungnewsroom new life android nougat samsung galaxy perfekt batterie life experience noproblempic twitter com hxp ierjm',\n",
              " 'rt jasonmowry rt dealsplus win apple macbook air retweet follow dealsplus win',\n",
              " 'photo outif go like girly jean van sweather jacket denim iphone follow',\n",
              " 'samsungus apple preparing release foldable phone motorolaus filed patten self repairing screen function apple influencer samsunggalaxy tech photooftheday money samsung save gadget tryit technology motorola',\n",
              " 'dance partner frankwilliams ru b weekday selfie friend foe friday iphone spawn r art purpose nature humanity piano music friendspic twitter com vtquk xluq',\n",
              " 'con los menores bullybrothers bulldog dog shaggy sony allprofit sleepmode',\n",
              " 'gonna buy th charger iphone even year iphone charger shit',\n",
              " 'waited long graphicdesign graphic design art artwork maho iphone apple',\n",
              " 'samsung galaxy edge gb noir samsung edge occasion smartphone prixhappy',\n",
              " 'reason vinyl popular today need dept play al hatewindows',\n",
              " 'oh yeah samsung galaxy note tha house mobile samsung gsm photooftheday vodafone',\n",
              " 'cost swap phone exact phone currently fix front camera',\n",
              " 'wine good book instagood iphonesia photooftheday instamood igers cute iphone home',\n",
              " 'new baby samsung galaxy newphone sick phone smartphone instahub instapic',\n",
              " 'bring color sky nature eve sky dawn sunset phonephotography samsung vscocam wind naturephotography sunset pic naturelover mood positivevibes photoshop naturephotonics naturephotonet phonephotograph phonephotopropic twitter com glzwp r',\n",
              " 'get order kid tshirt discount code twitter check iphone case',\n",
              " 'ugh cant upload picture anything computer deciding crap apple',\n",
              " 'bought samsung galaxy grand mom bday birthday advance duo',\n",
              " 'still o nearly hour people still block one backup ffs apple',\n",
              " 'broke second ipod year happy make screen crack',\n",
              " 'ok let go sony z paixaodecristo rec hdv equipedelta eita aovivo pacatuba grava',\n",
              " 'trying remember activation lock password email apple',\n",
              " 'coz happy simple ofcourse sun couple sun instadaily samsung',\n",
              " 'great hour drive ipod apple',\n",
              " 'iphone twitter update feel way better use faster',\n",
              " 'conversion photo video free android apps beautiful cute color igers iphoneonly iphone',\n",
              " 'gain follower rt must follow follow back follow everyone rts gain iphone sougofollow nyv',\n",
              " 'waiting iphone iphone iphone leak rich iphone plus apple applestore stevejobs september samsung iphoneplus',\n",
              " 'new sleeping bag pad present marcjacobs ipad apple beaut instaaddict instafashio',\n",
              " 'bighope allah pray life hope samsung instagram facebook twitter photogrid notcry',\n",
              " 'apple saved itunes account guy apple customer support great thank bharat apple apple awesome',\n",
              " 'photo quote heart world thinkpink boy girl world pictoftheday photogram iphone',\n",
              " 'preggy sister busy new note android samsung galaxy excited teacher',\n",
              " 'thanks papitasfritas helping make cool custom pin art nyc sony',\n",
              " 'ok let try hopefully without losing week lol iphone pic twitter com blqrjukan',\n",
              " 'genius shoutouts indian malayali fun tbt tb tagging photography iphone',\n",
              " 'best start day sausage sausagesandwich yum tasty apple porkandapple',\n",
              " 'fisher price laugh learn learning apple baby toy fisherpricepic twitter com pp aeihvv',\n",
              " 'day actually wanted take photo day trip pissedoff',\n",
              " 'third time today charge phone iphone',\n",
              " 'want download free iphone app today spread style itwantithaveit fblogger',\n",
              " 'pic said would appreciated muzzle flash cavitation bullet gotta iphone slo mo cool funny perfectpic twitter com hh nzggylb',\n",
              " 'good birthday purchase happy applewatch spacegray applewatchsport sport apple',\n",
              " 'birthday ronnie birthday money vodka balloon lynx wirelesscharger samsung spoilt',\n",
              " 'taking extra credit survey phone literally giving apple worst review ever whydoihaveaniphone',\n",
              " 'next race tour du maroc fonzi ehi sbronzidifonzi limitless goodvibes cyclist cyclistlife ride nevergiveup instagood instagramer photooftheday season iphonex picoftheday smile instalike igers man cool lifestyle casablancapic twitter com qo wmco j',\n",
              " 'would like wish amazing day make every minute count tl today iphone accessory news life april',\n",
              " 'hello samsung galaxy borderless phone new nice',\n",
              " 'apple mail program starting could beginning end apple',\n",
              " 'mb apple update currently th minute seems detroyed pc',\n",
              " 'far loving magic mouse mouse apple mac',\n",
              " 'hello lovely newphone iphone iphone apple yay gold gb',\n",
              " 'raffle winner samsung galaxy ticket beaboutique star blue newyear',\n",
              " 'campaign samsung samsung campaign work photo job model smile nildosalvatori',\n",
              " 'fat roll cellulite kim news photography fashion health fail tech ipad iphone funny lol',\n",
              " 'colorsplash iphone found heart virtually sliding hand art ego designermonday',\n",
              " 'late post iphone finally came yesterday went plus iphone gcu blessed',\n",
              " 'unlock level zen block coming soon relax iphone summer sun mobilegame chill music android weekend veganpic twitter com aftayddv',\n",
              " 'follow capetownsup instagram sup surf fun capetown funny sexy samsung pic twitter com w poy n',\n",
              " 'u find instagram iphoneography iphonesia iphone webstagram instago coffee starbucks irini',\n",
              " 'black friday success black friday smartv samsung thanksgiving true',\n",
              " 'jdholic well seeing iphone clearly le acceptable',\n",
              " 'prophet husband iphone android kindle book march',\n",
              " 'got sub goal unbelievable thank everyone support twitch twitchtv twitchstreamer twitchaffiliate prime subscribe follow hype p gaming blessed game sony thankyou smallsteps',\n",
              " 'cecream cream chocolate apple banana pineapple strawberry fruitsalad',\n",
              " 'stuff dream made nerd iphone clothes iphone fashion juicycouture christianlouboutin',\n",
              " 'apple phone ear headphone actually fit ear human designingforaliens',\n",
              " 'birthday girl samsung tv presets thanksmom grateful surprise',\n",
              " 'thanks apple telling restore iphone forgot tell take hour',\n",
              " 'live picoftheday iphone beard ink tattoo yolo rock work',\n",
              " 'oppomobileindia guyz provide colour o update android update novalueformoney',\n",
              " 'year apple come apple watch left handed people apple watch applewatch new year',\n",
              " 'map app get u completely lost guy deserved fired need app actually work iphone',\n",
              " 'apple fucking stupid something simple task even fuck apple macbookpro apple needsmoarpc',\n",
              " 'home button randomly get stuck gently press open screen iphone',\n",
              " 'watch tyga squirm away ross news photography fashion health fail tech ipad iphone funny lol',\n",
              " 'wifi haking password android apps unitedstate cute color igers iphoneonly guitarplayer iphone',\n",
              " 'pre ordered payed full playstation playstation p nextgen sony',\n",
              " 'people annoying new iphone phone phone thing apple important',\n",
              " 'new display picture iphoneography iphone instagram iphonesia photography photooftheday beautiful',\n",
              " 'would like wish amazing day make every minute count tl today iphone accessory news life may',\n",
              " 'apple charger worst bought ten iphone charger year two melted worst',\n",
              " 'rt larry hwan selfie indonesia shopping fun cute style samsung tablet tab design fashion',\n",
              " 'samsung gear vr shae transported world healthy fit pic twitter com eh cxe eqp',\n",
              " 'new note happy left apple breakup peaceout customer myphonesmybaby samsung',\n",
              " 'finally got new phone couldnt live without samsung galaxy samsung blue stallingborough',\n",
              " 'iphone suck keep screwing shut freeze jazz',\n",
              " 'new present apple mini cute katespade tablet toronto ipad yokdale spoiled white',\n",
              " 'true realtalk girltalk heartbreak true truth quote picoftheday iphone instagirl tattooedgi',\n",
              " 'greatness choice streetfighter mortalkombat gameofthrones batman superman superpower superhero wwe dragonballz pokemon fighting onlineshopping tshirt tshirts apparel beauty art quote meaningfulquotes sexy girl boy kid child iphone pic twitter com ynv yew b',\n",
              " 'got simply love iphone splus iphone newiphone apple pic twitter com o hxuam',\n",
              " 'apple shop visit needed volume button going break',\n",
              " 'fuck homework homework suck apple mac pro book wtc twintowers pp',\n",
              " 'happy cute apple family loyal apple macbook macbookpro ipad iphone halloween',\n",
              " 'winner new apple ipod itouch cranemachine beacharcade north rehobothbeach delaware',\n",
              " 'iphone app elimi flirting game play meet date new people social network',\n",
              " 'heyemmadonnell man quid cause flash cant get apps ipod since updated app software',\n",
              " 'received new iphone x thank u iphone apple io appleiphone iphonex phone',\n",
              " 'deal thank nang ting hahahaha love yah gift cousin phone samsung vsco',\n",
              " 'yay finally fixed apple issue genius help rockingtherazernowpic twitter com jt vn xbpb',\n",
              " 'eeeekkkkk happy came today newtoy electronic dream samsung tablet baby home',\n",
              " 'got high tech apple computer cl yet computer many issue restart everyday day',\n",
              " 'would like wish amazing day make every minute count tl today iphone accessory news life february',\n",
              " 'wow fuck apple put new p code ipad lock go put unlock disabled ipad',\n",
              " 'blackeysbeats mine even decency split concertina died pic twitter com w wz k z',\n",
              " 'laptop get nerve seriously want mac fuckpc fuck pcisgay apple',\n",
              " 'restored iphone deleted music apps still wont sync apple',\n",
              " 'announce urban christmas stickies appstore imessage urbanplace sticker apple',\n",
              " 'invested k player match tv c amazon prime deal disc arriving tomorrow tonight visual feast k sony uhd bluray bladerunner bladerunner revenant lifeofpi interstellar themartian tv excited amazondeal amazonprimeday amazonpic twitter com wt hbgurpw',\n",
              " 'finally got cable meter long iamhappy samsung usbcable excited pretty',\n",
              " 'need jaffacakes food drink smirnoff green apple vodka bunny night',\n",
              " 'reallyreal app approved iphone ipad dating college college singlepic twitter com dzq cxo',\n",
              " 'birthday present laura arrived birthday apple appletv p applegeek',\n",
              " 'trying download io dad fone ghante se download ho rha',\n",
              " 'rt followbacg follow follow justinbieber apple ipad iphone april amapril',\n",
              " 'feel love receive iphone screen repair entire month february iphone valentinesday crackedscreenpic twitter com utotabe',\n",
              " 'hugeplumbs someone said something similar update via itunes though',\n",
              " 'craving vsco instalike vscocam vscoph vscofilter iphone',\n",
              " 'fucking iphone autocorrect belichick belichek time',\n",
              " 'summer back summer tshirt iphone gay blue hot selfie mirror wednesday david house',\n",
              " 'good night friend smile laugh work adobe apple illustrator photoshop samsung underarmour hondalife gopro edgepic twitter com obuiheud',\n",
              " 'love coworkers give fruit snack apple fruitsnack',\n",
              " 'wondering samsungblast jean pocket thank god samsung user',\n",
              " 'trial apple iphone getting one going get samsung smartphone bad screen',\n",
              " 'man infinity myman potd live instagood instalove samsung black',\n",
              " 'say perfect day perfect sunset like iphone mexico',\n",
              " 'seriously care iphone track everywhere show much stevejobs care yea apple much',\n",
              " 'apple lieee fake apple michael hungry fatlife',\n",
              " 'apple iphone leather case smart apple iphone style swag cool rawagroup',\n",
              " 'wip hpcase samsung note flower cute fun madeforyou handmade craft instacraft',\n",
              " 'photo arguing new game psp sony game hobby cousin kid',\n",
              " 'samsungmobile yousuck worst mobile worst service worst executive never suggest anyone samsung mobile',\n",
              " 'xcode installation failed told contact software manufacturer assistance apple',\n",
              " 'finally baby samsung galaxy photooftheday instaphoto world wide followback',\n",
              " 'factory reset iphone instantly tell storage full bull there nothing apple nostoragemyass',\n",
              " 'beauty shopping aliusaexpress iphone io app cat gb unlocked gsm g lte refined rugged ip',\n",
              " 'welcome family future samsung consultancy ilovemyjob bethefirst',\n",
              " 'feeling like buying galaxy tab raise middle finger sky apple',\n",
              " 'yo longer team iphone use upgrade goodbyeiphone apple',\n",
              " 'hey dur cute pretty adorable beautiful girl style makeup awesome moustache iphone',\n",
              " 'finally new phone galaxy samsung muchneeded excited thenextbigthing',\n",
              " 'bought p year ago last guardian getting cancelled one pissed person sony',\n",
              " 'apple io absolute hybrid window android yet apple fan say apple innovates microsoft',\n",
              " 'bringing focus x x metroman moscow bringing focus near conclusion metroman moscow weekend iphone photography artistsontwitter life weekend iphone photography artistsontwitter life pic twitter com irjoqni j',\n",
              " 'amandagrybowski ashole believe u took convo brandnew iphone',\n",
              " 'dear apple u making download huge update slows phone u come w new one get',\n",
              " 'conniebritton charlesesten know face tweet iphone',\n",
              " 'hateapple new updated itunes far le functionality predecessor well done idiot utter rubbish',\n",
              " 'happiness new gadget gift fromm brotherinlaw samsung tab flying instaddict',\n",
              " 'hk case came today hellokitty hk asian phone case iphone obsessed blue white bow',\n",
              " 'shiniest reddest apple weekend officially peaked weekend apple fridayfeeling',\n",
              " 'ui io design app iphone beauty day beauty profile app wave graphic dribbble',\n",
              " 'samsung galaxy tab lovely mom samsung galaxy tablet gift lymom instagram',\n",
              " 'designermonday art colorsplash brush typedrawing iphone',\n",
              " 'iphone restored latest back month ago text called yesterday know ab',\n",
              " 'razihel bad boy matzo tiesto edm r hab rebound life cool p sony xboxone',\n",
              " 'amount hate apple itunes intense',\n",
              " 'great siri io work iphone thenewipad wrong iphone apple',\n",
              " 'charge iphone comfort mobile power go iphone iphone powerbankcase iphone apple accessory gadget phone paccenter abuja abujafct abujapeople wuse abujaphones gadget abujacity capitalhub buy sale fct service tech retweetpic twitter com fiajxhnzqg',\n",
              " 'suckerrrrr self selfie suck lollypop candy sweet green apple caramel yum tasty girl',\n",
              " 'new phonecase phonecase case tribal pattern white phone samsung cute beautiful',\n",
              " 'thank grandpa grandpa gift cellphone sony xperia z like likeplease',\n",
              " 'bought apple wireless keyboard stunned size tiny comparison old logitechs keyboard',\n",
              " 'valentine love love idol rt daughter quote valentineapp iphone',\n",
              " 'filter needed lavender iphonex portraitmode fave holiday summer dorset floral scent sunshine grow instagram instagood insta instaflower kingston lacy',\n",
              " 'iphone want charge rd party charger conspiracy wacksauce',\n",
              " 'valentinesday everyone sday round stone cool frozen snow heart reflection winter sony',\n",
              " 'came mail free iphone case vickys secret pink',\n",
              " 'back city life goodnight music art apple iphoneonly calvinklein hair jesus',\n",
              " 'follow capetownsup instagram sup surf fun capetown funny sexy samsung pic twitter com ecm kmfj',\n",
              " 'drag voice memo itunes pc apple usual trick trying lock shortsighted',\n",
              " 'gain follower rt must follow follow back follow everyone rts gain iphone sougofollow ur f',\n",
              " 'sony sony white mdr pair headphone music b treble beat',\n",
              " 'moby buy cool gift today sony iphone samsung tablet',\n",
              " 'learn math sum ibbleobble educational math game kid child kindergarten school school preschool homeschool homeschooling ipad iphone appletv indiedev playschool learning learnmaths number fridayfeelingpic twitter com ysfvny uf',\n",
              " 'looking awesome awesome woodworking greatful yoga iphone money applewatch apple nike solareclipse ridgid ryobi trumppic twitter com maevtkl',\n",
              " 'new toy ipad apple rdgeneration shopping gift present treatyourself dandelion toy joy q',\n",
              " 'slowhand dr banana widget see twitter stock weather etc glance huge screen get plus',\n",
              " 'idk download dead nation infamous never play either one download anything sony psn playstation',\n",
              " 'gone thru four iphone charger day bos badass',\n",
              " ...]"
            ]
          },
          "metadata": {
            "tags": []
          },
          "execution_count": 11
        }
      ]
    },
    {
      "cell_type": "code",
      "metadata": {
        "id": "iSm4qDERPHZ_"
      },
      "source": [
        "email_train_dataframe['clean_tweet'] = corpus"
      ],
      "execution_count": 19,
      "outputs": []
    },
    {
      "cell_type": "code",
      "metadata": {
        "id": "LwPDu0o1PYLf",
        "outputId": "ce839361-b00a-4658-9d68-7bac2d97e01d",
        "colab": {
          "base_uri": "https://localhost:8080/",
          "height": 402
        }
      },
      "source": [
        "email_train_dataframe"
      ],
      "execution_count": 23,
      "outputs": [
        {
          "output_type": "execute_result",
          "data": {
            "text/html": [
              "<div>\n",
              "<style scoped>\n",
              "    .dataframe tbody tr th:only-of-type {\n",
              "        vertical-align: middle;\n",
              "    }\n",
              "\n",
              "    .dataframe tbody tr th {\n",
              "        vertical-align: top;\n",
              "    }\n",
              "\n",
              "    .dataframe thead th {\n",
              "        text-align: right;\n",
              "    }\n",
              "</style>\n",
              "<table border=\"1\" class=\"dataframe\">\n",
              "  <thead>\n",
              "    <tr style=\"text-align: right;\">\n",
              "      <th></th>\n",
              "      <th>id</th>\n",
              "      <th>label</th>\n",
              "      <th>tweet</th>\n",
              "      <th>clean_tweet</th>\n",
              "    </tr>\n",
              "  </thead>\n",
              "  <tbody>\n",
              "    <tr>\n",
              "      <th>0</th>\n",
              "      <td>1</td>\n",
              "      <td>0</td>\n",
              "      <td>#fingerprint #Pregnancy Test https://goo.gl/h1...</td>\n",
              "      <td>fingerprint pregnancy test android apps beauti...</td>\n",
              "    </tr>\n",
              "    <tr>\n",
              "      <th>1</th>\n",
              "      <td>2</td>\n",
              "      <td>0</td>\n",
              "      <td>Finally a transparant silicon case ^^ Thanks t...</td>\n",
              "      <td>finally transparant silicon case thanks uncle ...</td>\n",
              "    </tr>\n",
              "    <tr>\n",
              "      <th>2</th>\n",
              "      <td>3</td>\n",
              "      <td>0</td>\n",
              "      <td>We love this! Would you go? #talk #makememorie...</td>\n",
              "      <td>love would go talk makememories unplug relax i...</td>\n",
              "    </tr>\n",
              "    <tr>\n",
              "      <th>3</th>\n",
              "      <td>4</td>\n",
              "      <td>0</td>\n",
              "      <td>I'm wired I know I'm George I was made that wa...</td>\n",
              "      <td>wired know george made way iphone cute daventr...</td>\n",
              "    </tr>\n",
              "    <tr>\n",
              "      <th>4</th>\n",
              "      <td>5</td>\n",
              "      <td>1</td>\n",
              "      <td>What amazing service! Apple won't even talk to...</td>\n",
              "      <td>amazing service apple even talk question unles...</td>\n",
              "    </tr>\n",
              "    <tr>\n",
              "      <th>...</th>\n",
              "      <td>...</td>\n",
              "      <td>...</td>\n",
              "      <td>...</td>\n",
              "      <td>...</td>\n",
              "    </tr>\n",
              "    <tr>\n",
              "      <th>7915</th>\n",
              "      <td>7916</td>\n",
              "      <td>0</td>\n",
              "      <td>Live out loud #lol #liveoutloud #selfie #smile...</td>\n",
              "      <td>live loud lol liveoutloud selfie smile sony mu...</td>\n",
              "    </tr>\n",
              "    <tr>\n",
              "      <th>7916</th>\n",
              "      <td>7917</td>\n",
              "      <td>0</td>\n",
              "      <td>We would like to wish you an amazing day! Make...</td>\n",
              "      <td>would like wish amazing day make every minute ...</td>\n",
              "    </tr>\n",
              "    <tr>\n",
              "      <th>7917</th>\n",
              "      <td>7918</td>\n",
              "      <td>0</td>\n",
              "      <td>Helping my lovely 90 year old neighbor with he...</td>\n",
              "      <td>helping lovely year old neighbor ipad morning ...</td>\n",
              "    </tr>\n",
              "    <tr>\n",
              "      <th>7918</th>\n",
              "      <td>7919</td>\n",
              "      <td>0</td>\n",
              "      <td>Finally got my #smart #pocket #wifi stay conne...</td>\n",
              "      <td>finally got smart pocket wifi stay connected a...</td>\n",
              "    </tr>\n",
              "    <tr>\n",
              "      <th>7919</th>\n",
              "      <td>7920</td>\n",
              "      <td>0</td>\n",
              "      <td>Apple Barcelona!!! #Apple #Store #BCN #Barcelo...</td>\n",
              "      <td>apple barcelona apple store bcn barcelona trav...</td>\n",
              "    </tr>\n",
              "  </tbody>\n",
              "</table>\n",
              "<p>7920 rows × 4 columns</p>\n",
              "</div>"
            ],
            "text/plain": [
              "        id  ...                                        clean_tweet\n",
              "0        1  ...  fingerprint pregnancy test android apps beauti...\n",
              "1        2  ...  finally transparant silicon case thanks uncle ...\n",
              "2        3  ...  love would go talk makememories unplug relax i...\n",
              "3        4  ...  wired know george made way iphone cute daventr...\n",
              "4        5  ...  amazing service apple even talk question unles...\n",
              "...    ...  ...                                                ...\n",
              "7915  7916  ...  live loud lol liveoutloud selfie smile sony mu...\n",
              "7916  7917  ...  would like wish amazing day make every minute ...\n",
              "7917  7918  ...  helping lovely year old neighbor ipad morning ...\n",
              "7918  7919  ...  finally got smart pocket wifi stay connected a...\n",
              "7919  7920  ...  apple barcelona apple store bcn barcelona trav...\n",
              "\n",
              "[7920 rows x 4 columns]"
            ]
          },
          "metadata": {
            "tags": []
          },
          "execution_count": 23
        }
      ]
    },
    {
      "cell_type": "code",
      "metadata": {
        "id": "IHDg9Ah235Dv",
        "outputId": "fd7eabb3-e4e3-462b-d674-c055eff0732d",
        "colab": {
          "base_uri": "https://localhost:8080/",
          "height": 995
        }
      },
      "source": [
        "! pip install tensorflow==1.15\n",
        "! pip install tensorflow-hub>=0.6.0"
      ],
      "execution_count": 10,
      "outputs": [
        {
          "output_type": "stream",
          "text": [
            "Collecting tensorflow==1.15\n",
            "\u001b[?25l  Downloading https://files.pythonhosted.org/packages/3f/98/5a99af92fb911d7a88a0005ad55005f35b4c1ba8d75fba02df726cd936e6/tensorflow-1.15.0-cp36-cp36m-manylinux2010_x86_64.whl (412.3MB)\n",
            "\u001b[K     |████████████████████████████████| 412.3MB 25kB/s \n",
            "\u001b[?25hRequirement already satisfied: wrapt>=1.11.1 in /usr/local/lib/python3.6/dist-packages (from tensorflow==1.15) (1.12.1)\n",
            "Requirement already satisfied: google-pasta>=0.1.6 in /usr/local/lib/python3.6/dist-packages (from tensorflow==1.15) (0.2.0)\n",
            "Collecting keras-applications>=1.0.8\n",
            "\u001b[?25l  Downloading https://files.pythonhosted.org/packages/71/e3/19762fdfc62877ae9102edf6342d71b28fbfd9dea3d2f96a882ce099b03f/Keras_Applications-1.0.8-py3-none-any.whl (50kB)\n",
            "\u001b[K     |████████████████████████████████| 51kB 6.1MB/s \n",
            "\u001b[?25hRequirement already satisfied: opt-einsum>=2.3.2 in /usr/local/lib/python3.6/dist-packages (from tensorflow==1.15) (3.3.0)\n",
            "Collecting tensorboard<1.16.0,>=1.15.0\n",
            "\u001b[?25l  Downloading https://files.pythonhosted.org/packages/1e/e9/d3d747a97f7188f48aa5eda486907f3b345cd409f0a0850468ba867db246/tensorboard-1.15.0-py3-none-any.whl (3.8MB)\n",
            "\u001b[K     |████████████████████████████████| 3.8MB 28.8MB/s \n",
            "\u001b[?25hRequirement already satisfied: wheel>=0.26 in /usr/local/lib/python3.6/dist-packages (from tensorflow==1.15) (0.35.1)\n",
            "Requirement already satisfied: astor>=0.6.0 in /usr/local/lib/python3.6/dist-packages (from tensorflow==1.15) (0.8.1)\n",
            "Requirement already satisfied: six>=1.10.0 in /usr/local/lib/python3.6/dist-packages (from tensorflow==1.15) (1.15.0)\n",
            "Requirement already satisfied: termcolor>=1.1.0 in /usr/local/lib/python3.6/dist-packages (from tensorflow==1.15) (1.1.0)\n",
            "Requirement already satisfied: absl-py>=0.7.0 in /usr/local/lib/python3.6/dist-packages (from tensorflow==1.15) (0.10.0)\n",
            "Collecting tensorflow-estimator==1.15.1\n",
            "\u001b[?25l  Downloading https://files.pythonhosted.org/packages/de/62/2ee9cd74c9fa2fa450877847ba560b260f5d0fb70ee0595203082dafcc9d/tensorflow_estimator-1.15.1-py2.py3-none-any.whl (503kB)\n",
            "\u001b[K     |████████████████████████████████| 512kB 41.0MB/s \n",
            "\u001b[?25hRequirement already satisfied: protobuf>=3.6.1 in /usr/local/lib/python3.6/dist-packages (from tensorflow==1.15) (3.12.4)\n",
            "Requirement already satisfied: keras-preprocessing>=1.0.5 in /usr/local/lib/python3.6/dist-packages (from tensorflow==1.15) (1.1.2)\n",
            "Collecting gast==0.2.2\n",
            "  Downloading https://files.pythonhosted.org/packages/4e/35/11749bf99b2d4e3cceb4d55ca22590b0d7c2c62b9de38ac4a4a7f4687421/gast-0.2.2.tar.gz\n",
            "Requirement already satisfied: grpcio>=1.8.6 in /usr/local/lib/python3.6/dist-packages (from tensorflow==1.15) (1.33.2)\n",
            "Requirement already satisfied: numpy<2.0,>=1.16.0 in /usr/local/lib/python3.6/dist-packages (from tensorflow==1.15) (1.18.5)\n",
            "Requirement already satisfied: h5py in /usr/local/lib/python3.6/dist-packages (from keras-applications>=1.0.8->tensorflow==1.15) (2.10.0)\n",
            "Requirement already satisfied: werkzeug>=0.11.15 in /usr/local/lib/python3.6/dist-packages (from tensorboard<1.16.0,>=1.15.0->tensorflow==1.15) (1.0.1)\n",
            "Requirement already satisfied: markdown>=2.6.8 in /usr/local/lib/python3.6/dist-packages (from tensorboard<1.16.0,>=1.15.0->tensorflow==1.15) (3.3.3)\n",
            "Requirement already satisfied: setuptools>=41.0.0 in /usr/local/lib/python3.6/dist-packages (from tensorboard<1.16.0,>=1.15.0->tensorflow==1.15) (50.3.2)\n",
            "Requirement already satisfied: importlib-metadata; python_version < \"3.8\" in /usr/local/lib/python3.6/dist-packages (from markdown>=2.6.8->tensorboard<1.16.0,>=1.15.0->tensorflow==1.15) (2.0.0)\n",
            "Requirement already satisfied: zipp>=0.5 in /usr/local/lib/python3.6/dist-packages (from importlib-metadata; python_version < \"3.8\"->markdown>=2.6.8->tensorboard<1.16.0,>=1.15.0->tensorflow==1.15) (3.4.0)\n",
            "Building wheels for collected packages: gast\n",
            "  Building wheel for gast (setup.py) ... \u001b[?25l\u001b[?25hdone\n",
            "  Created wheel for gast: filename=gast-0.2.2-cp36-none-any.whl size=7542 sha256=33fdbe871a6b469790f980939830ce715342e76b99b8a35a8b0acd857ad99862\n",
            "  Stored in directory: /root/.cache/pip/wheels/5c/2e/7e/a1d4d4fcebe6c381f378ce7743a3ced3699feb89bcfbdadadd\n",
            "Successfully built gast\n",
            "\u001b[31mERROR: tensorflow-probability 0.11.0 has requirement gast>=0.3.2, but you'll have gast 0.2.2 which is incompatible.\u001b[0m\n",
            "Installing collected packages: keras-applications, tensorboard, tensorflow-estimator, gast, tensorflow\n",
            "  Found existing installation: tensorboard 2.3.0\n",
            "    Uninstalling tensorboard-2.3.0:\n",
            "      Successfully uninstalled tensorboard-2.3.0\n",
            "  Found existing installation: tensorflow-estimator 2.3.0\n",
            "    Uninstalling tensorflow-estimator-2.3.0:\n",
            "      Successfully uninstalled tensorflow-estimator-2.3.0\n",
            "  Found existing installation: gast 0.3.3\n",
            "    Uninstalling gast-0.3.3:\n",
            "      Successfully uninstalled gast-0.3.3\n",
            "  Found existing installation: tensorflow 2.3.0\n",
            "    Uninstalling tensorflow-2.3.0:\n",
            "      Successfully uninstalled tensorflow-2.3.0\n",
            "Successfully installed gast-0.2.2 keras-applications-1.0.8 tensorboard-1.15.0 tensorflow-1.15.0 tensorflow-estimator-1.15.1\n"
          ],
          "name": "stdout"
        },
        {
          "output_type": "display_data",
          "data": {
            "application/vnd.colab-display-data+json": {
              "pip_warning": {
                "packages": [
                  "gast",
                  "tensorboard",
                  "tensorflow",
                  "tensorflow_estimator"
                ]
              }
            }
          },
          "metadata": {
            "tags": []
          }
        }
      ]
    },
    {
      "cell_type": "code",
      "metadata": {
        "id": "4_M4v1Hw4Dj5"
      },
      "source": [
        "import tensorflow_hub as hub\n",
        "import tensorflow as tf\n",
        "\n",
        "elmo = hub.Module(\"https://tfhub.dev/google/elmo/2\", trainable=True)\n"
      ],
      "execution_count": 3,
      "outputs": []
    },
    {
      "cell_type": "code",
      "metadata": {
        "id": "duv2DhdjMZ_i"
      },
      "source": [
        "def elmo_vector(text):\n",
        "  embed = elmo(text, signature=\"default\", as_dict=True)[\"elmo\"]\n",
        "  with tf.Session() as sess:\n",
        "    sess.run(tf.global_variables_initializer())\n",
        "    sess.run(tf.tables_initializer())\n",
        "    return sess.run(tf.reduce_mean(embed, 1))"
      ],
      "execution_count": 26,
      "outputs": []
    },
    {
      "cell_type": "code",
      "metadata": {
        "id": "bt1-JO5KNYId"
      },
      "source": [
        "train_batch = [email_train_dataframe[i:i+100] for i in range(0,email_train_dataframe.shape[0], 100)]"
      ],
      "execution_count": 21,
      "outputs": []
    },
    {
      "cell_type": "code",
      "metadata": {
        "id": "iNHchABNO8yQ",
        "outputId": "d14e8177-438b-403d-9a70-ab52fd8f17cf",
        "colab": {
          "base_uri": "https://localhost:8080/"
        }
      },
      "source": [
        ""
      ],
      "execution_count": 24,
      "outputs": [
        {
          "output_type": "execute_result",
          "data": {
            "text/plain": [
              "[     id  ...                                        clean_tweet\n",
              " 0     1  ...  fingerprint pregnancy test android apps beauti...\n",
              " 1     2  ...  finally transparant silicon case thanks uncle ...\n",
              " 2     3  ...  love would go talk makememories unplug relax i...\n",
              " 3     4  ...  wired know george made way iphone cute daventr...\n",
              " 4     5  ...  amazing service apple even talk question unles...\n",
              " ..  ...  ...                                                ...\n",
              " 95   96  ...  new model byhilalak earphone urbanears handmad...\n",
              " 96   97  ...  photo itunes vicio nellyfurtado nelstar playin...\n",
              " 97   98  ...  see many feature know iphone iphone yourtechco...\n",
              " 98   99  ...  happiness box yey phone sony xperia sonyxperia...\n",
              " 99  100  ...  feliz bado con caf saturday coffee pantry iphonex\n",
              " \n",
              " [100 rows x 4 columns],\n",
              "       id  ...                                        clean_tweet\n",
              " 100  101  ...  dreamy effect created straight iphone impressi...\n",
              " 101  102  ...  finalllllly note note samsung galaxy galaxynot...\n",
              " 102  103  ...  special app valentine fashion nowplaying daugh...\n",
              " 103  104  ...  photo day erie pa car sign iloveyou blackandwh...\n",
              " 104  105  ...  lunch park apple carrot banana lovely dog tree...\n",
              " ..   ...  ...                                                ...\n",
              " 195  196  ...  amigo friend iphonesia iphone instagood instag...\n",
              " 196  197  ...    thing make reading pink ereader sony use nearly\n",
              " 197  198  ...  edm life hardwell amor apple avicii acedemy ac...\n",
              " 198  199  ...  year shuffle samsung galaxyfamily finally real...\n",
              " 199  200  ...  thank u much god christian iphone instagram ip...\n",
              " \n",
              " [100 rows x 4 columns],\n",
              "       id  ...                                        clean_tweet\n",
              " 200  201  ...  woohoo finally get nx finally camera nx samsun...\n",
              " 201  202  ...  family family friend beauty fun cuties iphone ...\n",
              " 202  203  ...  happy samsung galaxy note got updated android ...\n",
              " 203  204  ...  rt sleekdeals hot deal high tech lightning usb...\n",
              " 204  205  ...  looove amazing beautiful copenhagen creative c...\n",
              " ..   ...  ...                                                ...\n",
              " 295  296  ...  hey appleofficlal schedule appts never honor n...\n",
              " 296  297  ...  uninstall samsung ky get android file transfer...\n",
              " 297  298  ...  gain follower rt must follow follow back follo...\n",
              " 298  299  ...  photo yea bro fifa day dope iphone instagood i...\n",
              " 299  300  ...  finally get something apple american get roger...\n",
              " \n",
              " [100 rows x 4 columns],\n",
              "       id  ...                                        clean_tweet\n",
              " 300  301  ...  fib rhyme sib nib jib bib rib dibs start today...\n",
              " 301  302  ...   oneplus finally fixed fast efficient thx oneplus\n",
              " 302  303  ...  thought would fun jailbreak ipod sitting resto...\n",
              " 303  304  ...  love fucking ipad rednose musicevideo blackfri...\n",
              " 304  305  ...                        people iphones keep showing\n",
              " ..   ...  ...                                                ...\n",
              " 395  396  ...  gain follower rt must follow follow back follo...\n",
              " 396  397  ...  loving cake day brighton got propper lush choc...\n",
              " 397  398  ...          new tv bedroom happy samsung smart tv new\n",
              " 398  399  ...  last day vote dabball round art game app iphon...\n",
              " 399  400  ...  absolutely love sony music cam recommend sony ...\n",
              " \n",
              " [100 rows x 4 columns],\n",
              "       id  ...                                        clean_tweet\n",
              " 400  401  ...  get iphone popular pure shite android far best...\n",
              " 401  402  ...  hate iphones impossible use g lte theworst can...\n",
              " 402  403  ...  hateapple update work causing computer restore...\n",
              " 403  404  ...  scroll twitter facebook like min phone go seri...\n",
              " 404  405  ...  came home mac case front door winning apple pi...\n",
              " ..   ...  ...                                                ...\n",
              " 495  496  ...       deleting email useless new phone hateiphones\n",
              " 496  497  ...  boyfriend new song instasize iphone lol hereit...\n",
              " 497  498  ...  samsung engineering building photooftheweek we...\n",
              " 498  499  ...  rt cook jk cook jk cooking jk japan apple pie ...\n",
              " 499  500  ...  shopping day starbucks coffee like like nice i...\n",
              " \n",
              " [100 rows x 4 columns],\n",
              "       id  ...                                        clean_tweet\n",
              " 500  501  ...        set almost done newtv samsung black massive\n",
              " 501  502  ...  main reason hateapple io bullshit sooooo annoy...\n",
              " 502  503  ...  catch family southerngirlproblems family cousi...\n",
              " 503  504  ...  even picture apple apple red fruit yum heathy ...\n",
              " 504  505  ...  new case hanogramcase martyarchs case name iph...\n",
              " ..   ...  ...                                                ...\n",
              " 595  596  ...  sony bottom heart would like say sonymobilenew...\n",
              " 596  597  ...  firstpresent firstlove dating penguin necklace...\n",
              " 597  598  ...                 look got today dying samsung phone\n",
              " 598  599  ...  hateapple music whether download music import ...\n",
              " 599  600  ...  scottiwata saying people micro wave ipads tota...\n",
              " \n",
              " [100 rows x 4 columns],\n",
              "       id  ...                                        clean_tweet\n",
              " 600  601  ...      egg crusher android game news io apple iphone\n",
              " 601  602  ...  couple picture took photography samsung galaxy...\n",
              " 602  603  ...  apple bee flow hour made dollar n tip gotta ea...\n",
              " 603  604  ...  reposting lexzaronis walk door side find magic...\n",
              " 604  605  ...  must story camera nikon sony picoftheday free ...\n",
              " ..   ...  ...                                                ...\n",
              " 695  696  ...  year old mother simultaneously hate iphone ref...\n",
              " 696  697  ...  beautiful princess daughter hawaiian present c...\n",
              " 697  698  ...  apple though big phone unusable apple hypocrit...\n",
              " 698  699  ...  go ipon iphone igers dream want igersasia iger...\n",
              " 699  700  ...  hey guy look samsung galaxy midnight black gb ...\n",
              " \n",
              " [100 rows x 4 columns],\n",
              "       id  ...                                        clean_tweet\n",
              " 700  701  ...  come mama new baby gift galaxy samsung white n...\n",
              " 701  702  ...  ya think new iphone cover blingy enough lol ip...\n",
              " 702  703  ...  smile room showmeyour happiness smile room son...\n",
              " 703  704  ...  anything put mind become accomplish fact miami...\n",
              " 704  705  ...  photooftheday instagram iphone nail creativity...\n",
              " ..   ...  ...                                                ...\n",
              " 795  796  ...                meantime tweeting crappad mean ipad\n",
              " 796  797  ...  black friday follow creativebanana blackfriday...\n",
              " 797  798  ...  debut new online customer experience presdak i...\n",
              " 798  799  ...  february day clock iphone apps home screen ocl...\n",
              " 799  800  ...           suck earphone month old use office apple\n",
              " \n",
              " [100 rows x 4 columns],\n",
              "       id  ...                                        clean_tweet\n",
              " 800  801  ...  love horse summer nature photo girl life photo...\n",
              " 801  802  ...  sibling sister fun girl selfie selca frontcam ...\n",
              " 802  803  ...  stupid droid u show music player window medium...\n",
              " 803  804  ...  u used credit card playstation network hacker ...\n",
              " 804  805  ...  jill holmes departs vh west news photography f...\n",
              " ..   ...  ...                                                ...\n",
              " 895  896  ...  watch tyga squirm away ross news photography f...\n",
              " 896  897  ...  wifi haking password android apps unitedstate ...\n",
              " 897  898  ...  pre ordered payed full playstation playstation...\n",
              " 898  899  ...  people annoying new iphone phone phone thing a...\n",
              " 899  900  ...  new display picture iphoneography iphone insta...\n",
              " \n",
              " [100 rows x 4 columns],\n",
              "        id  ...                                        clean_tweet\n",
              " 900   901  ...  would like wish amazing day make every minute ...\n",
              " 901   902  ...  apple charger worst bought ten iphone charger ...\n",
              " 902   903  ...  rt larry hwan selfie indonesia shopping fun cu...\n",
              " 903   904  ...  samsung gear vr shae transported world healthy...\n",
              " 904   905  ...  new note happy left apple breakup peaceout cus...\n",
              " ..    ...  ...                                                ...\n",
              " 995   996  ...  looking awesome awesome woodworking greatful y...\n",
              " 996   997  ...  new toy ipad apple rdgeneration shopping gift ...\n",
              " 997   998  ...  slowhand dr banana widget see twitter stock we...\n",
              " 998   999  ...  idk download dead nation infamous never play e...\n",
              " 999  1000  ...       gone thru four iphone charger day bos badass\n",
              " \n",
              " [100 rows x 4 columns],\n",
              "         id  ...                                        clean_tweet\n",
              " 1000  1001  ...  martinju instafunny video antena beach la cant...\n",
              " 1001  1002  ...  cake like iphone iphonesia outmagazine photgra...\n",
              " 1002  1003  ...    miisstoriix overrated waste money get abuse lol\n",
              " 1003  1004  ...  thanks delivery today pre order paid beat brot...\n",
              " 1004  1005  ...  like geisha kimono geisha jepang pink beauty m...\n",
              " ...    ...  ...                                                ...\n",
              " 1095  1096  ...  last present year p makeupartist game sony ath...\n",
              " 1096  1097  ...  new year cheerful fun smile sweet couple sony ...\n",
              " 1097  1098  ...  vanle done samsungmobileus jay z payroll enoug...\n",
              " 1098  1099  ...  annieb x beckyheth based fact use iphone send ...\n",
              " 1099  1100  ...  photo quote instagood insta sexy weed iphone c...\n",
              " \n",
              " [100 rows x 4 columns],\n",
              "         id  ...                                        clean_tweet\n",
              " 1100  1101  ...  twitter stupid ipod keep crashing good job twe...\n",
              " 1101  1102  ...  rt rt planet doug compassion iphone case zazzl...\n",
              " 1102  1103  ...  proofjalenmcmillan proof concept trending foll...\n",
              " 1103  1104  ...  birthday time top legging shape friend playapa...\n",
              " 1104  1105  ...                  iphone update last month annoying\n",
              " ...    ...  ...                                                ...\n",
              " 1195  1196  ...  photo new iphone case gold silver black diamon...\n",
              " 1196  1197  ...  grab hand please apple cockhead big dick enorm...\n",
              " 1197  1198  ...  soon baby soon mine iloveit tv samsungtv samsu...\n",
              " 1198  1199  ...  moal boal iphoneography iphoneonly iphoneograp...\n",
              " 1199  1200  ...     oh iphone would ever done social medium iphone\n",
              " \n",
              " [100 rows x 4 columns],\n",
              "         id  ...                                        clean_tweet\n",
              " 1200  1201  ...  good day follower stitch samsung galaxy note t...\n",
              " 1201  1202  ...  mind taken captive dream one day awake beauty ...\n",
              " 1202  1203  ...  apple getting sued becuase many app downloadin...\n",
              " 1203  1204  ...  phone literally plugged sudden shot sway still...\n",
              " 1204  1205  ...  said bye blackberry hello new phone iphone six...\n",
              " ...    ...  ...                                                ...\n",
              " 1295  1296  ...  new wallpaper best friend smile best friend wa...\n",
              " 1296  1297  ...  check funky fruit bowl apple fruit fruitbowl k...\n",
              " 1297  1298  ...  would like wish amazing day make every minute ...\n",
              " 1298  1299  ...  scotters loyal bb user put rim ground hop andr...\n",
              " 1299  1300  ...  apple worst fucking support ever hafta pay app...\n",
              " \n",
              " [100 rows x 4 columns],\n",
              "         id  ...                                        clean_tweet\n",
              " 1300  1301  ...  rt czarinap photo family love migros manor chr...\n",
              " 1301  1302  ...  jojo fletcher reveals top news photography fas...\n",
              " 1302  1303  ...  people new iphone came got first tattoo ever i...\n",
              " 1303  1304  ...  infinity infinity teen tumblr iphone photograp...\n",
              " 1304  1305  ...  whats iphone iphone apple vlog vlogger l canon...\n",
              " ...    ...  ...                                                ...\n",
              " 1395  1396  ...  broken every single fucking iphone ever owned ...\n",
              " 1396  1397  ...  phone got amazing update world galaxy samsung ...\n",
              " 1397  1398  ...  see positive smallest thing apple heart wednes...\n",
              " 1398  1399  ...  hot girl china foodporn dj ballet ff family ap...\n",
              " 1399  1400  ...   kernel panic apple fuckyou come macbook year old\n",
              " \n",
              " [100 rows x 4 columns],\n",
              "         id  ...                                        clean_tweet\n",
              " 1400  1401  ...        really want ipad sole reason want one apple\n",
              " 1401  1402  ...    thanks beautiful ly power bank sony via lbc got\n",
              " 1402  1403  ...  gain follower rt must follow follow back follo...\n",
              " 1403  1404  ...  saturday peep kotakinabalu sun weekend car bla...\n",
              " 1404  1405  ...  mundo al ref boy kid smile hair gold gr retrat...\n",
              " ...    ...  ...                                                ...\n",
              " 1495  1496  ...  good morning cool cute hollywood baby blue bea...\n",
              " 1496  1497  ...  today appleturnoverday rule crumb stress canno...\n",
              " 1497  1498  ...               im glad sony xperia one thats tv add\n",
              " 1498  1499  ...  new article quepublishing love hate apple appl...\n",
              " 1499  1500  ...  something happy start day garage band implemen...\n",
              " \n",
              " [100 rows x 4 columns],\n",
              "         id  ...                                        clean_tweet\n",
              " 1500  1501  ...  apple bunch crook refused repair replace beat ...\n",
              " 1501  1502  ...    happy birthday mybirthar regalos imac mac apple\n",
              " 1502  1503  ...  hot giveaway end today enter chance win apple ...\n",
              " 1503  1504  ...  oh yeaaaaah baby suck monster apple cockhead b...\n",
              " 1504  1505  ...  selfie pose see feel happy important samsung d...\n",
              " ...    ...  ...                                                ...\n",
              " 1595  1596  ...  switch iphone plus love apple iphone thewait cent\n",
              " 1596  1597  ...  sonypictures go fuck going pull movie terroris...\n",
              " 1597  1598  ...         hole suck apple bring classy instead funky\n",
              " 1598  1599  ...  acesse game play xbox charge charger sony pilh...\n",
              " 1599  1600  ...  piece work verotruesocial different instagramh...\n",
              " \n",
              " [100 rows x 4 columns],\n",
              "         id  ...                                        clean_tweet\n",
              " 1600  1601  ...  self obsessed culture selfie universal art por...\n",
              " 1601  1602  ...  nokia sirocco unlocked mobile phone florida mo...\n",
              " 1602  1603  ...  brother lappy vaio laptop sony silver black st...\n",
              " 1603  1604  ...  lemme get straight apple charger suck therefor...\n",
              " 1604  1605  ...            proud sony phone user since k k c sonyz\n",
              " ...    ...  ...                                                ...\n",
              " 1695  1696  ...               love phone flashed score time iphone\n",
              " 1696  1697  ...  another cool photo hate fit screen instagood i...\n",
              " 1697  1698  ...  follow capetownsup instagram sup surf fun cape...\n",
              " 1698  1699  ...  yay love new white iphone iphone white apple r...\n",
              " 1699  1700  ...  promotion life organic katy store nice special...\n",
              " \n",
              " [100 rows x 4 columns],\n",
              "         id  ...                                        clean_tweet\n",
              " 1700  1701  ...  new post workout photo adornthewicked apple sp...\n",
              " 1701  1702  ...  theesar bear get everything wait christmas jea...\n",
              " 1702  1703  ...  iphone plus gold brand new box iphone sougofol...\n",
              " 1703  1704  ...  theoffice flaccid dick dry vagina news apple g...\n",
              " 1704  1705  ...  saw cute guy got happy william gay horny girl ...\n",
              " ...    ...  ...                                                ...\n",
              " 1795  1796  ...  love sweden swedish girl blonde black year tir...\n",
              " 1796  1797  ...  aisha macbook hard drive died week protection ...\n",
              " 1797  1798  ...  iphone took like forever get setting back neve...\n",
              " 1798  1799  ...  end end system system apple macbookpro appleis...\n",
              " 1799  1800  ...  oneplus official oneplus gallery oneplus shaw ...\n",
              " \n",
              " [100 rows x 4 columns],\n",
              "         id  ...                                        clean_tweet\n",
              " 1800  1801  ...  jamesyblade brocklesby still think apple custo...\n",
              " 1801  1802  ...  gold plated butt plug business sued apple appa...\n",
              " 1802  1803  ...  contest teachersday win bumper prize ipad sams...\n",
              " 1803  1804  ...  much ado hairdo francois news photography fash...\n",
              " 1804  1805  ...  trying type word english keyboard change frenc...\n",
              " ...    ...  ...                                                ...\n",
              " 1895  1896  ...  shirt much zeta supply click link iphone disco...\n",
              " 1896  1897  ...  happiness iphone unlock att iloveit unlock ige...\n",
              " 1897  1898  ...  lost everything phone restore either day fucki...\n",
              " 1898  1899  ...  min previous post iphone video beach storm cel...\n",
              " 1899  1900  ...      say iphone image cache gizmodo com imagecache\n",
              " \n",
              " [100 rows x 4 columns],\n",
              "         id  ...                                        clean_tweet\n",
              " 1900  1901  ...  want new iphone need new iphone glitchy crashi...\n",
              " 1901  1902  ...  loving new premium suite software upgrade feat...\n",
              " 1902  1903  ...  would like wish amazing day make every minute ...\n",
              " 1903  1904  ...  kate mm followsunday followback rt teamfollowb...\n",
              " 1904  1905  ...  mama got new phone prepared portrait mode over...\n",
              " ...    ...  ...                                                ...\n",
              " 1995  1996  ...  feel free chile tourism nature freedom sky iph...\n",
              " 1996  1997  ...  hunt steemit hunt garden new life home story b...\n",
              " 1997  1998  ...              ordering plus today since work iphone\n",
              " 1998  1999  ...           iphone month already piece broken fuming\n",
              " 1999  2000  ...       p xperia sony alltheway grateful life beauty\n",
              " \n",
              " [100 rows x 4 columns],\n",
              "         id  ...                                        clean_tweet\n",
              " 2000  2001  ...  think world gonna end barely predict weather t...\n",
              " 2001  2002  ...  gain follower rt must follow follow back follo...\n",
              " 2002  2003  ...  follow capetownsup instagram sup surf fun cape...\n",
              " 2003  2004  ...              delete message phone download one app\n",
              " 2004  2005  ...  day feel better iphone apple newphone rosegold...\n",
              " ...    ...  ...                                                ...\n",
              " 2095  2096  ...  school mine apple water bfast goodvibes girl k...\n",
              " 2096  2097  ...  benghazi victim widow blast news photography f...\n",
              " 2097  2098  ...  playing start party starttheparty p sony plays...\n",
              " 2098  2099  ...  nite nite kiss la iphone iphonemania passion i...\n",
              " 2099  2100  ...            hope thy fix da problem apple iphone io\n",
              " \n",
              " [100 rows x 4 columns],\n",
              "         id  ...                                        clean_tweet\n",
              " 2100  2101  ...  home fairy via redbubble fungi pun funny cute ...\n",
              " 2101  2102  ...  face gadget siri smartwatch discount expires h...\n",
              " 2102  2103  ...  xstephenchapman better ipad iphone verizon app...\n",
              " 2103  2104  ...  love playing guitar explore enjoylife friend p...\n",
              " 2104  2105  ...  bako case new arrival iphone phone ebay samsun...\n",
              " ...    ...  ...                                                ...\n",
              " 2195  2196  ...  phone would fail need thanks nothing piece shi...\n",
              " 2196  2197  ...  lariiiis brunoheider eu family friend hot gala...\n",
              " 2197  2198  ...  batman rescue rt laurencopeland thank god peop...\n",
              " 2198  2199  ...  oh hello selfie vancouver instadaily instacute...\n",
              " 2199  2200  ...  kingofarsenal never imac though good mind nice...\n",
              " \n",
              " [100 rows x 4 columns],\n",
              "         id  ...                                        clean_tweet\n",
              " 2200  2201  ...  day tweet reddit ups fb share fb like solid ar...\n",
              " 2201  2202  ...  yay thank grandma ipad apple newtechnology new...\n",
              " 2202  2203  ...  tip recipe call cup thinly sliced apple approx...\n",
              " 2203  2204  ...  love samsung galaxy note phone bestbuy sprint ...\n",
              " 2204  2205  ...  microsoft zune clearly superior product ipod m...\n",
              " ...    ...  ...                                                ...\n",
              " 2295  2296  ...  aaron skip tweet oomf southside ipho suburb ip...\n",
              " 2296  2297  ...    fucking apple pay gig give asshole apple iphone\n",
              " 2297  2298  ...  aand probably lost everything itunes well phon...\n",
              " 2298  2299  ...  mp cutter free android apps unitedstate cute c...\n",
              " 2299  2300  ...  going work bh c iphonesia iphone instagood ins...\n",
              " \n",
              " [100 rows x 4 columns],\n",
              "         id  ...                                        clean_tweet\n",
              " 2300  2301  ...             kid free app platypus sing iphone ipad\n",
              " 2301  2302  ...  hi baby new apple iphone iphone black yayness ...\n",
              " 2302  2303  ...  samsung car adapter available store caradapter...\n",
              " 2303  2304  ...  dear apple product god samn complicated restar...\n",
              " 2304  2305  ...  mum dad bought birthday present whoo netbook s...\n",
              " ...    ...  ...                                                ...\n",
              " 2395  2396  ...  fuck itunes fuck apple appleofficialll fuck sy...\n",
              " 2396  2397  ...  yes finally got pair apple airpods listen dual...\n",
              " 2397  2398  ...  cave vocation newyear trip thailand khaoko ilc...\n",
              " 2398  2399  ...     new pretty case sony sonyxperiaz london tardis\n",
              " 2399  2400  ...  finally open organiqa case find unique case ip...\n",
              " \n",
              " [100 rows x 4 columns],\n",
              "         id  ...                                        clean_tweet\n",
              " 2400  2401  ...  week ago samsung note updated annoying ever si...\n",
              " 2401  2402  ...  funny xd mhp rd monsterhunterportable rd cat m...\n",
              " 2402  2403  ...  guess getting one plus two christmas oneplus o...\n",
              " 2403  2404  ...                 siri need love iphone apple iphone\n",
              " 2404  2405  ...     id rather fucking env iphone right apple usuck\n",
              " ...    ...  ...                                                ...\n",
              " 2495  2496  ...  super slow mo part samsungs plus samsung plus ...\n",
              " 2496  2497  ...  picture p instapic fresh ly newlook newphone s...\n",
              " 2497  2498  ...  r onedayatatimer life survive storm dance rain...\n",
              " 2498  2499  ...  selfietime nothing like joyful zero dark thirt...\n",
              " 2499  2500  ...        battery going whilst phone charging melting\n",
              " \n",
              " [100 rows x 4 columns],\n",
              "         id  ...                                        clean_tweet\n",
              " 2500  2501  ...  f secure study show malware pc come via pdf ex...\n",
              " 2501  2502  ...  romanticsunsets best visitcozumel case missed ...\n",
              " 2502  2503  ...  photo anime brazil instagram brazilian photo w...\n",
              " 2503  2504  ...  gain follower rt must follow follow back follo...\n",
              " 2504  2505  ...  breath ny nyc newyork usa timesq travel iphone...\n",
              " ...    ...  ...                                                ...\n",
              " 2595  2596  ...  goodmorning weekend note samsung note scribble...\n",
              " 2596  2597  ...  way trafford centre get new phone find need ap...\n",
              " 2597  2598  ...  photo yumm n n sushi japan kedaiartha friend t...\n",
              " 2598  2599  ...  frustrated apple customer service tried callin...\n",
              " 2599  2600  ...  big app news august st healthcare startup hlyk...\n",
              " \n",
              " [100 rows x 4 columns],\n",
              "         id  ...                                        clean_tweet\n",
              " 2600  2601  ...  sky turn green flower stay red instadaily inst...\n",
              " 2601  2602  ...  note mobile turn one tomorrow survived samsung...\n",
              " 2602  2603  ...  fucking dontstarve videogames gaming psvita ga...\n",
              " 2603  2604  ...  know fuck apple dumbfuck motherfucker make pro...\n",
              " 2604  2605  ...  see available storage new iphone x gb availabl...\n",
              " ...    ...  ...                                                ...\n",
              " 2695  2696  ...  apple deal massive patent blow htc android ser...\n",
              " 2696  2697  ...  chasing sunset sunset nature street iphone ins...\n",
              " 2697  2698  ...  fuckyou apple ipod update new ipod touch itune...\n",
              " 2698  2699  ...  thanks samsung complimentary haagendazs icecre...\n",
              " 2699  2700  ...  gain follower rt must follow follow back follo...\n",
              " \n",
              " [100 rows x 4 columns],\n",
              "         id  ...                                        clean_tweet\n",
              " 2700  2701  ...  support giving u follow retweeting u followus ...\n",
              " 2701  2702  ...  im hate apple change lightning cable since jan...\n",
              " 2702  2703  ...  ar love blender sushi project augmentedreality...\n",
              " 2703  2704  ...  amazes morocco shot sonyalpha rii using sony m...\n",
              " 2704  2705  ...  rt ulyssesseen via new yorker apple change hea...\n",
              " ...    ...  ...                                                ...\n",
              " 2795  2796  ...  friendly banter kickstartercampaign sydney app...\n",
              " 2796  2797  ...  hey apple shopcrabtree suck spent power cable ...\n",
              " 2797  2798  ...  new phone samsung galaxy nextisnow sayhello pi...\n",
              " 2798  2799  ...  hate hate hate apple ferociously deep burning ...\n",
              " 2799  2800  ...  honey vocation newyear trip thailand khaoko il...\n",
              " \n",
              " [100 rows x 4 columns],\n",
              "         id  ...                                        clean_tweet\n",
              " 2800  2801  ...  follow u get mobile phone accessory running pr...\n",
              " 2801  2802  ...  currently apple share price flirting might sha...\n",
              " 2802  2803  ...  mandaboo day straightened hair meow instagram ...\n",
              " 2803  2804  ...              updated sony android ate supersu sony\n",
              " 2804  2805  ...  love new phone case iphone case disney stuff h...\n",
              " ...    ...  ...                                                ...\n",
              " 2895  2896  ...  wtf updated mac password chrome wiped clean so...\n",
              " 2896  2897  ...  convert photo cartoon android apps unitedstate...\n",
              " 2897  2898  ...  slipcover rhyme hover cover plover glover star...\n",
              " 2898  2899  ...  gain follower rt must follow follow back follo...\n",
              " 2899  2900  ...  happy weekend everyone fridaypic new project w...\n",
              " \n",
              " [100 rows x 4 columns],\n",
              "         id  ...                                        clean_tweet\n",
              " 2900  2901  ...  behalf samsung bunch u distributed notebook go...\n",
              " 2901  2902  ...  one thing really love samsung galaxy note tab ...\n",
              " 2902  2903  ...  video via illusiveart space cat collab emase s...\n",
              " 2903  2904  ...  beautiful bf saturday teixo friend bf swaggy i...\n",
              " 2904  2905  ...  rock bit big jack uk general picture good god ...\n",
              " ...    ...  ...                                                ...\n",
              " 2995  2996  ...          fucking mac calendar fucking center apple\n",
              " 2996  2997  ...          love emoji apple iphone imac camera heart\n",
              " 2997  2998  ...  ameliafsimmons oh stressing believe queuing bu...\n",
              " 2998  2999  ...  see macbook apple igers instahub instagood ins...\n",
              " 2999  3000  ...   prophet husband iphone android kindle book march\n",
              " \n",
              " [100 rows x 4 columns],\n",
              "         id  ...                                        clean_tweet\n",
              " 3000  3001  ...  back alive using note loving samsung tablet cl...\n",
              " 3001  3002  ...  another free pepper lunch hahahah free galaxyg...\n",
              " 3002  3003  ...  o x imac wake sleep itunes song library beachb...\n",
              " 3003  3004  ...  yep girl marky new iphone iphone black white i...\n",
              " 3004  3005  ...  empowered unlockthesecrettoyoursoulmate downlo...\n",
              " ...    ...  ...                                                ...\n",
              " 3095  3096  ...  would like wish amazing day make every minute ...\n",
              " 3096  3097  ...  good morning happy people bagi pin donk v andr...\n",
              " 3097  3098  ...        sick phone call anyone stupid iphone pissed\n",
              " 3098  3099  ...  fourth day without laptop another week go with...\n",
              " 3099  3100  ...  shashtyabdhi th birthday steve job btw fyi app...\n",
              " \n",
              " [100 rows x 4 columns],\n",
              "         id  ...                                        clean_tweet\n",
              " 3100  3101  ...  hanging santa samsung galaxystudiousa montgome...\n",
              " 3101  3102  ...  fuck apple charger cable suck break easily swi...\n",
              " 3102  3103  ...  gain follower rt must follow follow back follo...\n",
              " 3103  3104  ...  pamela neighbour love jeanne pamela neighbour ...\n",
              " 3104  3105  ...  look iphonesia iphone instagood instagram phot...\n",
              " ...    ...  ...                                                ...\n",
              " 3195  3196  ...  ameliaj ahhhhh though abit let honest think ap...\n",
              " 3196  3197  ...  lens z sony paixaodecristo rec hdv equipedelta...\n",
              " 3197  3198  ...  new phone galaxy note phone newphone samsung a...\n",
              " 3198  3199  ...  applesupport hateapple could make refund visit...\n",
              " 3199  3200  ...  least six die score news photography fashion h...\n",
              " \n",
              " [100 rows x 4 columns],\n",
              "         id  ...                                        clean_tweet\n",
              " 3200  3201  ...  cool design phone grip aliexpress cheap sale s...\n",
              " 3201  3202  ...  get music ipod sweet fantastic amazing ipod apple\n",
              " 3202  3203  ...  new baby thank mommy daddy spoiled camera sony...\n",
              " 3203  3204  ...         sky punk android game news io apple iphone\n",
              " 3204  3205  ...  mashable geekiest marriage proposal including ...\n",
              " ...    ...  ...                                                ...\n",
              " 3295  3296  ...  bought mac bought mac bought mac imovie wahooo...\n",
              " 3296  3297  ...  gettig galaxy note tmrw happy girl excited sam...\n",
              " 3297  3298  ...  baby cute brasil instaphoto instapic instame i...\n",
              " 3298  3299  ...  apple new dress latergram preschoolersofig oon...\n",
              " 3299  3300  ...  really starting hate iphone stupid phone rando...\n",
              " \n",
              " [100 rows x 4 columns],\n",
              "         id  ...                                        clean_tweet\n",
              " 3300  3301  ...  enter new reality agnee vr box shop vr virtual...\n",
              " 3301  3302  ...            samsung lg apple iphone going back ever\n",
              " 3302  3303  ...  got iphone find wondering care iphone even ran...\n",
              " 3303  3304  ...  mcaldecutt actually mac kid grew liked thing l...\n",
              " 3304  3305  ...     apple laptop freaking hash tag press alt great\n",
              " ...    ...  ...                                                ...\n",
              " 3395  3396  ...  smile angel smile face samsung galaxy street p...\n",
              " 3396  3397  ...            took hour fix new ipod packaging minute\n",
              " 3397  3398  ...  satisfied customer priceless switch costumer s...\n",
              " 3398  3399  ...  finally got samsung galaxy iii add whatsapp sa...\n",
              " 3399  3400  ...  hour later still trying install io please goog...\n",
              " \n",
              " [100 rows x 4 columns],\n",
              "         id  ...                                        clean_tweet\n",
              " 3400  3401  ...  proud welcome new addition rafcave sony native...\n",
              " 3401  3402  ...  forget smile music smile likeforfollow losange...\n",
              " 3402  3403  ...  best offer universal smartphone car air vent m...\n",
              " 3403  3404  ...  gain follower rt must follow follow back follo...\n",
              " 3404  3405  ...          apple window seem like overall hate apple\n",
              " ...    ...  ...                                                ...\n",
              " 3495  3496  ...  hillary clinton struggle find news photography...\n",
              " 3496  3497  ...  say want microsoft least charge build source a...\n",
              " 3497  3498  ...  gain follower rt must follow follow back follo...\n",
              " 3498  3499  ...  thatisall happy sunday life beauty joy happine...\n",
              " 3499  3500  ...  moby buy cool gift today sony samsung iphone ipad\n",
              " \n",
              " [100 rows x 4 columns],\n",
              "         id  ...                                        clean_tweet\n",
              " 3500  3501  ...  iphone mockup graphicdesign logo freelancer se...\n",
              " 3501  3502  ...      new casing baby samsung phone red orange girl\n",
              " 3502  3503  ...  message top button officially broken apple win...\n",
              " 3503  3504  ...  apple right day never forget much fail serious...\n",
              " 3504  3505  ...   say first time heard update gonna send new phone\n",
              " ...    ...  ...                                                ...\n",
              " 3595  3596  ...  reposting wallofwallstreet via crowdfire look ...\n",
              " 3596  3597  ...  wow get quick charge usb car charger type c ca...\n",
              " 3597  3598  ...  fact phone week old charger headphone already ...\n",
              " 3598  3599  ...  minute wasted far fucking apple id account and...\n",
              " 3599  3600  ...  new year goal dsct sony lip rearlip trunklip m...\n",
              " \n",
              " [100 rows x 4 columns],\n",
              "         id  ...                                        clean_tweet\n",
              " 3600  3601  ...  free apple iphone tester needed iphone tech fo...\n",
              " 3601  3602  ...  science weighs best hangover cure ff friend gr...\n",
              " 3602  3603  ...  space cool space bordercollie bordercollies bo...\n",
              " 3603  3604  ...  dont iphone stupid little icon come box applei...\n",
              " 3604  3605  ...  apple account support bureaucratic hugo chavez...\n",
              " ...    ...  ...                                                ...\n",
              " 3695  3696  ...  liked klip goodnight klip sleep restful tuesda...\n",
              " 3696  3697  ...  apple mac airbook hd failed year use wtf apple...\n",
              " 3697  3698  ...  apple turn today anniversary apple stevejobs s...\n",
              " 3698  3699  ...  red beanie red camera leica light snapshot fra...\n",
              " 3699  3700  ...  luke bible quote truth faith igers poppage ins...\n",
              " \n",
              " [100 rows x 4 columns],\n",
              "         id  ...                                        clean_tweet\n",
              " 3700  3701  ...  reallyreal app approved iphone ipad dating col...\n",
              " 3701  3702  ...  good day everyone enjoy offer miss boostmobile...\n",
              " 3702  3703  ...  justinbieber love sexy hot delicious kiss appl...\n",
              " 3703  3704  ...  laptop could turn back fix would amazing figur...\n",
              " 3704  3705  ...  well someone want using wifi wifi asshole fuck...\n",
              " ...    ...  ...                                                ...\n",
              " 3795  3796  ...  text brother half asleep paulcgd iphone autoco...\n",
              " 3796  3797  ...  syncing piece ipod hourse update motherfucker ...\n",
              " 3797  3798  ...  audio proverb app english italian listen repea...\n",
              " 3798  3799  ...         fml great time phone die smdh apple iphone\n",
              " 3799  3800  ...  hey asshole want googlemaps youtube apps back ...\n",
              " \n",
              " [100 rows x 4 columns],\n",
              "         id  ...                                        clean_tweet\n",
              " 3800  3801  ...  edlitam paris travel amazing iphone funny worl...\n",
              " 3801  3802  ...  iphone battery usage totally unrelated phone u...\n",
              " 3802  3803  ...  father taking buy first gaming console ever p ...\n",
              " 3803  3804  ...  new phone motorola motox ittalkstome sogood in...\n",
              " 3804  3805  ...  laying night sunday yesterdaywassaturday tired...\n",
              " ...    ...  ...                                                ...\n",
              " 3895  3896  ...  soon mine baby p amazon gamer extremelyhappy sony\n",
              " 3896  3897  ...  soft grip battery case iphone powerplus ii per...\n",
              " 3897  3898  ...  lover samsung ipad live laugh life instago ins...\n",
              " 3898  3899  ...  tomorrow valenti tomorrow friday tgif instapic...\n",
              " 3899  3900  ...  keeping music ear pandora iphone itunes monica...\n",
              " \n",
              " [100 rows x 4 columns],\n",
              "         id  ...                                        clean_tweet\n",
              " 3900  3901  ...  follow capetownsup instagram sup surf fun cape...\n",
              " 3901  3902  ...  simple makeup dayyyy instapic samsung makeup r...\n",
              " 3902  3903  ...  payback battle sandbox android game news io ap...\n",
              " 3903  3904  ...  creating new way make education material w iph...\n",
              " 3904  3905  ...  tunnel joy peace reflect remember sky cloud cl...\n",
              " ...    ...  ...                                                ...\n",
              " 3995  3996  ...  hour christmas samsung live laugh life instamo...\n",
              " 3996  3997  ...  racing industry anti corruption news photograp...\n",
              " 3997  3998  ...  good morning rm japan whole za world friend ni...\n",
              " 3998  3999  ...  official iphone stay plugged disaster needanew...\n",
              " 3999  4000  ...  never hated inanimate object much fucking hate...\n",
              " \n",
              " [100 rows x 4 columns],\n",
              "         id  ...                                        clean_tweet\n",
              " 4000  4001  ...  happy founder day holiday iphone smile shade g...\n",
              " 4001  4002  ...  photo jdi peace inphonesia instragrammers ipho...\n",
              " 4002  4003  ...  every day save life friday selfie blonde iphon...\n",
              " 4003  4004  ...   wonderful slow phone good service apple phone as\n",
              " 4004  4005  ...  satisfied customer priceless switch costumer s...\n",
              " ...    ...  ...                                                ...\n",
              " 4095  4096  ...  playing video game justdrihhh iphonesia iphone...\n",
              " 4096  4097  ...                            phone dy time emergency\n",
              " 4097  4098  ...  io music app display lyric apple music song vi...\n",
              " 4098  4099  ...     bumpily rhyme e ye je mi ne check rhyme iphone\n",
              " 4099  4100  ...  love poem love app fashion usa girl poem valen...\n",
              " \n",
              " [100 rows x 4 columns],\n",
              "         id  ...                                        clean_tweet\n",
              " 4100  4101  ...  free ipad iphone kindle amazon prime wolfe exe...\n",
              " 4101  4102  ...  code findgifts via redbubble redbubble sale di...\n",
              " 4102  4103  ...  oppo suck always phone suffers heat problem be...\n",
              " 4103  4104  ...         kid platypus sing free app get iphone ipad\n",
              " 4104  4105  ...  muslim love care iphone ipad io muslimsforpeac...\n",
              " ...    ...  ...                                                ...\n",
              " 4195  4196  ...  happened today christmas present christmas app...\n",
              " 4196  4197  ...  kind adorable nick cute bestfriends iphone boy...\n",
              " 4197  4198  ...  sweet love sweet app idol girl nowplaying quot...\n",
              " 4198  4199  ...  another face hysteria morning dufan wonderfuli...\n",
              " 4199  4200  ...  tea fuel tea india iphone bangalore refresh fu...\n",
              " \n",
              " [100 rows x 4 columns],\n",
              "         id  ...                                        clean_tweet\n",
              " 4200  4201  ...  al one favorite song piercetheveil ptv song mu...\n",
              " 4201  4202  ...  seek f u c k u fuckyou samsung galaxy galaxy a...\n",
              " 4202  4203  ...  lovin mood case clicklnt casemate mood moodygr...\n",
              " 4203  4204  ...  waterfall vocation newyear trip thailand khaok...\n",
              " 4204  4205  ...  backend vocation newyear trip thailand khaoko ...\n",
              " ...    ...  ...                                                ...\n",
              " 4295  4296  ...   going itunes listened always liked vid tell bout\n",
              " 4296  4297  ...  would like wish amazing day make every minute ...\n",
              " 4297  4298  ...  photography video android apps beautiful cute ...\n",
              " 4298  4299  ...  wonder message getting read even open fucking ...\n",
              " 4299  4300  ...  know smart get iphone repair centre early avoi...\n",
              " \n",
              " [100 rows x 4 columns],\n",
              "         id  ...                                        clean_tweet\n",
              " 4300  4301  ...  photo longhair swag sxe baby straightedge onel...\n",
              " 4301  4302  ...  follow capetownsup instagram sup surf fun cape...\n",
              " 4302  4303  ...  city view nyc ny nyc newyork usa timesq travel...\n",
              " 4303  4304  ...   yayy get mini love dad muax samsung mini spmgift\n",
              " 4304  4305  ...           dear iphone iphone plus apple ly amazing\n",
              " ...    ...  ...                                                ...\n",
              " 4395  4396  ...  photo pick two survey pick iphone filter relat...\n",
              " 4396  4397  ...                      nd time restore ipod annoying\n",
              " 4397  4398  ...  release day release day city amfenster ddr son...\n",
              " 4398  4399  ...  needing thunderbolt firewire adapter pronto th...\n",
              " 4399  4400  ...  installing free program create appleid verify ...\n",
              " \n",
              " [100 rows x 4 columns],\n",
              "         id  ...                                        clean_tweet\n",
              " 4400  4401  ...  guess came post today olaf snowman samsung pho...\n",
              " 4401  4402  ...  skittle love fatcat orangecat iphone apple ani...\n",
              " 4402  4403  ...           pundit among iphone user love att iphone\n",
              " 4403  4404  ...  gain follower rt must follow follow back follo...\n",
              " 4404  4405  ...  painting music smile galeanastudio paintingbru...\n",
              " ...    ...  ...                                                ...\n",
              " 4495  4496  ...  orange mood today mood mymood orange bellross ...\n",
              " 4496  4497  ...  dude fusrohdave comic bff bestfriend webcomic ...\n",
              " 4497  4498  ...  web developer conference know tag work idiot a...\n",
              " 4498  4499  ...       l onora apple pie oh day first pic instagram\n",
              " 4499  4500  ...  listening new magnacarta al waiting samsung fi...\n",
              " \n",
              " [100 rows x 4 columns],\n",
              "         id  ...                                        clean_tweet\n",
              " 4500  4501  ...  another stupid shitty ugly charger broke annoy...\n",
              " 4501  4502  ...  goodmorning nowplaying np tpain nappyboy best ...\n",
              " 4502  4503  ...  even home get fit nikke trainning iphone app t...\n",
              " 4503  4504  ...  earlier phone enough battery life update say u...\n",
              " 4504  4505  ...  really lovin new phone android rock speed much...\n",
              " ...    ...  ...                                                ...\n",
              " 4595  4596  ...  fact taken hour reset iphone straight bull iph...\n",
              " 4596  4597  ...  moon vocation newyear trip thailand khaoko ilc...\n",
              " 4597  4598  ...  hey new iphone xd sopretty iphone gold white i...\n",
              " 4598  4599  ...  smiley emirati boy love uae handmade mobile ip...\n",
              " 4599  4600  ...  th august thproductions fimmaking canon iphone...\n",
              " \n",
              " [100 rows x 4 columns],\n",
              "         id  ...                                        clean_tweet\n",
              " 4600  4601  ...  anonymous please go fuck psn sony psn back onl...\n",
              " 4601  4602  ...  got ipad read book able see printed text yr un...\n",
              " 4602  4603  ...  true love great innovation tip technology inno...\n",
              " 4603  4604  ...  teacher light way others educate little mind t...\n",
              " 4604  4605  ...  switched got galaxy woot galaxy samsung new phone\n",
              " ...    ...  ...                                                ...\n",
              " 4695  4696  ...  phone deleted text message panic attack apple ...\n",
              " 4696  4697  ...  samsung galaxy keyboard bug together google ad...\n",
              " 4697  4698  ...  fantastic app great pic photography nowplaying...\n",
              " 4698  4699  ...  many time apple exec used today event fastcomp...\n",
              " 4699  4700  ...  well certainly happy samsung galaxy new phone ...\n",
              " \n",
              " [100 rows x 4 columns],\n",
              "         id  ...                                        clean_tweet\n",
              " 4700  4701  ...  yeah io auto correct wanted allure surge commo...\n",
              " 4701  4702  ...             got iphone g ipad apple recording move\n",
              " 4702  4703  ...  u pay million news photography fashion health ...\n",
              " 4703  4704  ...  download io ipod g fuck apple ihateyou ipodsbroke\n",
              " 4704  4705  ...  tag friend leave comment coder life girl devel...\n",
              " ...    ...  ...                                                ...\n",
              " 4795  4796  ...  coral rose tapestry iphone duvet comforter art...\n",
              " 4796  4797  ...  view studio today amazing cloud beautiful hump...\n",
              " 4797  4798  ...  animoji like best thing ever till novelty run ...\n",
              " 4798  4799  ...  thanks apple making month old iphone unlikeabl...\n",
              " 4799  4800  ...  would like wish amazing day make every minute ...\n",
              " \n",
              " [100 rows x 4 columns],\n",
              "         id  ...                                        clean_tweet\n",
              " 4800  4801  ...           look arrived yay ipod classic apple geek\n",
              " 4801  4802  ...           evo thing least year iphonerantcontinued\n",
              " 4802  4803  ...  istanbul hagiasophia byzantine history easter ...\n",
              " 4803  4804  ...  phone look big aw samsung galaxy baggy jumper ...\n",
              " 4804  4805  ...  meeeeeee concussion tagsforlikes tflers tweegr...\n",
              " ...    ...  ...                                                ...\n",
              " 4895  4896  ...  happy valentine day saritaceramics valentine v...\n",
              " 4896  4897  ...  photo cause dressed today boyfriend dressedup ...\n",
              " 4897  4898  ...  face dad gave card worth gay shopping boy macb...\n",
              " 4898  4899  ...  hello august go fast august boy selfie iphonex...\n",
              " 4899  4900  ...  hot flash deal apple ipad air refurb reg free ...\n",
              " \n",
              " [100 rows x 4 columns],\n",
              "         id  ...                                        clean_tweet\n",
              " 4900  4901  ...  pc exquisite squishy random charm iphone strap...\n",
              " 4901  4902  ...  finally updated sgsii ic arabic p samsung thou...\n",
              " 4902  4903  ...  photo scifi starwars sandiegocomiccon apple am...\n",
              " 4903  4904  ...  first time shooting shoot bird cat apple donts...\n",
              " 4904  4905  ...  donald trump ushered whole news photography fa...\n",
              " ...    ...  ...                                                ...\n",
              " 4995  4996  ...  new pink condom cellphone samsung core duo cut...\n",
              " 4996  4997  ...            finally going word shitty phone samsung\n",
              " 4997  4998  ...  wake oh meeennn x x photooftheday wake like sl...\n",
              " 4998  4999  ...  imovie complete fucking waste fuckyou apple fu...\n",
              " 4999  5000  ...  unlock level zen block coming soon relax iphon...\n",
              " \n",
              " [100 rows x 4 columns],\n",
              "         id  ...                                        clean_tweet\n",
              " 5000  5001  ...   prophet husband iphone android kindle book april\n",
              " 5001  5002  ...  happy birthday mother gule gule kullan birthda...\n",
              " 5002  5003  ...  thought dope tattoo art amazing fffound color ...\n",
              " 5003  5004  ...  iphone manual made simple amazon usa uk italy ...\n",
              " 5004  5005  ...  fucking apple suck cover everything broken scr...\n",
              " ...    ...  ...                                                ...\n",
              " 5095  5096  ...  best pink cover ever bunny iphone cover pink f...\n",
              " 5096  5097  ...  samsung edge samsung edge android bless goodvi...\n",
              " 5097  5098  ...  jacielynnclark make phone sell em like make ch...\n",
              " 5098  5099  ...  donut candy krema juice apple kiwi yummy apple...\n",
              " 5099  5100  ...  went beach today wonderful shotoniphone iphone...\n",
              " \n",
              " [100 rows x 4 columns],\n",
              "         id  ...                                        clean_tweet\n",
              " 5100  5101  ...  chilling bathroom ipad device fantastic whysocool\n",
              " 5101  5102  ...  believe believe jb longhair extentions new iph...\n",
              " 5102  5103  ...  red hair care lol instagram iphone iphoneograp...\n",
              " 5103  5104  ...  iphone battery spontaneously melt leak acid on...\n",
              " 5104  5105  ...  anjarwarnyoto steak holycow holycow radal tkp ...\n",
              " ...    ...  ...                                                ...\n",
              " 5195  5196  ...  time got new iphone iphone apple istore istore...\n",
              " 5196  5197  ...  ursulaknight chocoladutchess think although it...\n",
              " 5197  5198  ...  carrot samsung live laugh life instago instahu...\n",
              " 5198  5199  ...  gamestop rescue exchanged jacked venom movie d...\n",
              " 5199  5200  ...  gain follower rt must follow follow back follo...\n",
              " \n",
              " [100 rows x 4 columns],\n",
              "         id  ...                                        clean_tweet\n",
              " 5200  5201  ...  vivo india plz provide ota update battery batt...\n",
              " 5201  5202  ...  love facetime date longdistancerelationship em...\n",
              " 5202  5203  ...           justinbieber apple ipad iphone may ammay\n",
              " 5203  5204  ...  iphone twitter apps apple io yes tempared gl i...\n",
              " 5204  5205  ...  new toy fashion galaxynote newbuy samsung sams...\n",
              " ...    ...  ...                                                ...\n",
              " 5295  5296  ...  samsung tablet spin arrived prize expensive pr...\n",
              " 5296  5297  ...  hot deal high tech lightning usb cable foot ge...\n",
              " 5297  5298  ...  w little sist little sister smile kawaii sweet...\n",
              " 5298  5299  ...  best christmas gift could ever ask love mom da...\n",
              " 5299  5300  ...  one thing mexicocity cdmx find sort food like ...\n",
              " \n",
              " [100 rows x 4 columns],\n",
              "         id  ...                                        clean_tweet\n",
              " 5300  5301  ...  reunited feel good photooftheday instafun ipho...\n",
              " 5301  5302  ...  artist goin iphonesia photooftheday iphone iph...\n",
              " 5302  5303  ...  sorry iphone need upgrade galaxy tgif samsung ...\n",
              " 5303  5304  ...  finally bought p finally play old favorite gam...\n",
              " 5304  5305  ...  regram new toy thankyoudaddy tablet samsung ga...\n",
              " ...    ...  ...                                                ...\n",
              " 5395  5396  ...  inventionx worst mistake one could make buying...\n",
              " 5396  5397  ...  wow fuck apple letting use cable certified app...\n",
              " 5397  5398  ...  good morning world sweetheart iphone italy box...\n",
              " 5398  5399  ...    man apple get hotspot lte th floor blackberry z\n",
              " 5399  5400  ...             hurt luismiguel ipod love skullscandys\n",
              " \n",
              " [100 rows x 4 columns],\n",
              "         id  ...                                        clean_tweet\n",
              " 5400  5401  ...  need itunes alternative mainly music transfer ...\n",
              " 5401  5402  ...  great new game play already app store instagra...\n",
              " 5402  5403  ...  let get beautiful beautytips beauty apps iphon...\n",
              " 5403  5404  ...  wow good job apple time make io fix bug come d...\n",
              " 5404  5405  ...  apple marketing best planet suck sucker apple ...\n",
              " ...    ...  ...                                                ...\n",
              " 5495  5496  ...  like reading like ebooks check story orpheus e...\n",
              " 5496  5497  ...  wait till get new phone gssucks already used d...\n",
              " 5497  5498  ...  gromit wallaceandgromit wallace gromit bristol...\n",
              " 5498  5499  ...  moby buy cool gift today sony iphone samsung ipad\n",
              " 5499  5500  ...  phone alive decided go swim saturday spend thr...\n",
              " \n",
              " [100 rows x 4 columns],\n",
              "         id  ...                                        clean_tweet\n",
              " 5500  5501  ...  hacking password wifi prank lion le watermelo ...\n",
              " 5501  5502  ...  architecture iphonesia iphone iphone instagood...\n",
              " 5502  5503  ...  took glance change life forever kimkardashian ...\n",
              " 5503  5504  ...  dia venecia day day girl boy instadaily iphone...\n",
              " 5504  5505  ...  super green drink almonddream banana apple fla...\n",
              " ...    ...  ...                                                ...\n",
              " 5595  5596  ...  dmcconachie giffgaff emily mashable used old s...\n",
              " 5596  5597  ...  best twwitter word twitter iphone internet sn ...\n",
              " 5597  5598  ...  throwbackthursday baby boy man family kid tbt ...\n",
              " 5598  5599  ...  samsung galaxy going launched today india offi...\n",
              " 5599  5600  ...  nearly vocation newyear trip thailand khaoko i...\n",
              " \n",
              " [100 rows x 4 columns],\n",
              "         id  ...                                        clean_tweet\n",
              " 5600  5601  ...  lunch go vegan lunch plantbased fruit hydrate ...\n",
              " 5601  5602  ...  sometimes wake smell rose rose sony natgeoyour...\n",
              " 5602  5603  ...  find word express upset apple right iphone fai...\n",
              " 5603  5604  ...  love dude latergram photooftheday pitsofig pit...\n",
              " 5604  5605  ...  prize tonight annual dinner biotherm samsung g...\n",
              " ...    ...  ...                                                ...\n",
              " 5695  5696  ...  would like wish amazing day make every minute ...\n",
              " 5696  5697  ...  great holding trophy fun instaboy instagram in...\n",
              " 5697  5698  ...        apple fucking hour cancel one inch progress\n",
              " 5698  5699  ...  remove thing phone apple decided put hateu vio...\n",
              " 5699  5700  ...  new mobile shell mobile cover minion minioner ...\n",
              " \n",
              " [100 rows x 4 columns],\n",
              "         id  ...                                        clean_tweet\n",
              " 5700  5701  ...  could linger day melt word instagram twitter i...\n",
              " 5701  5702  ...  oliver samsung live laugh life legoland malays...\n",
              " 5702  5703  ...  gamescom let go gamescom gaming cologne fuckbe...\n",
              " 5703  5704  ...                 ipod suck think apple product went\n",
              " 5704  5705  ...  would like wish amazing day make every minute ...\n",
              " ...    ...  ...                                                ...\n",
              " 5795  5796  ...        thanks tablet great happy tablet samsung en\n",
              " 5796  5797  ...  know time work apple make terrible software lo...\n",
              " 5797  5798  ...  gnr got rt mariahljay rt eatsmith love new iph...\n",
              " 5798  5799  ...  come iphone apple lego legominifigure brickcen...\n",
              " 5799  5800  ...  love else relate relatable funny quote relate ...\n",
              " \n",
              " [100 rows x 4 columns],\n",
              "         id  ...                                        clean_tweet\n",
              " 5800  5801  ...  would like wish amazing day make every minute ...\n",
              " 5801  5802  ...  phone sony us art picture music igers idaily inst\n",
              " 5802  5803  ...  buy iphone please theellenshow iphone taipei i...\n",
              " 5803  5804  ...  daddy please buy mac win suck apple mac imac w...\n",
              " 5804  5805  ...  sweet love sweet app photography woman iphone ...\n",
              " ...    ...  ...                                                ...\n",
              " 5895  5896  ...  prolly getting rid google map one apple worst ...\n",
              " 5896  5897  ...                hate ipod reset second time product\n",
              " 5897  5898  ...  love come great responsibility life rainbow ho...\n",
              " 5898  5899  ...     like plugged ipod last thinking charging wasnt\n",
              " 5899  5900  ...  candle make relax sony camera cybershot water ...\n",
              " \n",
              " [100 rows x 4 columns],\n",
              "         id  ...                                        clean_tweet\n",
              " 5900  5901  ...  would like wish amazing day make every minute ...\n",
              " 5901  5902  ...  favorite new apple emoji even different nation...\n",
              " 5902  5903  ...  apple helpdesk made win talk real person amazi...\n",
              " 5903  5904  ...  iphone cover pinkish iphone iphone pink cover ...\n",
              " 5904  5905  ...  breno brenoswag psp portable playstation day n...\n",
              " ...    ...  ...                                                ...\n",
              " 5995  5996  ...  new free app take photo iphone free app tech i...\n",
              " 5996  5997  ...  iphone samsung case holiday phone use code day...\n",
              " 5997  5998  ...  see ya daddy twitter harry haribo family apple...\n",
              " 5998  5999  ...  jarstalking lisa back everything long take mr ...\n",
              " 5999  6000  ...  dessert always great idea try apple crumble to...\n",
              " \n",
              " [100 rows x 4 columns],\n",
              "         id  ...                                        clean_tweet\n",
              " 6000  6001  ...  mp cutter free android apps beautiful cute col...\n",
              " 6001  6002  ...  itunes decides restore entire phone notahappyc...\n",
              " 6002  6003  ...  must accidentally updated iphone pissed screwa...\n",
              " 6003  6004  ...  ee marcalleraee habbosamp marc still communica...\n",
              " 6004  6005  ...  il sont content lizardsquad psn xboxlive hack ...\n",
              " ...    ...  ...                                                ...\n",
              " 6095  6096  ...           hungry chocolate orange apple sweet home\n",
              " 6096  6097  ...  mac computer better start working break shit a...\n",
              " 6097  6098  ...  hate gotta wait til home get wifi download io ...\n",
              " 6098  6099  ...  awkward moment town called something total dif...\n",
              " 6099  6100  ...  follow capetownsup instagram sup surf fun cape...\n",
              " \n",
              " [100 rows x 4 columns],\n",
              "         id  ...                                        clean_tweet\n",
              " 6100  6101  ...  finito iphones nothing problem since moment go...\n",
              " 6101  6102  ...  charged ipad friday used everyday since still ...\n",
              " 6102  6103  ...  sunrise one minute ago europe zeeland samsung ...\n",
              " 6103  6104  ...  even resize permanently itunes get fit standar...\n",
              " 6104  6105  ...  proper car porn weekend ig iphone nature igers...\n",
              " ...    ...  ...                                                ...\n",
              " 6195  6196  ...  phone mirror one present cool phone samsung ga...\n",
              " 6196  6197  ...         new phone awesome samsung galaxy new phone\n",
              " 6197  6198  ...  calling unemployment people love tweeting hold...\n",
              " 6198  6199  ...  tbt jubilation daisy alaska kindness beautiful...\n",
              " 6199  6200  ...  wat shop day shopping clothes tshirt pant sing...\n",
              " \n",
              " [100 rows x 4 columns],\n",
              "         id  ...                                        clean_tweet\n",
              " 6200  6201  ...  bad mood since lost phone love new phone iphon...\n",
              " 6201  6202  ...  thousand switching armband slimclipcase find m...\n",
              " 6202  6203  ...  tried upload photo fb twice app keep crashing ...\n",
              " 6203  6204  ...  finally functional new phone replace old spoil...\n",
              " 6204  6205  ...  zarathegeek still made apple still made sheepl...\n",
              " ...    ...  ...                                                ...\n",
              " 6295  6296  ...  linen lace phone case via etsy sundaymorning h...\n",
              " 6296  6297  ...  rt alibakes okay going reestablish much love i...\n",
              " 6297  6298  ...  lightning pull dissidia ffoo via youtube final...\n",
              " 6298  6299  ...  new panorama setting iphone kitty cat manx tor...\n",
              " 6299  6300  ...  amazing inject much suck process buying new ip...\n",
              " \n",
              " [100 rows x 4 columns],\n",
              "         id  ...                                        clean_tweet\n",
              " 6300  6301  ...  pretty happy iphone got shipped todat thumbsup...\n",
              " 6301  6302  ...  think best present christmas present iphone be...\n",
              " 6302  6303  ...  hate way android force look download icon clea...\n",
              " 6303  6304  ...  little nemo iphoneography iphonesia instagram ...\n",
              " 6304  6305  ...  keep phone protected one boost mobile case goo...\n",
              " ...    ...  ...                                                ...\n",
              " 6395  6396  ...       new iphone sound terrible waiting age aswell\n",
              " 6396  6397  ...  updated ipod see anything new amazing justifie...\n",
              " 6397  6398  ...  wow actually read fucking term condition hate ...\n",
              " 6398  6399  ...  blinding light two little dot bottom cat eye c...\n",
              " 6399  6400  ...    well phone working manually download apps apple\n",
              " \n",
              " [100 rows x 4 columns],\n",
              "         id  ...                                        clean_tweet\n",
              " 6400  6401  ...  gain follower rt must follow follow back follo...\n",
              " 6401  6402  ...  fucking hate apple never get password username...\n",
              " 6402  6403  ...         ok real pissing even wifi imessage working\n",
              " 6403  6404  ...  wish right starwars battlefront p sony dontjud...\n",
              " 6404  6405  ...           th iphone charger already breaking apple\n",
              " ...    ...  ...                                                ...\n",
              " 6495  6496  ...    love instagram iphone iphonography boredom girl\n",
              " 6496  6497  ...  credit end grimm promotional consideration fur...\n",
              " 6497  6498  ...  much love little one niece school apple health...\n",
              " 6498  6499  ...  cutest cute text message personal deep boyfrie...\n",
              " 6499  6500  ...  enjoying morning coffee working beenhipster hi...\n",
              " \n",
              " [100 rows x 4 columns],\n",
              "         id  ...                                        clean_tweet\n",
              " 6500  6501  ...  heart candle candle heart lightcandle instagra...\n",
              " 6501  6502  ...  christmas want someonebuymethis gift giftidea ...\n",
              " 6502  6503  ...  world photography day canon nikon sigma leica ...\n",
              " 6503  6504  ...          one headphone ever work use ipod urgh ffs\n",
              " 6504  6505  ...  scape city follow sun selfie iphone camera lol...\n",
              " ...    ...  ...                                                ...\n",
              " 6595  6596  ...  would like wish amazing day make every minute ...\n",
              " 6596  6597  ...  textgram funny followme think teamfollow iphon...\n",
              " 6597  6598  ...  mi iphone connecting itunes geniusbar appointm...\n",
              " 6598  6599  ...  phone necessity car clip buy one get click bio...\n",
              " 6599  6600  ...  watson happy puppy puppy mutt lifeproof galaxy...\n",
              " \n",
              " [100 rows x 4 columns],\n",
              "         id  ...                                        clean_tweet\n",
              " 6600  6601  ...  like share want phone case iphone iphone sam p...\n",
              " 6601  6602  ...  ebony coffee table final coat ridgid ryobi tro...\n",
              " 6602  6603  ...                  ugh dip want imac bad sexy wantit\n",
              " 6603  6604  ...  choose wisely palmsprings w jeffmindell color ...\n",
              " 6604  6605  ...  best offer universal smartphone car air vent m...\n",
              " ...    ...  ...                                                ...\n",
              " 6695  6696  ...  clint eastwood donald trump news photography f...\n",
              " 6696  6697  ...  dude mobile said apple suck smart enough know ...\n",
              " 6697  6698  ...  follow capetownsup instagram sup surf fun cape...\n",
              " 6698  6699  ...           deleted picture video phone memory apple\n",
              " 6699  6700  ...  thankyou sony p addon finally happiness gaming...\n",
              " \n",
              " [100 rows x 4 columns],\n",
              "         id  ...                                        clean_tweet\n",
              " 6700  6701  ...  catch throat iphonesia iphone instagood instag...\n",
              " 6701  6702  ...          shuffle itunes bono come apple itunesrape\n",
              " 6702  6703  ...  change background image android apps beautiful...\n",
              " 6703  6704  ...  impressed appstore customer service phone cras...\n",
              " 6704  6705  ...  marble air cast concrete macbook macbookpro ma...\n",
              " ...    ...  ...                                                ...\n",
              " 6795  6796  ...  beauty playstation p playstationeurope awesome...\n",
              " 6796  6797  ...  instacollage advocare postworkout arginine spa...\n",
              " 6797  6798  ...  hiroshimap art japan hiroshima trip japantrip ...\n",
              " 6798  6799  ...  favourite new apple release let u know latest ...\n",
              " 6799  6800  ...  japan sony rt silly u new laptop pink breastca...\n",
              " \n",
              " [100 rows x 4 columns],\n",
              "         id  ...                                        clean_tweet\n",
              " 6800  6801  ...  want update itunes want delete stop asking eve...\n",
              " 6801  6802  ...  photo word word paper ink print iphone instagr...\n",
              " 6802  6803  ...  wasted almost drop iphone would made cry know ...\n",
              " 6803  6804  ...  new phone iphone galaxy apple samsung design n...\n",
              " 6804  6805  ...  mac macintosh story pt th apple birthday mac s...\n",
              " ...    ...  ...                                                ...\n",
              " 6895  6896  ...  seriously confused anyone would want iphone sa...\n",
              " 6896  6897  ...  beautiful campus fiu tuesday tree parkinglotvi...\n",
              " 6897  6898  ...  happy cat tabby cat catsofinstagram cold icy w...\n",
              " 6898  6899  ...  girl demi lavato lavatic cute sexy fine music ...\n",
              " 6899  6900  ...  bought ipad watch ipad case apple ipad watch i...\n",
              " \n",
              " [100 rows x 4 columns],\n",
              "         id  ...                                        clean_tweet\n",
              " 6900  6901  ...  jaylin making sandart kid family bw bwlover bl...\n",
              " 6901  6902  ...  working much w mac work messing window keyboar...\n",
              " 6902  6903  ...                 iphones look way make need new one\n",
              " 6903  6904  ...  vivo india exactly happened today sale sent ma...\n",
              " 6904  6905  ...  gain follower rt must follow follow back follo...\n",
              " ...    ...  ...                                                ...\n",
              " 6995  6996  ...  temple run game appstore apple losangeles good...\n",
              " 6996  6997  ...  please rt jesus god tech iphone app faith joy ...\n",
              " 6997  6998  ...  got another one piccollage iphone hate apple w...\n",
              " 6998  6999  ...  possible get refund tim cook get stevejobs bac...\n",
              " 6999  7000  ...  never get phone disappointed shirty fuckin pho...\n",
              " \n",
              " [100 rows x 4 columns],\n",
              "         id  ...                                        clean_tweet\n",
              " 7000  7001  ...  love plaid plaid flannel instapic blackandwhit...\n",
              " 7001  7002  ...               ok ok week love iphone g love iphone\n",
              " 7002  7003  ...  good night goodnight sweetdreams girl bedroom ...\n",
              " 7003  7004  ...  code findgifts via redbubble redbubble suicide...\n",
              " 7004  7005  ...  take steemit blue sky sun life photo photo pho...\n",
              " ...    ...  ...                                                ...\n",
              " 7095  7096  ...  sunpolis soon news gaming gamedev game art vid...\n",
              " 7096  7097  ...  b ruff back back via youtube hiphop newartist ...\n",
              " 7097  7098  ...  new baby fotorus new girly case england withe ...\n",
              " 7098  7099  ...  gsb thing love alpa camera griffen iphone micr...\n",
              " 7099  7100  ...  gusta ven phone technology la venta power bank...\n",
              " \n",
              " [100 rows x 4 columns],\n",
              "         id  ...                                        clean_tweet\n",
              " 7100  7101  ...  home steemit home story new life art gallery p...\n",
              " 7101  7102  ...  hey samsung galaxy new phone whitefrost galaxy...\n",
              " 7102  7103  ...  aunt computer sucked song ipod think im gonna ...\n",
              " 7103  7104  ...  sale iphone case torras series liquid silicone...\n",
              " 7104  7105  ...  using ipod phone hour decided much hate apple ...\n",
              " ...    ...  ...                                                ...\n",
              " 7195  7196  ...  relax time instagram iphone instagood iphoneon...\n",
              " 7196  7197  ...  show download rate iphone game spooky challeng...\n",
              " 7197  7198  ...  galaxy speedy king smartphones confirmed galax...\n",
              " 7198  7199  ...  small fast steemit fast bug bug nature naturep...\n",
              " 7199  7200  ...  coldest night last night c guest still happy n...\n",
              " \n",
              " [100 rows x 4 columns],\n",
              "         id  ...                                        clean_tweet\n",
              " 7200  7201  ...  khormaunited zain sim stuck handset remove app...\n",
              " 7201  7202  ...  spoiled bought smart tv tonight samsung tv spo...\n",
              " 7202  7203  ...             miss old phone took great picture bomb\n",
              " 7203  7204  ...              got call apple schedule interview mrw\n",
              " 7204  7205  ...                   done bout funny true iphone care\n",
              " ...    ...  ...                                                ...\n",
              " 7295  7296  ...  haha said bright cute cat adorable cozy pet cu...\n",
              " 7296  7297  ...         happiness simple need think sony like like\n",
              " 7297  7298  ...  photo sunday view nature park tree water scene...\n",
              " 7298  7299  ...  ninja love ninjanaptap iphone appstore io appl...\n",
              " 7299  7300  ...  keyboard want type letter anymore anyone know ...\n",
              " \n",
              " [100 rows x 4 columns],\n",
              "         id  ...                                        clean_tweet\n",
              " 7300  7301  ...  love new phone case iphone cover case sunset b...\n",
              " 7301  7302  ...  look death ya know serious daddy monroe iphone...\n",
              " 7302  7303  ...  smile change world smile iphone apple men menh...\n",
              " 7303  7304  ...  sony rx v camera sony rx v likeforlike l l lik...\n",
              " 7304  7305  ...  follow capetownsup instagram sup surf fun cape...\n",
              " ...    ...  ...                                                ...\n",
              " 7395  7396  ...  ipad ipad mini fuck everyone new crap charger ...\n",
              " 7396  7397  ...  really suck anything dealing internet igiveup ...\n",
              " 7397  7398  ...  gonna sp instagood instadaily twelveskip iphon...\n",
              " 7398  7399  ...  brighton hove street gb uk city town iphoneonl...\n",
              " 7399  7400  ...  owns facebook chart ff friend gratitude ipad i...\n",
              " \n",
              " [100 rows x 4 columns],\n",
              "         id  ...                                        clean_tweet\n",
              " 7400  7401  ...    apple rolling verizon iphone valentine day sale\n",
              " 7401  7402  ...  joshbates yea blieve lol angrylaura hatevodafo...\n",
              " 7402  7403  ...  rt ellyrulez official twitter app iphone ipod ...\n",
              " 7403  7404  ...  pink wonderland shopping sweet cute pink shop ...\n",
              " 7404  7405  ...    deleted message patrick accidentally iphone mad\n",
              " ...    ...  ...                                                ...\n",
              " 7495  7496  ...  gain follower rt must follow follow back follo...\n",
              " 7496  7497  ...  yeah bb suck iphone rt nstre love since bb yet...\n",
              " 7497  7498  ...  way blessed stressed count day make day count ...\n",
              " 7498  7499  ...  let say time io io go applegeek apple appleonl...\n",
              " 7499  7500  ...  followtrick retweet follow rt followback gain ...\n",
              " \n",
              " [100 rows x 4 columns],\n",
              "         id  ...                                        clean_tweet\n",
              " 7500  7501  ...  wish newyear new year animoji emoji emoticon a...\n",
              " 7501  7502  ...  u apple team promote new phone al thats anothe...\n",
              " 7502  7503  ...  spider man case iphone fixmeiphone spider man ...\n",
              " 7503  7504  ...  great another iphone another problem flash wor...\n",
              " 7504  7505  ...  got camera charger film swag samsung usb scoot...\n",
              " ...    ...  ...                                                ...\n",
              " 7595  7596  ...  sport like russia moscow japan istanbul turkis...\n",
              " 7596  7597  ...  begging catch apple onion cabbage thewhiteprin...\n",
              " 7597  7598  ...  believe happening soooo ready kingdomhearts sq...\n",
              " 7598  7599  ...  better late never yo good toledo spain day cl ...\n",
              " 7599  7600  ...  thank uncle cardigan cute chilling iphone inst...\n",
              " \n",
              " [100 rows x 4 columns],\n",
              "         id  ...                                        clean_tweet\n",
              " 7600  7601  ...  holaaaa happy weekend u weekend animoji fun sm...\n",
              " 7601  7602  ...  ready valentine use app fashion nowplaying wom...\n",
              " 7602  7603  ...  luxury colorful l much zeta supply click link ...\n",
              " 7603  7604  ...  photo nikosx iphone beach holiday bw iphone bl...\n",
              " 7604  7605  ...  dearest boy make heart beat fast woman sexy ph...\n",
              " ...    ...  ...                                                ...\n",
              " 7695  7696  ...  iphone give freebie upgrade phone cnt bk samsu...\n",
              " 7696  7697  ...  caught vortex software update o discrepancy pr...\n",
              " 7697  7698  ...  jaijuiceandcafe mmmmmm happy pineapple mint ap...\n",
              " 7698  7699  ...  round targeting p iphone seo money loan ticket...\n",
              " 7699  7700  ...  bigger ripoff duo apple microsoft upgrade offi...\n",
              " \n",
              " [100 rows x 4 columns],\n",
              "         id  ...                                        clean_tweet\n",
              " 7700  7701  ...  duck sodding apple done iphone f picture leavi...\n",
              " 7701  7702  ...  hate iphone g right even orderingfood cellphon...\n",
              " 7702  7703  ...  samsung worse customer service company done bu...\n",
              " 7703  7704  ...  lightroom ig three ten new year newyear welcom...\n",
              " 7704  7705  ...  proofjalenmcmillan proof concept trending beli...\n",
              " ...    ...  ...                                                ...\n",
              " 7795  7796  ...  free lord rangoli diwali diwali diwalirangoli ...\n",
              " 7796  7797  ...                   iphone asleep every night iphone\n",
              " 7797  7798  ...    apple rolling verizon iphone valentine day sale\n",
              " 7798  7799  ...  asthma allergy voice still access apple update...\n",
              " 7799  7800  ...  microsoft window privacy policy new normal new...\n",
              " \n",
              " [100 rows x 4 columns],\n",
              "         id  ...                                        clean_tweet\n",
              " 7800  7801  ...  follow capetownsup instagram sup surf fun cape...\n",
              " 7801  7802  ...  happy new year beaver eggtooth newsdict news r...\n",
              " 7802  7803  ...  earpods apple stupidest invention fucking stay...\n",
              " 7803  7804  ...  gain follower rt must follow follow back follo...\n",
              " 7804  7805  ...  bad day bad life relax metime chocolate handph...\n",
              " ...    ...  ...                                                ...\n",
              " 7895  7896  ...  khalsir fork new battery repair ehhmm thanks s...\n",
              " 7896  7897  ...  pissed macbook crash apple company nothing app...\n",
              " 7897  7898  ...  slowly moving away shitty apple goodbye apple ...\n",
              " 7898  7899  ...  would like wish amazing day make every minute ...\n",
              " 7899  7900  ...  early christmas present sure dont mind thanks ...\n",
              " \n",
              " [100 rows x 4 columns],\n",
              "         id  ...                                        clean_tweet\n",
              " 7900  7901  ...  iphone calendar link facebook calendar even fa...\n",
              " 7901  7902  ...  brendan brady new apple advert fuck apple rela...\n",
              " 7902  7903  ...  wanna put music itunes iphone fucking difficul...\n",
              " 7903  7904  ...  kaylahinks snapchatprobbz haha true deleted bb...\n",
              " 7904  7905  ...  fuckyou apple one thing stop working buy whole...\n",
              " 7905  7906  ...  ove fist inside oh god fist inside big boob po...\n",
              " 7906  7907  ...   legit feel like brand new phone apple newsscreen\n",
              " 7907  7908  ...   tipsy rhyme e ye je mi ne dont miss rhyme iphone\n",
              " 7908  7909  ...  second fucking time stay hold min phone start ...\n",
              " 7909  7910  ...  rt monteithelgort first post new phone samsung...\n",
              " 7910  7911  ...  perfect match instagood applewatch red instagr...\n",
              " 7911  7912  ...  completely love new iphone emojis iphone apple...\n",
              " 7912  7913  ...  tune turn drop gtd one app mobile mind meditat...\n",
              " 7913  7914  ...  ok galaxy crashed one day wait til monday skyr...\n",
              " 7914  7915  ...  gain follower rt must follow follow back follo...\n",
              " 7915  7916  ...  live loud lol liveoutloud selfie smile sony mu...\n",
              " 7916  7917  ...  would like wish amazing day make every minute ...\n",
              " 7917  7918  ...  helping lovely year old neighbor ipad morning ...\n",
              " 7918  7919  ...  finally got smart pocket wifi stay connected a...\n",
              " 7919  7920  ...  apple barcelona apple store bcn barcelona trav...\n",
              " \n",
              " [20 rows x 4 columns]]"
            ]
          },
          "metadata": {
            "tags": []
          },
          "execution_count": 24
        }
      ]
    },
    {
      "cell_type": "code",
      "metadata": {
        "id": "ADgZJHQLOeE3",
        "outputId": "fe964e32-4987-49f2-dc21-50ecc8d82669",
        "colab": {
          "base_uri": "https://localhost:8080/"
        }
      },
      "source": [
        "elmo_train = [elmo_vector(x['clean_tweet']) for x in train_batch]"
      ],
      "execution_count": 27,
      "outputs": [
        {
          "output_type": "stream",
          "text": [
            "INFO:tensorflow:Saver not created because there are no variables in the graph to restore\n"
          ],
          "name": "stdout"
        },
        {
          "output_type": "stream",
          "text": [
            "INFO:tensorflow:Saver not created because there are no variables in the graph to restore\n"
          ],
          "name": "stderr"
        },
        {
          "output_type": "stream",
          "text": [
            "INFO:tensorflow:Saver not created because there are no variables in the graph to restore\n"
          ],
          "name": "stdout"
        },
        {
          "output_type": "stream",
          "text": [
            "INFO:tensorflow:Saver not created because there are no variables in the graph to restore\n"
          ],
          "name": "stderr"
        },
        {
          "output_type": "stream",
          "text": [
            "INFO:tensorflow:Saver not created because there are no variables in the graph to restore\n"
          ],
          "name": "stdout"
        },
        {
          "output_type": "stream",
          "text": [
            "INFO:tensorflow:Saver not created because there are no variables in the graph to restore\n"
          ],
          "name": "stderr"
        },
        {
          "output_type": "stream",
          "text": [
            "INFO:tensorflow:Saver not created because there are no variables in the graph to restore\n"
          ],
          "name": "stdout"
        },
        {
          "output_type": "stream",
          "text": [
            "INFO:tensorflow:Saver not created because there are no variables in the graph to restore\n"
          ],
          "name": "stderr"
        },
        {
          "output_type": "stream",
          "text": [
            "INFO:tensorflow:Saver not created because there are no variables in the graph to restore\n"
          ],
          "name": "stdout"
        },
        {
          "output_type": "stream",
          "text": [
            "INFO:tensorflow:Saver not created because there are no variables in the graph to restore\n"
          ],
          "name": "stderr"
        },
        {
          "output_type": "stream",
          "text": [
            "INFO:tensorflow:Saver not created because there are no variables in the graph to restore\n"
          ],
          "name": "stdout"
        },
        {
          "output_type": "stream",
          "text": [
            "INFO:tensorflow:Saver not created because there are no variables in the graph to restore\n"
          ],
          "name": "stderr"
        },
        {
          "output_type": "stream",
          "text": [
            "INFO:tensorflow:Saver not created because there are no variables in the graph to restore\n"
          ],
          "name": "stdout"
        },
        {
          "output_type": "stream",
          "text": [
            "INFO:tensorflow:Saver not created because there are no variables in the graph to restore\n"
          ],
          "name": "stderr"
        },
        {
          "output_type": "stream",
          "text": [
            "INFO:tensorflow:Saver not created because there are no variables in the graph to restore\n"
          ],
          "name": "stdout"
        },
        {
          "output_type": "stream",
          "text": [
            "INFO:tensorflow:Saver not created because there are no variables in the graph to restore\n"
          ],
          "name": "stderr"
        },
        {
          "output_type": "stream",
          "text": [
            "INFO:tensorflow:Saver not created because there are no variables in the graph to restore\n"
          ],
          "name": "stdout"
        },
        {
          "output_type": "stream",
          "text": [
            "INFO:tensorflow:Saver not created because there are no variables in the graph to restore\n"
          ],
          "name": "stderr"
        },
        {
          "output_type": "stream",
          "text": [
            "INFO:tensorflow:Saver not created because there are no variables in the graph to restore\n"
          ],
          "name": "stdout"
        },
        {
          "output_type": "stream",
          "text": [
            "INFO:tensorflow:Saver not created because there are no variables in the graph to restore\n"
          ],
          "name": "stderr"
        },
        {
          "output_type": "stream",
          "text": [
            "INFO:tensorflow:Saver not created because there are no variables in the graph to restore\n"
          ],
          "name": "stdout"
        },
        {
          "output_type": "stream",
          "text": [
            "INFO:tensorflow:Saver not created because there are no variables in the graph to restore\n"
          ],
          "name": "stderr"
        },
        {
          "output_type": "stream",
          "text": [
            "INFO:tensorflow:Saver not created because there are no variables in the graph to restore\n"
          ],
          "name": "stdout"
        },
        {
          "output_type": "stream",
          "text": [
            "INFO:tensorflow:Saver not created because there are no variables in the graph to restore\n"
          ],
          "name": "stderr"
        },
        {
          "output_type": "stream",
          "text": [
            "INFO:tensorflow:Saver not created because there are no variables in the graph to restore\n"
          ],
          "name": "stdout"
        },
        {
          "output_type": "stream",
          "text": [
            "INFO:tensorflow:Saver not created because there are no variables in the graph to restore\n"
          ],
          "name": "stderr"
        },
        {
          "output_type": "stream",
          "text": [
            "INFO:tensorflow:Saver not created because there are no variables in the graph to restore\n"
          ],
          "name": "stdout"
        },
        {
          "output_type": "stream",
          "text": [
            "INFO:tensorflow:Saver not created because there are no variables in the graph to restore\n"
          ],
          "name": "stderr"
        },
        {
          "output_type": "stream",
          "text": [
            "INFO:tensorflow:Saver not created because there are no variables in the graph to restore\n"
          ],
          "name": "stdout"
        },
        {
          "output_type": "stream",
          "text": [
            "INFO:tensorflow:Saver not created because there are no variables in the graph to restore\n"
          ],
          "name": "stderr"
        },
        {
          "output_type": "stream",
          "text": [
            "INFO:tensorflow:Saver not created because there are no variables in the graph to restore\n"
          ],
          "name": "stdout"
        },
        {
          "output_type": "stream",
          "text": [
            "INFO:tensorflow:Saver not created because there are no variables in the graph to restore\n"
          ],
          "name": "stderr"
        },
        {
          "output_type": "stream",
          "text": [
            "INFO:tensorflow:Saver not created because there are no variables in the graph to restore\n"
          ],
          "name": "stdout"
        },
        {
          "output_type": "stream",
          "text": [
            "INFO:tensorflow:Saver not created because there are no variables in the graph to restore\n"
          ],
          "name": "stderr"
        },
        {
          "output_type": "stream",
          "text": [
            "INFO:tensorflow:Saver not created because there are no variables in the graph to restore\n"
          ],
          "name": "stdout"
        },
        {
          "output_type": "stream",
          "text": [
            "INFO:tensorflow:Saver not created because there are no variables in the graph to restore\n"
          ],
          "name": "stderr"
        },
        {
          "output_type": "stream",
          "text": [
            "INFO:tensorflow:Saver not created because there are no variables in the graph to restore\n"
          ],
          "name": "stdout"
        },
        {
          "output_type": "stream",
          "text": [
            "INFO:tensorflow:Saver not created because there are no variables in the graph to restore\n"
          ],
          "name": "stderr"
        },
        {
          "output_type": "stream",
          "text": [
            "INFO:tensorflow:Saver not created because there are no variables in the graph to restore\n"
          ],
          "name": "stdout"
        },
        {
          "output_type": "stream",
          "text": [
            "INFO:tensorflow:Saver not created because there are no variables in the graph to restore\n"
          ],
          "name": "stderr"
        },
        {
          "output_type": "stream",
          "text": [
            "INFO:tensorflow:Saver not created because there are no variables in the graph to restore\n"
          ],
          "name": "stdout"
        },
        {
          "output_type": "stream",
          "text": [
            "INFO:tensorflow:Saver not created because there are no variables in the graph to restore\n"
          ],
          "name": "stderr"
        },
        {
          "output_type": "stream",
          "text": [
            "INFO:tensorflow:Saver not created because there are no variables in the graph to restore\n"
          ],
          "name": "stdout"
        },
        {
          "output_type": "stream",
          "text": [
            "INFO:tensorflow:Saver not created because there are no variables in the graph to restore\n"
          ],
          "name": "stderr"
        },
        {
          "output_type": "stream",
          "text": [
            "INFO:tensorflow:Saver not created because there are no variables in the graph to restore\n"
          ],
          "name": "stdout"
        },
        {
          "output_type": "stream",
          "text": [
            "INFO:tensorflow:Saver not created because there are no variables in the graph to restore\n"
          ],
          "name": "stderr"
        },
        {
          "output_type": "stream",
          "text": [
            "INFO:tensorflow:Saver not created because there are no variables in the graph to restore\n"
          ],
          "name": "stdout"
        },
        {
          "output_type": "stream",
          "text": [
            "INFO:tensorflow:Saver not created because there are no variables in the graph to restore\n"
          ],
          "name": "stderr"
        },
        {
          "output_type": "stream",
          "text": [
            "INFO:tensorflow:Saver not created because there are no variables in the graph to restore\n"
          ],
          "name": "stdout"
        },
        {
          "output_type": "stream",
          "text": [
            "INFO:tensorflow:Saver not created because there are no variables in the graph to restore\n"
          ],
          "name": "stderr"
        },
        {
          "output_type": "stream",
          "text": [
            "INFO:tensorflow:Saver not created because there are no variables in the graph to restore\n"
          ],
          "name": "stdout"
        },
        {
          "output_type": "stream",
          "text": [
            "INFO:tensorflow:Saver not created because there are no variables in the graph to restore\n"
          ],
          "name": "stderr"
        },
        {
          "output_type": "stream",
          "text": [
            "INFO:tensorflow:Saver not created because there are no variables in the graph to restore\n"
          ],
          "name": "stdout"
        },
        {
          "output_type": "stream",
          "text": [
            "INFO:tensorflow:Saver not created because there are no variables in the graph to restore\n"
          ],
          "name": "stderr"
        },
        {
          "output_type": "stream",
          "text": [
            "INFO:tensorflow:Saver not created because there are no variables in the graph to restore\n"
          ],
          "name": "stdout"
        },
        {
          "output_type": "stream",
          "text": [
            "INFO:tensorflow:Saver not created because there are no variables in the graph to restore\n"
          ],
          "name": "stderr"
        },
        {
          "output_type": "stream",
          "text": [
            "INFO:tensorflow:Saver not created because there are no variables in the graph to restore\n"
          ],
          "name": "stdout"
        },
        {
          "output_type": "stream",
          "text": [
            "INFO:tensorflow:Saver not created because there are no variables in the graph to restore\n"
          ],
          "name": "stderr"
        },
        {
          "output_type": "stream",
          "text": [
            "INFO:tensorflow:Saver not created because there are no variables in the graph to restore\n"
          ],
          "name": "stdout"
        },
        {
          "output_type": "stream",
          "text": [
            "INFO:tensorflow:Saver not created because there are no variables in the graph to restore\n"
          ],
          "name": "stderr"
        },
        {
          "output_type": "stream",
          "text": [
            "INFO:tensorflow:Saver not created because there are no variables in the graph to restore\n"
          ],
          "name": "stdout"
        },
        {
          "output_type": "stream",
          "text": [
            "INFO:tensorflow:Saver not created because there are no variables in the graph to restore\n"
          ],
          "name": "stderr"
        },
        {
          "output_type": "stream",
          "text": [
            "INFO:tensorflow:Saver not created because there are no variables in the graph to restore\n"
          ],
          "name": "stdout"
        },
        {
          "output_type": "stream",
          "text": [
            "INFO:tensorflow:Saver not created because there are no variables in the graph to restore\n"
          ],
          "name": "stderr"
        },
        {
          "output_type": "stream",
          "text": [
            "INFO:tensorflow:Saver not created because there are no variables in the graph to restore\n"
          ],
          "name": "stdout"
        },
        {
          "output_type": "stream",
          "text": [
            "INFO:tensorflow:Saver not created because there are no variables in the graph to restore\n"
          ],
          "name": "stderr"
        },
        {
          "output_type": "stream",
          "text": [
            "INFO:tensorflow:Saver not created because there are no variables in the graph to restore\n"
          ],
          "name": "stdout"
        },
        {
          "output_type": "stream",
          "text": [
            "INFO:tensorflow:Saver not created because there are no variables in the graph to restore\n"
          ],
          "name": "stderr"
        },
        {
          "output_type": "stream",
          "text": [
            "INFO:tensorflow:Saver not created because there are no variables in the graph to restore\n"
          ],
          "name": "stdout"
        },
        {
          "output_type": "stream",
          "text": [
            "INFO:tensorflow:Saver not created because there are no variables in the graph to restore\n"
          ],
          "name": "stderr"
        },
        {
          "output_type": "stream",
          "text": [
            "INFO:tensorflow:Saver not created because there are no variables in the graph to restore\n"
          ],
          "name": "stdout"
        },
        {
          "output_type": "stream",
          "text": [
            "INFO:tensorflow:Saver not created because there are no variables in the graph to restore\n"
          ],
          "name": "stderr"
        },
        {
          "output_type": "stream",
          "text": [
            "INFO:tensorflow:Saver not created because there are no variables in the graph to restore\n"
          ],
          "name": "stdout"
        },
        {
          "output_type": "stream",
          "text": [
            "INFO:tensorflow:Saver not created because there are no variables in the graph to restore\n"
          ],
          "name": "stderr"
        },
        {
          "output_type": "stream",
          "text": [
            "INFO:tensorflow:Saver not created because there are no variables in the graph to restore\n"
          ],
          "name": "stdout"
        },
        {
          "output_type": "stream",
          "text": [
            "INFO:tensorflow:Saver not created because there are no variables in the graph to restore\n"
          ],
          "name": "stderr"
        },
        {
          "output_type": "stream",
          "text": [
            "INFO:tensorflow:Saver not created because there are no variables in the graph to restore\n"
          ],
          "name": "stdout"
        },
        {
          "output_type": "stream",
          "text": [
            "INFO:tensorflow:Saver not created because there are no variables in the graph to restore\n"
          ],
          "name": "stderr"
        },
        {
          "output_type": "stream",
          "text": [
            "INFO:tensorflow:Saver not created because there are no variables in the graph to restore\n"
          ],
          "name": "stdout"
        },
        {
          "output_type": "stream",
          "text": [
            "INFO:tensorflow:Saver not created because there are no variables in the graph to restore\n"
          ],
          "name": "stderr"
        },
        {
          "output_type": "stream",
          "text": [
            "INFO:tensorflow:Saver not created because there are no variables in the graph to restore\n"
          ],
          "name": "stdout"
        },
        {
          "output_type": "stream",
          "text": [
            "INFO:tensorflow:Saver not created because there are no variables in the graph to restore\n"
          ],
          "name": "stderr"
        },
        {
          "output_type": "stream",
          "text": [
            "INFO:tensorflow:Saver not created because there are no variables in the graph to restore\n"
          ],
          "name": "stdout"
        },
        {
          "output_type": "stream",
          "text": [
            "INFO:tensorflow:Saver not created because there are no variables in the graph to restore\n"
          ],
          "name": "stderr"
        },
        {
          "output_type": "stream",
          "text": [
            "INFO:tensorflow:Saver not created because there are no variables in the graph to restore\n"
          ],
          "name": "stdout"
        },
        {
          "output_type": "stream",
          "text": [
            "INFO:tensorflow:Saver not created because there are no variables in the graph to restore\n"
          ],
          "name": "stderr"
        },
        {
          "output_type": "stream",
          "text": [
            "INFO:tensorflow:Saver not created because there are no variables in the graph to restore\n"
          ],
          "name": "stdout"
        },
        {
          "output_type": "stream",
          "text": [
            "INFO:tensorflow:Saver not created because there are no variables in the graph to restore\n"
          ],
          "name": "stderr"
        },
        {
          "output_type": "stream",
          "text": [
            "INFO:tensorflow:Saver not created because there are no variables in the graph to restore\n"
          ],
          "name": "stdout"
        },
        {
          "output_type": "stream",
          "text": [
            "INFO:tensorflow:Saver not created because there are no variables in the graph to restore\n"
          ],
          "name": "stderr"
        },
        {
          "output_type": "stream",
          "text": [
            "INFO:tensorflow:Saver not created because there are no variables in the graph to restore\n"
          ],
          "name": "stdout"
        },
        {
          "output_type": "stream",
          "text": [
            "INFO:tensorflow:Saver not created because there are no variables in the graph to restore\n"
          ],
          "name": "stderr"
        },
        {
          "output_type": "stream",
          "text": [
            "INFO:tensorflow:Saver not created because there are no variables in the graph to restore\n"
          ],
          "name": "stdout"
        },
        {
          "output_type": "stream",
          "text": [
            "INFO:tensorflow:Saver not created because there are no variables in the graph to restore\n"
          ],
          "name": "stderr"
        },
        {
          "output_type": "stream",
          "text": [
            "INFO:tensorflow:Saver not created because there are no variables in the graph to restore\n"
          ],
          "name": "stdout"
        },
        {
          "output_type": "stream",
          "text": [
            "INFO:tensorflow:Saver not created because there are no variables in the graph to restore\n"
          ],
          "name": "stderr"
        },
        {
          "output_type": "stream",
          "text": [
            "INFO:tensorflow:Saver not created because there are no variables in the graph to restore\n"
          ],
          "name": "stdout"
        },
        {
          "output_type": "stream",
          "text": [
            "INFO:tensorflow:Saver not created because there are no variables in the graph to restore\n"
          ],
          "name": "stderr"
        },
        {
          "output_type": "stream",
          "text": [
            "INFO:tensorflow:Saver not created because there are no variables in the graph to restore\n"
          ],
          "name": "stdout"
        },
        {
          "output_type": "stream",
          "text": [
            "INFO:tensorflow:Saver not created because there are no variables in the graph to restore\n"
          ],
          "name": "stderr"
        },
        {
          "output_type": "stream",
          "text": [
            "INFO:tensorflow:Saver not created because there are no variables in the graph to restore\n"
          ],
          "name": "stdout"
        },
        {
          "output_type": "stream",
          "text": [
            "INFO:tensorflow:Saver not created because there are no variables in the graph to restore\n"
          ],
          "name": "stderr"
        },
        {
          "output_type": "stream",
          "text": [
            "INFO:tensorflow:Saver not created because there are no variables in the graph to restore\n"
          ],
          "name": "stdout"
        },
        {
          "output_type": "stream",
          "text": [
            "INFO:tensorflow:Saver not created because there are no variables in the graph to restore\n"
          ],
          "name": "stderr"
        },
        {
          "output_type": "stream",
          "text": [
            "INFO:tensorflow:Saver not created because there are no variables in the graph to restore\n"
          ],
          "name": "stdout"
        },
        {
          "output_type": "stream",
          "text": [
            "INFO:tensorflow:Saver not created because there are no variables in the graph to restore\n"
          ],
          "name": "stderr"
        },
        {
          "output_type": "stream",
          "text": [
            "INFO:tensorflow:Saver not created because there are no variables in the graph to restore\n"
          ],
          "name": "stdout"
        },
        {
          "output_type": "stream",
          "text": [
            "INFO:tensorflow:Saver not created because there are no variables in the graph to restore\n"
          ],
          "name": "stderr"
        },
        {
          "output_type": "stream",
          "text": [
            "INFO:tensorflow:Saver not created because there are no variables in the graph to restore\n"
          ],
          "name": "stdout"
        },
        {
          "output_type": "stream",
          "text": [
            "INFO:tensorflow:Saver not created because there are no variables in the graph to restore\n"
          ],
          "name": "stderr"
        },
        {
          "output_type": "stream",
          "text": [
            "INFO:tensorflow:Saver not created because there are no variables in the graph to restore\n"
          ],
          "name": "stdout"
        },
        {
          "output_type": "stream",
          "text": [
            "INFO:tensorflow:Saver not created because there are no variables in the graph to restore\n"
          ],
          "name": "stderr"
        },
        {
          "output_type": "stream",
          "text": [
            "INFO:tensorflow:Saver not created because there are no variables in the graph to restore\n"
          ],
          "name": "stdout"
        },
        {
          "output_type": "stream",
          "text": [
            "INFO:tensorflow:Saver not created because there are no variables in the graph to restore\n"
          ],
          "name": "stderr"
        },
        {
          "output_type": "stream",
          "text": [
            "INFO:tensorflow:Saver not created because there are no variables in the graph to restore\n"
          ],
          "name": "stdout"
        },
        {
          "output_type": "stream",
          "text": [
            "INFO:tensorflow:Saver not created because there are no variables in the graph to restore\n"
          ],
          "name": "stderr"
        },
        {
          "output_type": "stream",
          "text": [
            "INFO:tensorflow:Saver not created because there are no variables in the graph to restore\n"
          ],
          "name": "stdout"
        },
        {
          "output_type": "stream",
          "text": [
            "INFO:tensorflow:Saver not created because there are no variables in the graph to restore\n"
          ],
          "name": "stderr"
        },
        {
          "output_type": "stream",
          "text": [
            "INFO:tensorflow:Saver not created because there are no variables in the graph to restore\n"
          ],
          "name": "stdout"
        },
        {
          "output_type": "stream",
          "text": [
            "INFO:tensorflow:Saver not created because there are no variables in the graph to restore\n"
          ],
          "name": "stderr"
        },
        {
          "output_type": "stream",
          "text": [
            "INFO:tensorflow:Saver not created because there are no variables in the graph to restore\n"
          ],
          "name": "stdout"
        },
        {
          "output_type": "stream",
          "text": [
            "INFO:tensorflow:Saver not created because there are no variables in the graph to restore\n"
          ],
          "name": "stderr"
        },
        {
          "output_type": "stream",
          "text": [
            "INFO:tensorflow:Saver not created because there are no variables in the graph to restore\n"
          ],
          "name": "stdout"
        },
        {
          "output_type": "stream",
          "text": [
            "INFO:tensorflow:Saver not created because there are no variables in the graph to restore\n"
          ],
          "name": "stderr"
        },
        {
          "output_type": "stream",
          "text": [
            "INFO:tensorflow:Saver not created because there are no variables in the graph to restore\n"
          ],
          "name": "stdout"
        },
        {
          "output_type": "stream",
          "text": [
            "INFO:tensorflow:Saver not created because there are no variables in the graph to restore\n"
          ],
          "name": "stderr"
        },
        {
          "output_type": "stream",
          "text": [
            "INFO:tensorflow:Saver not created because there are no variables in the graph to restore\n"
          ],
          "name": "stdout"
        },
        {
          "output_type": "stream",
          "text": [
            "INFO:tensorflow:Saver not created because there are no variables in the graph to restore\n"
          ],
          "name": "stderr"
        },
        {
          "output_type": "stream",
          "text": [
            "INFO:tensorflow:Saver not created because there are no variables in the graph to restore\n"
          ],
          "name": "stdout"
        },
        {
          "output_type": "stream",
          "text": [
            "INFO:tensorflow:Saver not created because there are no variables in the graph to restore\n"
          ],
          "name": "stderr"
        },
        {
          "output_type": "stream",
          "text": [
            "INFO:tensorflow:Saver not created because there are no variables in the graph to restore\n"
          ],
          "name": "stdout"
        },
        {
          "output_type": "stream",
          "text": [
            "INFO:tensorflow:Saver not created because there are no variables in the graph to restore\n"
          ],
          "name": "stderr"
        },
        {
          "output_type": "stream",
          "text": [
            "INFO:tensorflow:Saver not created because there are no variables in the graph to restore\n"
          ],
          "name": "stdout"
        },
        {
          "output_type": "stream",
          "text": [
            "INFO:tensorflow:Saver not created because there are no variables in the graph to restore\n"
          ],
          "name": "stderr"
        },
        {
          "output_type": "stream",
          "text": [
            "INFO:tensorflow:Saver not created because there are no variables in the graph to restore\n"
          ],
          "name": "stdout"
        },
        {
          "output_type": "stream",
          "text": [
            "INFO:tensorflow:Saver not created because there are no variables in the graph to restore\n"
          ],
          "name": "stderr"
        },
        {
          "output_type": "stream",
          "text": [
            "INFO:tensorflow:Saver not created because there are no variables in the graph to restore\n"
          ],
          "name": "stdout"
        },
        {
          "output_type": "stream",
          "text": [
            "INFO:tensorflow:Saver not created because there are no variables in the graph to restore\n"
          ],
          "name": "stderr"
        },
        {
          "output_type": "stream",
          "text": [
            "INFO:tensorflow:Saver not created because there are no variables in the graph to restore\n"
          ],
          "name": "stdout"
        },
        {
          "output_type": "stream",
          "text": [
            "INFO:tensorflow:Saver not created because there are no variables in the graph to restore\n"
          ],
          "name": "stderr"
        },
        {
          "output_type": "stream",
          "text": [
            "INFO:tensorflow:Saver not created because there are no variables in the graph to restore\n"
          ],
          "name": "stdout"
        },
        {
          "output_type": "stream",
          "text": [
            "INFO:tensorflow:Saver not created because there are no variables in the graph to restore\n"
          ],
          "name": "stderr"
        },
        {
          "output_type": "stream",
          "text": [
            "INFO:tensorflow:Saver not created because there are no variables in the graph to restore\n"
          ],
          "name": "stdout"
        },
        {
          "output_type": "stream",
          "text": [
            "INFO:tensorflow:Saver not created because there are no variables in the graph to restore\n"
          ],
          "name": "stderr"
        },
        {
          "output_type": "stream",
          "text": [
            "INFO:tensorflow:Saver not created because there are no variables in the graph to restore\n"
          ],
          "name": "stdout"
        },
        {
          "output_type": "stream",
          "text": [
            "INFO:tensorflow:Saver not created because there are no variables in the graph to restore\n"
          ],
          "name": "stderr"
        },
        {
          "output_type": "stream",
          "text": [
            "INFO:tensorflow:Saver not created because there are no variables in the graph to restore\n"
          ],
          "name": "stdout"
        },
        {
          "output_type": "stream",
          "text": [
            "INFO:tensorflow:Saver not created because there are no variables in the graph to restore\n"
          ],
          "name": "stderr"
        },
        {
          "output_type": "stream",
          "text": [
            "INFO:tensorflow:Saver not created because there are no variables in the graph to restore\n"
          ],
          "name": "stdout"
        },
        {
          "output_type": "stream",
          "text": [
            "INFO:tensorflow:Saver not created because there are no variables in the graph to restore\n"
          ],
          "name": "stderr"
        },
        {
          "output_type": "stream",
          "text": [
            "INFO:tensorflow:Saver not created because there are no variables in the graph to restore\n"
          ],
          "name": "stdout"
        },
        {
          "output_type": "stream",
          "text": [
            "INFO:tensorflow:Saver not created because there are no variables in the graph to restore\n"
          ],
          "name": "stderr"
        },
        {
          "output_type": "stream",
          "text": [
            "INFO:tensorflow:Saver not created because there are no variables in the graph to restore\n"
          ],
          "name": "stdout"
        },
        {
          "output_type": "stream",
          "text": [
            "INFO:tensorflow:Saver not created because there are no variables in the graph to restore\n"
          ],
          "name": "stderr"
        },
        {
          "output_type": "stream",
          "text": [
            "INFO:tensorflow:Saver not created because there are no variables in the graph to restore\n"
          ],
          "name": "stdout"
        },
        {
          "output_type": "stream",
          "text": [
            "INFO:tensorflow:Saver not created because there are no variables in the graph to restore\n"
          ],
          "name": "stderr"
        },
        {
          "output_type": "stream",
          "text": [
            "INFO:tensorflow:Saver not created because there are no variables in the graph to restore\n"
          ],
          "name": "stdout"
        },
        {
          "output_type": "stream",
          "text": [
            "INFO:tensorflow:Saver not created because there are no variables in the graph to restore\n"
          ],
          "name": "stderr"
        },
        {
          "output_type": "stream",
          "text": [
            "INFO:tensorflow:Saver not created because there are no variables in the graph to restore\n"
          ],
          "name": "stdout"
        },
        {
          "output_type": "stream",
          "text": [
            "INFO:tensorflow:Saver not created because there are no variables in the graph to restore\n"
          ],
          "name": "stderr"
        }
      ]
    },
    {
      "cell_type": "code",
      "metadata": {
        "id": "S2evlSm3P0VR"
      },
      "source": [
        "import numpy as np \n",
        "ELMO_TRAIN_COMPLETE = np.concatenate(elmo_train, axis=0)"
      ],
      "execution_count": 28,
      "outputs": []
    },
    {
      "cell_type": "code",
      "metadata": {
        "id": "jKI-5BFDQJPs"
      },
      "source": [
        "\n",
        "from sklearn.model_selection import train_test_split\n",
        "\n",
        "xtrain, xvalid, ytrain, yvalid = train_test_split(ELMO_TRAIN_COMPLETE, \n",
        "                                                 email_train_dataframe['label'],  \n",
        "                                                  random_state=42, \n",
        "                                                  test_size=0.2)"
      ],
      "execution_count": 29,
      "outputs": []
    },
    {
      "cell_type": "code",
      "metadata": {
        "id": "cD55hHTAQnM0",
        "outputId": "cc3ef573-972a-42ba-d94b-b25d2e84c13a",
        "colab": {
          "base_uri": "https://localhost:8080/"
        }
      },
      "source": [
        "from sklearn.linear_model import LogisticRegression\n",
        "from sklearn.metrics import f1_score\n",
        "\n",
        "lreg = LogisticRegression()\n",
        "lreg.fit(xtrain, ytrain)"
      ],
      "execution_count": 30,
      "outputs": [
        {
          "output_type": "stream",
          "text": [
            "/usr/local/lib/python3.6/dist-packages/sklearn/linear_model/_logistic.py:940: ConvergenceWarning: lbfgs failed to converge (status=1):\n",
            "STOP: TOTAL NO. of ITERATIONS REACHED LIMIT.\n",
            "\n",
            "Increase the number of iterations (max_iter) or scale the data as shown in:\n",
            "    https://scikit-learn.org/stable/modules/preprocessing.html\n",
            "Please also refer to the documentation for alternative solver options:\n",
            "    https://scikit-learn.org/stable/modules/linear_model.html#logistic-regression\n",
            "  extra_warning_msg=_LOGISTIC_SOLVER_CONVERGENCE_MSG)\n"
          ],
          "name": "stderr"
        },
        {
          "output_type": "execute_result",
          "data": {
            "text/plain": [
              "LogisticRegression(C=1.0, class_weight=None, dual=False, fit_intercept=True,\n",
              "                   intercept_scaling=1, l1_ratio=None, max_iter=100,\n",
              "                   multi_class='auto', n_jobs=None, penalty='l2',\n",
              "                   random_state=None, solver='lbfgs', tol=0.0001, verbose=0,\n",
              "                   warm_start=False)"
            ]
          },
          "metadata": {
            "tags": []
          },
          "execution_count": 30
        }
      ]
    },
    {
      "cell_type": "code",
      "metadata": {
        "id": "m8Xo5_QiRG_C",
        "outputId": "9032fbc8-5fca-4a52-b4ec-4e9b6c200f83",
        "colab": {
          "base_uri": "https://localhost:8080/"
        }
      },
      "source": [
        "pred_val = lreg.predict(xvalid)\n",
        "f1_score(yvalid,pred_val)"
      ],
      "execution_count": 31,
      "outputs": [
        {
          "output_type": "execute_result",
          "data": {
            "text/plain": [
              "0.7530266343825665"
            ]
          },
          "metadata": {
            "tags": []
          },
          "execution_count": 31
        }
      ]
    }
  ]
}