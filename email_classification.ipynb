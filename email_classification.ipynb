{
  "nbformat": 4,
  "nbformat_minor": 0,
  "metadata": {
    "colab": {
      "name": "email_classification.ipynb",
      "provenance": [],
      "collapsed_sections": [],
      "authorship_tag": "ABX9TyMDijTM3Mo3MDLEdWI7ARaC",
      "include_colab_link": true
    },
    "kernelspec": {
      "display_name": "Python 3",
      "name": "python3"
    }
  },
  "cells": [
    {
      "cell_type": "markdown",
      "metadata": {
        "id": "view-in-github",
        "colab_type": "text"
      },
      "source": [
        "<a href=\"https://colab.research.google.com/github/akkinepally/email_classification/blob/main/email_classification.ipynb\" target=\"_parent\"><img src=\"https://colab.research.google.com/assets/colab-badge.svg\" alt=\"Open In Colab\"/></a>"
      ]
    },
    {
      "cell_type": "code",
      "metadata": {
        "id": "JV65aAR1vyzy",
        "outputId": "2e8a3a87-c385-403f-b144-f15091ad5819",
        "colab": {
          "base_uri": "https://localhost:8080/"
        }
      },
      "source": [
        "# import libraries \n",
        "import pandas as pd\n",
        "import re  \n",
        "from nltk.stem import WordNetLemmatizer\n",
        "from nltk.corpus import stopwords\n",
        "import nltk\n",
        "import spacy\n",
        "nltk.download('stopwords')\n",
        "nltk.download('wordnet')\n"
      ],
      "execution_count": 8,
      "outputs": [
        {
          "output_type": "stream",
          "text": [
            "[nltk_data] Downloading package stopwords to /root/nltk_data...\n",
            "[nltk_data]   Package stopwords is already up-to-date!\n",
            "[nltk_data] Downloading package wordnet to /root/nltk_data...\n",
            "[nltk_data]   Package wordnet is already up-to-date!\n"
          ],
          "name": "stdout"
        },
        {
          "output_type": "execute_result",
          "data": {
            "text/plain": [
              "True"
            ]
          },
          "metadata": {
            "tags": []
          },
          "execution_count": 8
        }
      ]
    },
    {
      "cell_type": "code",
      "metadata": {
        "id": "C7yUKWIswEx0"
      },
      "source": [
        "# load data \n",
        "email_train_dataframe = pd.read_csv('train.csv', encoding='utf-8')\n",
        "email_test_dataframe = pd.read_csv('test.csv', encoding='utf-8')\n"
      ],
      "execution_count": 9,
      "outputs": []
    },
    {
      "cell_type": "code",
      "metadata": {
        "id": "AAqcWl4qzhN2",
        "outputId": "40bbce91-77d2-46ef-c8d9-dbcb4a3cc372",
        "colab": {
          "base_uri": "https://localhost:8080/",
          "height": 402
        }
      },
      "source": [
        "email_train_dataframe "
      ],
      "execution_count": 10,
      "outputs": [
        {
          "output_type": "execute_result",
          "data": {
            "text/html": [
              "<div>\n",
              "<style scoped>\n",
              "    .dataframe tbody tr th:only-of-type {\n",
              "        vertical-align: middle;\n",
              "    }\n",
              "\n",
              "    .dataframe tbody tr th {\n",
              "        vertical-align: top;\n",
              "    }\n",
              "\n",
              "    .dataframe thead th {\n",
              "        text-align: right;\n",
              "    }\n",
              "</style>\n",
              "<table border=\"1\" class=\"dataframe\">\n",
              "  <thead>\n",
              "    <tr style=\"text-align: right;\">\n",
              "      <th></th>\n",
              "      <th>id</th>\n",
              "      <th>label</th>\n",
              "      <th>tweet</th>\n",
              "    </tr>\n",
              "  </thead>\n",
              "  <tbody>\n",
              "    <tr>\n",
              "      <th>0</th>\n",
              "      <td>1</td>\n",
              "      <td>0</td>\n",
              "      <td>#fingerprint #Pregnancy Test https://goo.gl/h1...</td>\n",
              "    </tr>\n",
              "    <tr>\n",
              "      <th>1</th>\n",
              "      <td>2</td>\n",
              "      <td>0</td>\n",
              "      <td>Finally a transparant silicon case ^^ Thanks t...</td>\n",
              "    </tr>\n",
              "    <tr>\n",
              "      <th>2</th>\n",
              "      <td>3</td>\n",
              "      <td>0</td>\n",
              "      <td>We love this! Would you go? #talk #makememorie...</td>\n",
              "    </tr>\n",
              "    <tr>\n",
              "      <th>3</th>\n",
              "      <td>4</td>\n",
              "      <td>0</td>\n",
              "      <td>I'm wired I know I'm George I was made that wa...</td>\n",
              "    </tr>\n",
              "    <tr>\n",
              "      <th>4</th>\n",
              "      <td>5</td>\n",
              "      <td>1</td>\n",
              "      <td>What amazing service! Apple won't even talk to...</td>\n",
              "    </tr>\n",
              "    <tr>\n",
              "      <th>...</th>\n",
              "      <td>...</td>\n",
              "      <td>...</td>\n",
              "      <td>...</td>\n",
              "    </tr>\n",
              "    <tr>\n",
              "      <th>7915</th>\n",
              "      <td>7916</td>\n",
              "      <td>0</td>\n",
              "      <td>Live out loud #lol #liveoutloud #selfie #smile...</td>\n",
              "    </tr>\n",
              "    <tr>\n",
              "      <th>7916</th>\n",
              "      <td>7917</td>\n",
              "      <td>0</td>\n",
              "      <td>We would like to wish you an amazing day! Make...</td>\n",
              "    </tr>\n",
              "    <tr>\n",
              "      <th>7917</th>\n",
              "      <td>7918</td>\n",
              "      <td>0</td>\n",
              "      <td>Helping my lovely 90 year old neighbor with he...</td>\n",
              "    </tr>\n",
              "    <tr>\n",
              "      <th>7918</th>\n",
              "      <td>7919</td>\n",
              "      <td>0</td>\n",
              "      <td>Finally got my #smart #pocket #wifi stay conne...</td>\n",
              "    </tr>\n",
              "    <tr>\n",
              "      <th>7919</th>\n",
              "      <td>7920</td>\n",
              "      <td>0</td>\n",
              "      <td>Apple Barcelona!!! #Apple #Store #BCN #Barcelo...</td>\n",
              "    </tr>\n",
              "  </tbody>\n",
              "</table>\n",
              "<p>7920 rows × 3 columns</p>\n",
              "</div>"
            ],
            "text/plain": [
              "        id  label                                              tweet\n",
              "0        1      0  #fingerprint #Pregnancy Test https://goo.gl/h1...\n",
              "1        2      0  Finally a transparant silicon case ^^ Thanks t...\n",
              "2        3      0  We love this! Would you go? #talk #makememorie...\n",
              "3        4      0  I'm wired I know I'm George I was made that wa...\n",
              "4        5      1  What amazing service! Apple won't even talk to...\n",
              "...    ...    ...                                                ...\n",
              "7915  7916      0  Live out loud #lol #liveoutloud #selfie #smile...\n",
              "7916  7917      0  We would like to wish you an amazing day! Make...\n",
              "7917  7918      0  Helping my lovely 90 year old neighbor with he...\n",
              "7918  7919      0  Finally got my #smart #pocket #wifi stay conne...\n",
              "7919  7920      0  Apple Barcelona!!! #Apple #Store #BCN #Barcelo...\n",
              "\n",
              "[7920 rows x 3 columns]"
            ]
          },
          "metadata": {
            "tags": []
          },
          "execution_count": 10
        }
      ]
    },
    {
      "cell_type": "code",
      "metadata": {
        "id": "xKJANIBTurfD"
      },
      "source": [
        "nlp = spacy.load('en', disable=['parser', 'ner'])\n",
        "corpus = []\n",
        "lem = WordNetLemmatizer()\n",
        "punctuation = [\"'#$%^&*()!@~\"]\n",
        "for count in range(len(email_train_dataframe['tweet'])):\n",
        "  clean_tweet = re.sub('http\\S+', '', email_train_dataframe['tweet'][count] )\n",
        "  clean_tweet = clean_tweet.lower()\n",
        "  clean_tweet = re.sub('[^a-zA-Z]', ' ', clean_tweet )\n",
        "  clean_tweet = re.sub(\"'#$%^&*()!@~\", ' ', clean_tweet)\n",
        "  clean_tweet = clean_tweet.split()\n",
        "  clean_tweet = [lem.lemmatize(word) for word in clean_tweet if word not in set(stopwords.words('english'))]\n",
        "  clean_tweet = \" \".join(clean_tweet)\n",
        "  corpus.append(clean_tweet)\n",
        "\n",
        "\n"
      ],
      "execution_count": 32,
      "outputs": []
    },
    {
      "cell_type": "code",
      "metadata": {
        "id": "iSm4qDERPHZ_"
      },
      "source": [
        "email_train_dataframe['clean_tweet'] = corpus"
      ],
      "execution_count": 19,
      "outputs": []
    },
    {
      "cell_type": "code",
      "metadata": {
        "id": "LwPDu0o1PYLf",
        "outputId": "ce839361-b00a-4658-9d68-7bac2d97e01d",
        "colab": {
          "base_uri": "https://localhost:8080/",
          "height": 402
        }
      },
      "source": [
        "email_train_dataframe"
      ],
      "execution_count": 23,
      "outputs": [
        {
          "output_type": "execute_result",
          "data": {
            "text/html": [
              "<div>\n",
              "<style scoped>\n",
              "    .dataframe tbody tr th:only-of-type {\n",
              "        vertical-align: middle;\n",
              "    }\n",
              "\n",
              "    .dataframe tbody tr th {\n",
              "        vertical-align: top;\n",
              "    }\n",
              "\n",
              "    .dataframe thead th {\n",
              "        text-align: right;\n",
              "    }\n",
              "</style>\n",
              "<table border=\"1\" class=\"dataframe\">\n",
              "  <thead>\n",
              "    <tr style=\"text-align: right;\">\n",
              "      <th></th>\n",
              "      <th>id</th>\n",
              "      <th>label</th>\n",
              "      <th>tweet</th>\n",
              "      <th>clean_tweet</th>\n",
              "    </tr>\n",
              "  </thead>\n",
              "  <tbody>\n",
              "    <tr>\n",
              "      <th>0</th>\n",
              "      <td>1</td>\n",
              "      <td>0</td>\n",
              "      <td>#fingerprint #Pregnancy Test https://goo.gl/h1...</td>\n",
              "      <td>fingerprint pregnancy test android apps beauti...</td>\n",
              "    </tr>\n",
              "    <tr>\n",
              "      <th>1</th>\n",
              "      <td>2</td>\n",
              "      <td>0</td>\n",
              "      <td>Finally a transparant silicon case ^^ Thanks t...</td>\n",
              "      <td>finally transparant silicon case thanks uncle ...</td>\n",
              "    </tr>\n",
              "    <tr>\n",
              "      <th>2</th>\n",
              "      <td>3</td>\n",
              "      <td>0</td>\n",
              "      <td>We love this! Would you go? #talk #makememorie...</td>\n",
              "      <td>love would go talk makememories unplug relax i...</td>\n",
              "    </tr>\n",
              "    <tr>\n",
              "      <th>3</th>\n",
              "      <td>4</td>\n",
              "      <td>0</td>\n",
              "      <td>I'm wired I know I'm George I was made that wa...</td>\n",
              "      <td>wired know george made way iphone cute daventr...</td>\n",
              "    </tr>\n",
              "    <tr>\n",
              "      <th>4</th>\n",
              "      <td>5</td>\n",
              "      <td>1</td>\n",
              "      <td>What amazing service! Apple won't even talk to...</td>\n",
              "      <td>amazing service apple even talk question unles...</td>\n",
              "    </tr>\n",
              "    <tr>\n",
              "      <th>...</th>\n",
              "      <td>...</td>\n",
              "      <td>...</td>\n",
              "      <td>...</td>\n",
              "      <td>...</td>\n",
              "    </tr>\n",
              "    <tr>\n",
              "      <th>7915</th>\n",
              "      <td>7916</td>\n",
              "      <td>0</td>\n",
              "      <td>Live out loud #lol #liveoutloud #selfie #smile...</td>\n",
              "      <td>live loud lol liveoutloud selfie smile sony mu...</td>\n",
              "    </tr>\n",
              "    <tr>\n",
              "      <th>7916</th>\n",
              "      <td>7917</td>\n",
              "      <td>0</td>\n",
              "      <td>We would like to wish you an amazing day! Make...</td>\n",
              "      <td>would like wish amazing day make every minute ...</td>\n",
              "    </tr>\n",
              "    <tr>\n",
              "      <th>7917</th>\n",
              "      <td>7918</td>\n",
              "      <td>0</td>\n",
              "      <td>Helping my lovely 90 year old neighbor with he...</td>\n",
              "      <td>helping lovely year old neighbor ipad morning ...</td>\n",
              "    </tr>\n",
              "    <tr>\n",
              "      <th>7918</th>\n",
              "      <td>7919</td>\n",
              "      <td>0</td>\n",
              "      <td>Finally got my #smart #pocket #wifi stay conne...</td>\n",
              "      <td>finally got smart pocket wifi stay connected a...</td>\n",
              "    </tr>\n",
              "    <tr>\n",
              "      <th>7919</th>\n",
              "      <td>7920</td>\n",
              "      <td>0</td>\n",
              "      <td>Apple Barcelona!!! #Apple #Store #BCN #Barcelo...</td>\n",
              "      <td>apple barcelona apple store bcn barcelona trav...</td>\n",
              "    </tr>\n",
              "  </tbody>\n",
              "</table>\n",
              "<p>7920 rows × 4 columns</p>\n",
              "</div>"
            ],
            "text/plain": [
              "        id  ...                                        clean_tweet\n",
              "0        1  ...  fingerprint pregnancy test android apps beauti...\n",
              "1        2  ...  finally transparant silicon case thanks uncle ...\n",
              "2        3  ...  love would go talk makememories unplug relax i...\n",
              "3        4  ...  wired know george made way iphone cute daventr...\n",
              "4        5  ...  amazing service apple even talk question unles...\n",
              "...    ...  ...                                                ...\n",
              "7915  7916  ...  live loud lol liveoutloud selfie smile sony mu...\n",
              "7916  7917  ...  would like wish amazing day make every minute ...\n",
              "7917  7918  ...  helping lovely year old neighbor ipad morning ...\n",
              "7918  7919  ...  finally got smart pocket wifi stay connected a...\n",
              "7919  7920  ...  apple barcelona apple store bcn barcelona trav...\n",
              "\n",
              "[7920 rows x 4 columns]"
            ]
          },
          "metadata": {
            "tags": []
          },
          "execution_count": 23
        }
      ]
    },
    {
      "cell_type": "code",
      "metadata": {
        "id": "IHDg9Ah235Dv",
        "outputId": "fd7eabb3-e4e3-462b-d674-c055eff0732d",
        "colab": {
          "base_uri": "https://localhost:8080/",
          "height": 995
        }
      },
      "source": [
        "! pip install tensorflow==1.15\n",
        "! pip install tensorflow-hub>=0.6.0"
      ],
      "execution_count": 10,
      "outputs": [
        {
          "output_type": "stream",
          "text": [
            "Collecting tensorflow==1.15\n",
            "\u001b[?25l  Downloading https://files.pythonhosted.org/packages/3f/98/5a99af92fb911d7a88a0005ad55005f35b4c1ba8d75fba02df726cd936e6/tensorflow-1.15.0-cp36-cp36m-manylinux2010_x86_64.whl (412.3MB)\n",
            "\u001b[K     |████████████████████████████████| 412.3MB 25kB/s \n",
            "\u001b[?25hRequirement already satisfied: wrapt>=1.11.1 in /usr/local/lib/python3.6/dist-packages (from tensorflow==1.15) (1.12.1)\n",
            "Requirement already satisfied: google-pasta>=0.1.6 in /usr/local/lib/python3.6/dist-packages (from tensorflow==1.15) (0.2.0)\n",
            "Collecting keras-applications>=1.0.8\n",
            "\u001b[?25l  Downloading https://files.pythonhosted.org/packages/71/e3/19762fdfc62877ae9102edf6342d71b28fbfd9dea3d2f96a882ce099b03f/Keras_Applications-1.0.8-py3-none-any.whl (50kB)\n",
            "\u001b[K     |████████████████████████████████| 51kB 6.1MB/s \n",
            "\u001b[?25hRequirement already satisfied: opt-einsum>=2.3.2 in /usr/local/lib/python3.6/dist-packages (from tensorflow==1.15) (3.3.0)\n",
            "Collecting tensorboard<1.16.0,>=1.15.0\n",
            "\u001b[?25l  Downloading https://files.pythonhosted.org/packages/1e/e9/d3d747a97f7188f48aa5eda486907f3b345cd409f0a0850468ba867db246/tensorboard-1.15.0-py3-none-any.whl (3.8MB)\n",
            "\u001b[K     |████████████████████████████████| 3.8MB 28.8MB/s \n",
            "\u001b[?25hRequirement already satisfied: wheel>=0.26 in /usr/local/lib/python3.6/dist-packages (from tensorflow==1.15) (0.35.1)\n",
            "Requirement already satisfied: astor>=0.6.0 in /usr/local/lib/python3.6/dist-packages (from tensorflow==1.15) (0.8.1)\n",
            "Requirement already satisfied: six>=1.10.0 in /usr/local/lib/python3.6/dist-packages (from tensorflow==1.15) (1.15.0)\n",
            "Requirement already satisfied: termcolor>=1.1.0 in /usr/local/lib/python3.6/dist-packages (from tensorflow==1.15) (1.1.0)\n",
            "Requirement already satisfied: absl-py>=0.7.0 in /usr/local/lib/python3.6/dist-packages (from tensorflow==1.15) (0.10.0)\n",
            "Collecting tensorflow-estimator==1.15.1\n",
            "\u001b[?25l  Downloading https://files.pythonhosted.org/packages/de/62/2ee9cd74c9fa2fa450877847ba560b260f5d0fb70ee0595203082dafcc9d/tensorflow_estimator-1.15.1-py2.py3-none-any.whl (503kB)\n",
            "\u001b[K     |████████████████████████████████| 512kB 41.0MB/s \n",
            "\u001b[?25hRequirement already satisfied: protobuf>=3.6.1 in /usr/local/lib/python3.6/dist-packages (from tensorflow==1.15) (3.12.4)\n",
            "Requirement already satisfied: keras-preprocessing>=1.0.5 in /usr/local/lib/python3.6/dist-packages (from tensorflow==1.15) (1.1.2)\n",
            "Collecting gast==0.2.2\n",
            "  Downloading https://files.pythonhosted.org/packages/4e/35/11749bf99b2d4e3cceb4d55ca22590b0d7c2c62b9de38ac4a4a7f4687421/gast-0.2.2.tar.gz\n",
            "Requirement already satisfied: grpcio>=1.8.6 in /usr/local/lib/python3.6/dist-packages (from tensorflow==1.15) (1.33.2)\n",
            "Requirement already satisfied: numpy<2.0,>=1.16.0 in /usr/local/lib/python3.6/dist-packages (from tensorflow==1.15) (1.18.5)\n",
            "Requirement already satisfied: h5py in /usr/local/lib/python3.6/dist-packages (from keras-applications>=1.0.8->tensorflow==1.15) (2.10.0)\n",
            "Requirement already satisfied: werkzeug>=0.11.15 in /usr/local/lib/python3.6/dist-packages (from tensorboard<1.16.0,>=1.15.0->tensorflow==1.15) (1.0.1)\n",
            "Requirement already satisfied: markdown>=2.6.8 in /usr/local/lib/python3.6/dist-packages (from tensorboard<1.16.0,>=1.15.0->tensorflow==1.15) (3.3.3)\n",
            "Requirement already satisfied: setuptools>=41.0.0 in /usr/local/lib/python3.6/dist-packages (from tensorboard<1.16.0,>=1.15.0->tensorflow==1.15) (50.3.2)\n",
            "Requirement already satisfied: importlib-metadata; python_version < \"3.8\" in /usr/local/lib/python3.6/dist-packages (from markdown>=2.6.8->tensorboard<1.16.0,>=1.15.0->tensorflow==1.15) (2.0.0)\n",
            "Requirement already satisfied: zipp>=0.5 in /usr/local/lib/python3.6/dist-packages (from importlib-metadata; python_version < \"3.8\"->markdown>=2.6.8->tensorboard<1.16.0,>=1.15.0->tensorflow==1.15) (3.4.0)\n",
            "Building wheels for collected packages: gast\n",
            "  Building wheel for gast (setup.py) ... \u001b[?25l\u001b[?25hdone\n",
            "  Created wheel for gast: filename=gast-0.2.2-cp36-none-any.whl size=7542 sha256=33fdbe871a6b469790f980939830ce715342e76b99b8a35a8b0acd857ad99862\n",
            "  Stored in directory: /root/.cache/pip/wheels/5c/2e/7e/a1d4d4fcebe6c381f378ce7743a3ced3699feb89bcfbdadadd\n",
            "Successfully built gast\n",
            "\u001b[31mERROR: tensorflow-probability 0.11.0 has requirement gast>=0.3.2, but you'll have gast 0.2.2 which is incompatible.\u001b[0m\n",
            "Installing collected packages: keras-applications, tensorboard, tensorflow-estimator, gast, tensorflow\n",
            "  Found existing installation: tensorboard 2.3.0\n",
            "    Uninstalling tensorboard-2.3.0:\n",
            "      Successfully uninstalled tensorboard-2.3.0\n",
            "  Found existing installation: tensorflow-estimator 2.3.0\n",
            "    Uninstalling tensorflow-estimator-2.3.0:\n",
            "      Successfully uninstalled tensorflow-estimator-2.3.0\n",
            "  Found existing installation: gast 0.3.3\n",
            "    Uninstalling gast-0.3.3:\n",
            "      Successfully uninstalled gast-0.3.3\n",
            "  Found existing installation: tensorflow 2.3.0\n",
            "    Uninstalling tensorflow-2.3.0:\n",
            "      Successfully uninstalled tensorflow-2.3.0\n",
            "Successfully installed gast-0.2.2 keras-applications-1.0.8 tensorboard-1.15.0 tensorflow-1.15.0 tensorflow-estimator-1.15.1\n"
          ],
          "name": "stdout"
        },
        {
          "output_type": "display_data",
          "data": {
            "application/vnd.colab-display-data+json": {
              "pip_warning": {
                "packages": [
                  "gast",
                  "tensorboard",
                  "tensorflow",
                  "tensorflow_estimator"
                ]
              }
            }
          },
          "metadata": {
            "tags": []
          }
        }
      ]
    },
    {
      "cell_type": "code",
      "metadata": {
        "id": "4_M4v1Hw4Dj5"
      },
      "source": [
        "import tensorflow_hub as hub\n",
        "import tensorflow as tf\n",
        "\n",
        "elmo = hub.Module(\"https://tfhub.dev/google/elmo/2\", trainable=True)\n"
      ],
      "execution_count": 3,
      "outputs": []
    },
    {
      "cell_type": "code",
      "metadata": {
        "id": "duv2DhdjMZ_i"
      },
      "source": [
        "def elmo_vector(text):\n",
        "  embed = elmo(text, signature=\"default\", as_dict=True)[\"elmo\"]\n",
        "  with tf.Session() as sess:\n",
        "    sess.run(tf.global_variables_initializer())\n",
        "    sess.run(tf.tables_initializer())\n",
        "    return sess.run(tf.reduce_mean(embed, 1))"
      ],
      "execution_count": 26,
      "outputs": []
    },
    {
      "cell_type": "code",
      "metadata": {
        "id": "bt1-JO5KNYId"
      },
      "source": [
        "train_batch = [email_train_dataframe[i:i+100] for i in range(0,email_train_dataframe.shape[0], 100)]"
      ],
      "execution_count": 21,
      "outputs": []
    },
    {
      "cell_type": "code",
      "metadata": {
        "id": "iNHchABNO8yQ",
        "outputId": "d14e8177-438b-403d-9a70-ab52fd8f17cf",
        "colab": {
          "base_uri": "https://localhost:8080/"
        }
      },
      "source": [
        ""
      ],
      "execution_count": 24,
      "outputs": [
        {
          "output_type": "execute_result",
          "data": {
            "text/plain": [
              "[     id  ...                                        clean_tweet\n",
              " 0     1  ...  fingerprint pregnancy test android apps beauti...\n",
              " 1     2  ...  finally transparant silicon case thanks uncle ...\n",
              " 2     3  ...  love would go talk makememories unplug relax i...\n",
              " 3     4  ...  wired know george made way iphone cute daventr...\n",
              " 4     5  ...  amazing service apple even talk question unles...\n",
              " ..  ...  ...                                                ...\n",
              " 95   96  ...  new model byhilalak earphone urbanears handmad...\n",
              " 96   97  ...  photo itunes vicio nellyfurtado nelstar playin...\n",
              " 97   98  ...  see many feature know iphone iphone yourtechco...\n",
              " 98   99  ...  happiness box yey phone sony xperia sonyxperia...\n",
              " 99  100  ...  feliz bado con caf saturday coffee pantry iphonex\n",
              " \n",
              " [100 rows x 4 columns],\n",
              "       id  ...                                        clean_tweet\n",
              " 100  101  ...  dreamy effect created straight iphone impressi...\n",
              " 101  102  ...  finalllllly note note samsung galaxy galaxynot...\n",
              " 102  103  ...  special app valentine fashion nowplaying daugh...\n",
              " 103  104  ...  photo day erie pa car sign iloveyou blackandwh...\n",
              " 104  105  ...  lunch park apple carrot banana lovely dog tree...\n",
              " ..   ...  ...                                                ...\n",
              " 195  196  ...  amigo friend iphonesia iphone instagood instag...\n",
              " 196  197  ...    thing make reading pink ereader sony use nearly\n",
              " 197  198  ...  edm life hardwell amor apple avicii acedemy ac...\n",
              " 198  199  ...  year shuffle samsung galaxyfamily finally real...\n",
              " 199  200  ...  thank u much god christian iphone instagram ip...\n",
              " \n",
              " [100 rows x 4 columns],\n",
              "       id  ...                                        clean_tweet\n",
              " 200  201  ...  woohoo finally get nx finally camera nx samsun...\n",
              " 201  202  ...  family family friend beauty fun cuties iphone ...\n",
              " 202  203  ...  happy samsung galaxy note got updated android ...\n",
              " 203  204  ...  rt sleekdeals hot deal high tech lightning usb...\n",
              " 204  205  ...  looove amazing beautiful copenhagen creative c...\n",
              " ..   ...  ...                                                ...\n",
              " 295  296  ...  hey appleofficlal schedule appts never honor n...\n",
              " 296  297  ...  uninstall samsung ky get android file transfer...\n",
              " 297  298  ...  gain follower rt must follow follow back follo...\n",
              " 298  299  ...  photo yea bro fifa day dope iphone instagood i...\n",
              " 299  300  ...  finally get something apple american get roger...\n",
              " \n",
              " [100 rows x 4 columns],\n",
              "       id  ...                                        clean_tweet\n",
              " 300  301  ...  fib rhyme sib nib jib bib rib dibs start today...\n",
              " 301  302  ...   oneplus finally fixed fast efficient thx oneplus\n",
              " 302  303  ...  thought would fun jailbreak ipod sitting resto...\n",
              " 303  304  ...  love fucking ipad rednose musicevideo blackfri...\n",
              " 304  305  ...                        people iphones keep showing\n",
              " ..   ...  ...                                                ...\n",
              " 395  396  ...  gain follower rt must follow follow back follo...\n",
              " 396  397  ...  loving cake day brighton got propper lush choc...\n",
              " 397  398  ...          new tv bedroom happy samsung smart tv new\n",
              " 398  399  ...  last day vote dabball round art game app iphon...\n",
              " 399  400  ...  absolutely love sony music cam recommend sony ...\n",
              " \n",
              " [100 rows x 4 columns],\n",
              "       id  ...                                        clean_tweet\n",
              " 400  401  ...  get iphone popular pure shite android far best...\n",
              " 401  402  ...  hate iphones impossible use g lte theworst can...\n",
              " 402  403  ...  hateapple update work causing computer restore...\n",
              " 403  404  ...  scroll twitter facebook like min phone go seri...\n",
              " 404  405  ...  came home mac case front door winning apple pi...\n",
              " ..   ...  ...                                                ...\n",
              " 495  496  ...       deleting email useless new phone hateiphones\n",
              " 496  497  ...  boyfriend new song instasize iphone lol hereit...\n",
              " 497  498  ...  samsung engineering building photooftheweek we...\n",
              " 498  499  ...  rt cook jk cook jk cooking jk japan apple pie ...\n",
              " 499  500  ...  shopping day starbucks coffee like like nice i...\n",
              " \n",
              " [100 rows x 4 columns],\n",
              "       id  ...                                        clean_tweet\n",
              " 500  501  ...        set almost done newtv samsung black massive\n",
              " 501  502  ...  main reason hateapple io bullshit sooooo annoy...\n",
              " 502  503  ...  catch family southerngirlproblems family cousi...\n",
              " 503  504  ...  even picture apple apple red fruit yum heathy ...\n",
              " 504  505  ...  new case hanogramcase martyarchs case name iph...\n",
              " ..   ...  ...                                                ...\n",
              " 595  596  ...  sony bottom heart would like say sonymobilenew...\n",
              " 596  597  ...  firstpresent firstlove dating penguin necklace...\n",
              " 597  598  ...                 look got today dying samsung phone\n",
              " 598  599  ...  hateapple music whether download music import ...\n",
              " 599  600  ...  scottiwata saying people micro wave ipads tota...\n",
              " \n",
              " [100 rows x 4 columns],\n",
              "       id  ...                                        clean_tweet\n",
              " 600  601  ...      egg crusher android game news io apple iphone\n",
              " 601  602  ...  couple picture took photography samsung galaxy...\n",
              " 602  603  ...  apple bee flow hour made dollar n tip gotta ea...\n",
              " 603  604  ...  reposting lexzaronis walk door side find magic...\n",
              " 604  605  ...  must story camera nikon sony picoftheday free ...\n",
              " ..   ...  ...                                                ...\n",
              " 695  696  ...  year old mother simultaneously hate iphone ref...\n",
              " 696  697  ...  beautiful princess daughter hawaiian present c...\n",
              " 697  698  ...  apple though big phone unusable apple hypocrit...\n",
              " 698  699  ...  go ipon iphone igers dream want igersasia iger...\n",
              " 699  700  ...  hey guy look samsung galaxy midnight black gb ...\n",
              " \n",
              " [100 rows x 4 columns],\n",
              "       id  ...                                        clean_tweet\n",
              " 700  701  ...  come mama new baby gift galaxy samsung white n...\n",
              " 701  702  ...  ya think new iphone cover blingy enough lol ip...\n",
              " 702  703  ...  smile room showmeyour happiness smile room son...\n",
              " 703  704  ...  anything put mind become accomplish fact miami...\n",
              " 704  705  ...  photooftheday instagram iphone nail creativity...\n",
              " ..   ...  ...                                                ...\n",
              " 795  796  ...                meantime tweeting crappad mean ipad\n",
              " 796  797  ...  black friday follow creativebanana blackfriday...\n",
              " 797  798  ...  debut new online customer experience presdak i...\n",
              " 798  799  ...  february day clock iphone apps home screen ocl...\n",
              " 799  800  ...           suck earphone month old use office apple\n",
              " \n",
              " [100 rows x 4 columns],\n",
              "       id  ...                                        clean_tweet\n",
              " 800  801  ...  love horse summer nature photo girl life photo...\n",
              " 801  802  ...  sibling sister fun girl selfie selca frontcam ...\n",
              " 802  803  ...  stupid droid u show music player window medium...\n",
              " 803  804  ...  u used credit card playstation network hacker ...\n",
              " 804  805  ...  jill holmes departs vh west news photography f...\n",
              " ..   ...  ...                                                ...\n",
              " 895  896  ...  watch tyga squirm away ross news photography f...\n",
              " 896  897  ...  wifi haking password android apps unitedstate ...\n",
              " 897  898  ...  pre ordered payed full playstation playstation...\n",
              " 898  899  ...  people annoying new iphone phone phone thing a...\n",
              " 899  900  ...  new display picture iphoneography iphone insta...\n",
              " \n",
              " [100 rows x 4 columns],\n",
              "        id  ...                                        clean_tweet\n",
              " 900   901  ...  would like wish amazing day make every minute ...\n",
              " 901   902  ...  apple charger worst bought ten iphone charger ...\n",
              " 902   903  ...  rt larry hwan selfie indonesia shopping fun cu...\n",
              " 903   904  ...  samsung gear vr shae transported world healthy...\n",
              " 904   905  ...  new note happy left apple breakup peaceout cus...\n",
              " ..    ...  ...                                                ...\n",
              " 995   996  ...  looking awesome awesome woodworking greatful y...\n",
              " 996   997  ...  new toy ipad apple rdgeneration shopping gift ...\n",
              " 997   998  ...  slowhand dr banana widget see twitter stock we...\n",
              " 998   999  ...  idk download dead nation infamous never play e...\n",
              " 999  1000  ...       gone thru four iphone charger day bos badass\n",
              " \n",
              " [100 rows x 4 columns],\n",
              "         id  ...                                        clean_tweet\n",
              " 1000  1001  ...  martinju instafunny video antena beach la cant...\n",
              " 1001  1002  ...  cake like iphone iphonesia outmagazine photgra...\n",
              " 1002  1003  ...    miisstoriix overrated waste money get abuse lol\n",
              " 1003  1004  ...  thanks delivery today pre order paid beat brot...\n",
              " 1004  1005  ...  like geisha kimono geisha jepang pink beauty m...\n",
              " ...    ...  ...                                                ...\n",
              " 1095  1096  ...  last present year p makeupartist game sony ath...\n",
              " 1096  1097  ...  new year cheerful fun smile sweet couple sony ...\n",
              " 1097  1098  ...  vanle done samsungmobileus jay z payroll enoug...\n",
              " 1098  1099  ...  annieb x beckyheth based fact use iphone send ...\n",
              " 1099  1100  ...  photo quote instagood insta sexy weed iphone c...\n",
              " \n",
              " [100 rows x 4 columns],\n",
              "         id  ...                                        clean_tweet\n",
              " 1100  1101  ...  twitter stupid ipod keep crashing good job twe...\n",
              " 1101  1102  ...  rt rt planet doug compassion iphone case zazzl...\n",
              " 1102  1103  ...  proofjalenmcmillan proof concept trending foll...\n",
              " 1103  1104  ...  birthday time top legging shape friend playapa...\n",
              " 1104  1105  ...                  iphone update last month annoying\n",
              " ...    ...  ...                                                ...\n",
              " 1195  1196  ...  photo new iphone case gold silver black diamon...\n",
              " 1196  1197  ...  grab hand please apple cockhead big dick enorm...\n",
              " 1197  1198  ...  soon baby soon mine iloveit tv samsungtv samsu...\n",
              " 1198  1199  ...  moal boal iphoneography iphoneonly iphoneograp...\n",
              " 1199  1200  ...     oh iphone would ever done social medium iphone\n",
              " \n",
              " [100 rows x 4 columns],\n",
              "         id  ...                                        clean_tweet\n",
              " 1200  1201  ...  good day follower stitch samsung galaxy note t...\n",
              " 1201  1202  ...  mind taken captive dream one day awake beauty ...\n",
              " 1202  1203  ...  apple getting sued becuase many app downloadin...\n",
              " 1203  1204  ...  phone literally plugged sudden shot sway still...\n",
              " 1204  1205  ...  said bye blackberry hello new phone iphone six...\n",
              " ...    ...  ...                                                ...\n",
              " 1295  1296  ...  new wallpaper best friend smile best friend wa...\n",
              " 1296  1297  ...  check funky fruit bowl apple fruit fruitbowl k...\n",
              " 1297  1298  ...  would like wish amazing day make every minute ...\n",
              " 1298  1299  ...  scotters loyal bb user put rim ground hop andr...\n",
              " 1299  1300  ...  apple worst fucking support ever hafta pay app...\n",
              " \n",
              " [100 rows x 4 columns],\n",
              "         id  ...                                        clean_tweet\n",
              " 1300  1301  ...  rt czarinap photo family love migros manor chr...\n",
              " 1301  1302  ...  jojo fletcher reveals top news photography fas...\n",
              " 1302  1303  ...  people new iphone came got first tattoo ever i...\n",
              " 1303  1304  ...  infinity infinity teen tumblr iphone photograp...\n",
              " 1304  1305  ...  whats iphone iphone apple vlog vlogger l canon...\n",
              " ...    ...  ...                                                ...\n",
              " 1395  1396  ...  broken every single fucking iphone ever owned ...\n",
              " 1396  1397  ...  phone got amazing update world galaxy samsung ...\n",
              " 1397  1398  ...  see positive smallest thing apple heart wednes...\n",
              " 1398  1399  ...  hot girl china foodporn dj ballet ff family ap...\n",
              " 1399  1400  ...   kernel panic apple fuckyou come macbook year old\n",
              " \n",
              " [100 rows x 4 columns],\n",
              "         id  ...                                        clean_tweet\n",
              " 1400  1401  ...        really want ipad sole reason want one apple\n",
              " 1401  1402  ...    thanks beautiful ly power bank sony via lbc got\n",
              " 1402  1403  ...  gain follower rt must follow follow back follo...\n",
              " 1403  1404  ...  saturday peep kotakinabalu sun weekend car bla...\n",
              " 1404  1405  ...  mundo al ref boy kid smile hair gold gr retrat...\n",
              " ...    ...  ...                                                ...\n",
              " 1495  1496  ...  good morning cool cute hollywood baby blue bea...\n",
              " 1496  1497  ...  today appleturnoverday rule crumb stress canno...\n",
              " 1497  1498  ...               im glad sony xperia one thats tv add\n",
              " 1498  1499  ...  new article quepublishing love hate apple appl...\n",
              " 1499  1500  ...  something happy start day garage band implemen...\n",
              " \n",
              " [100 rows x 4 columns],\n",
              "         id  ...                                        clean_tweet\n",
              " 1500  1501  ...  apple bunch crook refused repair replace beat ...\n",
              " 1501  1502  ...    happy birthday mybirthar regalos imac mac apple\n",
              " 1502  1503  ...  hot giveaway end today enter chance win apple ...\n",
              " 1503  1504  ...  oh yeaaaaah baby suck monster apple cockhead b...\n",
              " 1504  1505  ...  selfie pose see feel happy important samsung d...\n",
              " ...    ...  ...                                                ...\n",
              " 1595  1596  ...  switch iphone plus love apple iphone thewait cent\n",
              " 1596  1597  ...  sonypictures go fuck going pull movie terroris...\n",
              " 1597  1598  ...         hole suck apple bring classy instead funky\n",
              " 1598  1599  ...  acesse game play xbox charge charger sony pilh...\n",
              " 1599  1600  ...  piece work verotruesocial different instagramh...\n",
              " \n",
              " [100 rows x 4 columns],\n",
              "         id  ...                                        clean_tweet\n",
              " 1600  1601  ...  self obsessed culture selfie universal art por...\n",
              " 1601  1602  ...  nokia sirocco unlocked mobile phone florida mo...\n",
              " 1602  1603  ...  brother lappy vaio laptop sony silver black st...\n",
              " 1603  1604  ...  lemme get straight apple charger suck therefor...\n",
              " 1604  1605  ...            proud sony phone user since k k c sonyz\n",
              " ...    ...  ...                                                ...\n",
              " 1695  1696  ...               love phone flashed score time iphone\n",
              " 1696  1697  ...  another cool photo hate fit screen instagood i...\n",
              " 1697  1698  ...  follow capetownsup instagram sup surf fun cape...\n",
              " 1698  1699  ...  yay love new white iphone iphone white apple r...\n",
              " 1699  1700  ...  promotion life organic katy store nice special...\n",
              " \n",
              " [100 rows x 4 columns],\n",
              "         id  ...                                        clean_tweet\n",
              " 1700  1701  ...  new post workout photo adornthewicked apple sp...\n",
              " 1701  1702  ...  theesar bear get everything wait christmas jea...\n",
              " 1702  1703  ...  iphone plus gold brand new box iphone sougofol...\n",
              " 1703  1704  ...  theoffice flaccid dick dry vagina news apple g...\n",
              " 1704  1705  ...  saw cute guy got happy william gay horny girl ...\n",
              " ...    ...  ...                                                ...\n",
              " 1795  1796  ...  love sweden swedish girl blonde black year tir...\n",
              " 1796  1797  ...  aisha macbook hard drive died week protection ...\n",
              " 1797  1798  ...  iphone took like forever get setting back neve...\n",
              " 1798  1799  ...  end end system system apple macbookpro appleis...\n",
              " 1799  1800  ...  oneplus official oneplus gallery oneplus shaw ...\n",
              " \n",
              " [100 rows x 4 columns],\n",
              "         id  ...                                        clean_tweet\n",
              " 1800  1801  ...  jamesyblade brocklesby still think apple custo...\n",
              " 1801  1802  ...  gold plated butt plug business sued apple appa...\n",
              " 1802  1803  ...  contest teachersday win bumper prize ipad sams...\n",
              " 1803  1804  ...  much ado hairdo francois news photography fash...\n",
              " 1804  1805  ...  trying type word english keyboard change frenc...\n",
              " ...    ...  ...                                                ...\n",
              " 1895  1896  ...  shirt much zeta supply click link iphone disco...\n",
              " 1896  1897  ...  happiness iphone unlock att iloveit unlock ige...\n",
              " 1897  1898  ...  lost everything phone restore either day fucki...\n",
              " 1898  1899  ...  min previous post iphone video beach storm cel...\n",
              " 1899  1900  ...      say iphone image cache gizmodo com imagecache\n",
              " \n",
              " [100 rows x 4 columns],\n",
              "         id  ...                                        clean_tweet\n",
              " 1900  1901  ...  want new iphone need new iphone glitchy crashi...\n",
              " 1901  1902  ...  loving new premium suite software upgrade feat...\n",
              " 1902  1903  ...  would like wish amazing day make every minute ...\n",
              " 1903  1904  ...  kate mm followsunday followback rt teamfollowb...\n",
              " 1904  1905  ...  mama got new phone prepared portrait mode over...\n",
              " ...    ...  ...                                                ...\n",
              " 1995  1996  ...  feel free chile tourism nature freedom sky iph...\n",
              " 1996  1997  ...  hunt steemit hunt garden new life home story b...\n",
              " 1997  1998  ...              ordering plus today since work iphone\n",
              " 1998  1999  ...           iphone month already piece broken fuming\n",
              " 1999  2000  ...       p xperia sony alltheway grateful life beauty\n",
              " \n",
              " [100 rows x 4 columns],\n",
              "         id  ...                                        clean_tweet\n",
              " 2000  2001  ...  think world gonna end barely predict weather t...\n",
              " 2001  2002  ...  gain follower rt must follow follow back follo...\n",
              " 2002  2003  ...  follow capetownsup instagram sup surf fun cape...\n",
              " 2003  2004  ...              delete message phone download one app\n",
              " 2004  2005  ...  day feel better iphone apple newphone rosegold...\n",
              " ...    ...  ...                                                ...\n",
              " 2095  2096  ...  school mine apple water bfast goodvibes girl k...\n",
              " 2096  2097  ...  benghazi victim widow blast news photography f...\n",
              " 2097  2098  ...  playing start party starttheparty p sony plays...\n",
              " 2098  2099  ...  nite nite kiss la iphone iphonemania passion i...\n",
              " 2099  2100  ...            hope thy fix da problem apple iphone io\n",
              " \n",
              " [100 rows x 4 columns],\n",
              "         id  ...                                        clean_tweet\n",
              " 2100  2101  ...  home fairy via redbubble fungi pun funny cute ...\n",
              " 2101  2102  ...  face gadget siri smartwatch discount expires h...\n",
              " 2102  2103  ...  xstephenchapman better ipad iphone verizon app...\n",
              " 2103  2104  ...  love playing guitar explore enjoylife friend p...\n",
              " 2104  2105  ...  bako case new arrival iphone phone ebay samsun...\n",
              " ...    ...  ...                                                ...\n",
              " 2195  2196  ...  phone would fail need thanks nothing piece shi...\n",
              " 2196  2197  ...  lariiiis brunoheider eu family friend hot gala...\n",
              " 2197  2198  ...  batman rescue rt laurencopeland thank god peop...\n",
              " 2198  2199  ...  oh hello selfie vancouver instadaily instacute...\n",
              " 2199  2200  ...  kingofarsenal never imac though good mind nice...\n",
              " \n",
              " [100 rows x 4 columns],\n",
              "         id  ...                                        clean_tweet\n",
              " 2200  2201  ...  day tweet reddit ups fb share fb like solid ar...\n",
              " 2201  2202  ...  yay thank grandma ipad apple newtechnology new...\n",
              " 2202  2203  ...  tip recipe call cup thinly sliced apple approx...\n",
              " 2203  2204  ...  love samsung galaxy note phone bestbuy sprint ...\n",
              " 2204  2205  ...  microsoft zune clearly superior product ipod m...\n",
              " ...    ...  ...                                                ...\n",
              " 2295  2296  ...  aaron skip tweet oomf southside ipho suburb ip...\n",
              " 2296  2297  ...    fucking apple pay gig give asshole apple iphone\n",
              " 2297  2298  ...  aand probably lost everything itunes well phon...\n",
              " 2298  2299  ...  mp cutter free android apps unitedstate cute c...\n",
              " 2299  2300  ...  going work bh c iphonesia iphone instagood ins...\n",
              " \n",
              " [100 rows x 4 columns],\n",
              "         id  ...                                        clean_tweet\n",
              " 2300  2301  ...             kid free app platypus sing iphone ipad\n",
              " 2301  2302  ...  hi baby new apple iphone iphone black yayness ...\n",
              " 2302  2303  ...  samsung car adapter available store caradapter...\n",
              " 2303  2304  ...  dear apple product god samn complicated restar...\n",
              " 2304  2305  ...  mum dad bought birthday present whoo netbook s...\n",
              " ...    ...  ...                                                ...\n",
              " 2395  2396  ...  fuck itunes fuck apple appleofficialll fuck sy...\n",
              " 2396  2397  ...  yes finally got pair apple airpods listen dual...\n",
              " 2397  2398  ...  cave vocation newyear trip thailand khaoko ilc...\n",
              " 2398  2399  ...     new pretty case sony sonyxperiaz london tardis\n",
              " 2399  2400  ...  finally open organiqa case find unique case ip...\n",
              " \n",
              " [100 rows x 4 columns],\n",
              "         id  ...                                        clean_tweet\n",
              " 2400  2401  ...  week ago samsung note updated annoying ever si...\n",
              " 2401  2402  ...  funny xd mhp rd monsterhunterportable rd cat m...\n",
              " 2402  2403  ...  guess getting one plus two christmas oneplus o...\n",
              " 2403  2404  ...                 siri need love iphone apple iphone\n",
              " 2404  2405  ...     id rather fucking env iphone right apple usuck\n",
              " ...    ...  ...                                                ...\n",
              " 2495  2496  ...  super slow mo part samsungs plus samsung plus ...\n",
              " 2496  2497  ...  picture p instapic fresh ly newlook newphone s...\n",
              " 2497  2498  ...  r onedayatatimer life survive storm dance rain...\n",
              " 2498  2499  ...  selfietime nothing like joyful zero dark thirt...\n",
              " 2499  2500  ...        battery going whilst phone charging melting\n",
              " \n",
              " [100 rows x 4 columns],\n",
              "         id  ...                                        clean_tweet\n",
              " 2500  2501  ...  f secure study show malware pc come via pdf ex...\n",
              " 2501  2502  ...  romanticsunsets best visitcozumel case missed ...\n",
              " 2502  2503  ...  photo anime brazil instagram brazilian photo w...\n",
              " 2503  2504  ...  gain follower rt must follow follow back follo...\n",
              " 2504  2505  ...  breath ny nyc newyork usa timesq travel iphone...\n",
              " ...    ...  ...                                                ...\n",
              " 2595  2596  ...  goodmorning weekend note samsung note scribble...\n",
              " 2596  2597  ...  way trafford centre get new phone find need ap...\n",
              " 2597  2598  ...  photo yumm n n sushi japan kedaiartha friend t...\n",
              " 2598  2599  ...  frustrated apple customer service tried callin...\n",
              " 2599  2600  ...  big app news august st healthcare startup hlyk...\n",
              " \n",
              " [100 rows x 4 columns],\n",
              "         id  ...                                        clean_tweet\n",
              " 2600  2601  ...  sky turn green flower stay red instadaily inst...\n",
              " 2601  2602  ...  note mobile turn one tomorrow survived samsung...\n",
              " 2602  2603  ...  fucking dontstarve videogames gaming psvita ga...\n",
              " 2603  2604  ...  know fuck apple dumbfuck motherfucker make pro...\n",
              " 2604  2605  ...  see available storage new iphone x gb availabl...\n",
              " ...    ...  ...                                                ...\n",
              " 2695  2696  ...  apple deal massive patent blow htc android ser...\n",
              " 2696  2697  ...  chasing sunset sunset nature street iphone ins...\n",
              " 2697  2698  ...  fuckyou apple ipod update new ipod touch itune...\n",
              " 2698  2699  ...  thanks samsung complimentary haagendazs icecre...\n",
              " 2699  2700  ...  gain follower rt must follow follow back follo...\n",
              " \n",
              " [100 rows x 4 columns],\n",
              "         id  ...                                        clean_tweet\n",
              " 2700  2701  ...  support giving u follow retweeting u followus ...\n",
              " 2701  2702  ...  im hate apple change lightning cable since jan...\n",
              " 2702  2703  ...  ar love blender sushi project augmentedreality...\n",
              " 2703  2704  ...  amazes morocco shot sonyalpha rii using sony m...\n",
              " 2704  2705  ...  rt ulyssesseen via new yorker apple change hea...\n",
              " ...    ...  ...                                                ...\n",
              " 2795  2796  ...  friendly banter kickstartercampaign sydney app...\n",
              " 2796  2797  ...  hey apple shopcrabtree suck spent power cable ...\n",
              " 2797  2798  ...  new phone samsung galaxy nextisnow sayhello pi...\n",
              " 2798  2799  ...  hate hate hate apple ferociously deep burning ...\n",
              " 2799  2800  ...  honey vocation newyear trip thailand khaoko il...\n",
              " \n",
              " [100 rows x 4 columns],\n",
              "         id  ...                                        clean_tweet\n",
              " 2800  2801  ...  follow u get mobile phone accessory running pr...\n",
              " 2801  2802  ...  currently apple share price flirting might sha...\n",
              " 2802  2803  ...  mandaboo day straightened hair meow instagram ...\n",
              " 2803  2804  ...              updated sony android ate supersu sony\n",
              " 2804  2805  ...  love new phone case iphone case disney stuff h...\n",
              " ...    ...  ...                                                ...\n",
              " 2895  2896  ...  wtf updated mac password chrome wiped clean so...\n",
              " 2896  2897  ...  convert photo cartoon android apps unitedstate...\n",
              " 2897  2898  ...  slipcover rhyme hover cover plover glover star...\n",
              " 2898  2899  ...  gain follower rt must follow follow back follo...\n",
              " 2899  2900  ...  happy weekend everyone fridaypic new project w...\n",
              " \n",
              " [100 rows x 4 columns],\n",
              "         id  ...                                        clean_tweet\n",
              " 2900  2901  ...  behalf samsung bunch u distributed notebook go...\n",
              " 2901  2902  ...  one thing really love samsung galaxy note tab ...\n",
              " 2902  2903  ...  video via illusiveart space cat collab emase s...\n",
              " 2903  2904  ...  beautiful bf saturday teixo friend bf swaggy i...\n",
              " 2904  2905  ...  rock bit big jack uk general picture good god ...\n",
              " ...    ...  ...                                                ...\n",
              " 2995  2996  ...          fucking mac calendar fucking center apple\n",
              " 2996  2997  ...          love emoji apple iphone imac camera heart\n",
              " 2997  2998  ...  ameliafsimmons oh stressing believe queuing bu...\n",
              " 2998  2999  ...  see macbook apple igers instahub instagood ins...\n",
              " 2999  3000  ...   prophet husband iphone android kindle book march\n",
              " \n",
              " [100 rows x 4 columns],\n",
              "         id  ...                                        clean_tweet\n",
              " 3000  3001  ...  back alive using note loving samsung tablet cl...\n",
              " 3001  3002  ...  another free pepper lunch hahahah free galaxyg...\n",
              " 3002  3003  ...  o x imac wake sleep itunes song library beachb...\n",
              " 3003  3004  ...  yep girl marky new iphone iphone black white i...\n",
              " 3004  3005  ...  empowered unlockthesecrettoyoursoulmate downlo...\n",
              " ...    ...  ...                                                ...\n",
              " 3095  3096  ...  would like wish amazing day make every minute ...\n",
              " 3096  3097  ...  good morning happy people bagi pin donk v andr...\n",
              " 3097  3098  ...        sick phone call anyone stupid iphone pissed\n",
              " 3098  3099  ...  fourth day without laptop another week go with...\n",
              " 3099  3100  ...  shashtyabdhi th birthday steve job btw fyi app...\n",
              " \n",
              " [100 rows x 4 columns],\n",
              "         id  ...                                        clean_tweet\n",
              " 3100  3101  ...  hanging santa samsung galaxystudiousa montgome...\n",
              " 3101  3102  ...  fuck apple charger cable suck break easily swi...\n",
              " 3102  3103  ...  gain follower rt must follow follow back follo...\n",
              " 3103  3104  ...  pamela neighbour love jeanne pamela neighbour ...\n",
              " 3104  3105  ...  look iphonesia iphone instagood instagram phot...\n",
              " ...    ...  ...                                                ...\n",
              " 3195  3196  ...  ameliaj ahhhhh though abit let honest think ap...\n",
              " 3196  3197  ...  lens z sony paixaodecristo rec hdv equipedelta...\n",
              " 3197  3198  ...  new phone galaxy note phone newphone samsung a...\n",
              " 3198  3199  ...  applesupport hateapple could make refund visit...\n",
              " 3199  3200  ...  least six die score news photography fashion h...\n",
              " \n",
              " [100 rows x 4 columns],\n",
              "         id  ...                                        clean_tweet\n",
              " 3200  3201  ...  cool design phone grip aliexpress cheap sale s...\n",
              " 3201  3202  ...  get music ipod sweet fantastic amazing ipod apple\n",
              " 3202  3203  ...  new baby thank mommy daddy spoiled camera sony...\n",
              " 3203  3204  ...         sky punk android game news io apple iphone\n",
              " 3204  3205  ...  mashable geekiest marriage proposal including ...\n",
              " ...    ...  ...                                                ...\n",
              " 3295  3296  ...  bought mac bought mac bought mac imovie wahooo...\n",
              " 3296  3297  ...  gettig galaxy note tmrw happy girl excited sam...\n",
              " 3297  3298  ...  baby cute brasil instaphoto instapic instame i...\n",
              " 3298  3299  ...  apple new dress latergram preschoolersofig oon...\n",
              " 3299  3300  ...  really starting hate iphone stupid phone rando...\n",
              " \n",
              " [100 rows x 4 columns],\n",
              "         id  ...                                        clean_tweet\n",
              " 3300  3301  ...  enter new reality agnee vr box shop vr virtual...\n",
              " 3301  3302  ...            samsung lg apple iphone going back ever\n",
              " 3302  3303  ...  got iphone find wondering care iphone even ran...\n",
              " 3303  3304  ...  mcaldecutt actually mac kid grew liked thing l...\n",
              " 3304  3305  ...     apple laptop freaking hash tag press alt great\n",
              " ...    ...  ...                                                ...\n",
              " 3395  3396  ...  smile angel smile face samsung galaxy street p...\n",
              " 3396  3397  ...            took hour fix new ipod packaging minute\n",
              " 3397  3398  ...  satisfied customer priceless switch costumer s...\n",
              " 3398  3399  ...  finally got samsung galaxy iii add whatsapp sa...\n",
              " 3399  3400  ...  hour later still trying install io please goog...\n",
              " \n",
              " [100 rows x 4 columns],\n",
              "         id  ...                                        clean_tweet\n",
              " 3400  3401  ...  proud welcome new addition rafcave sony native...\n",
              " 3401  3402  ...  forget smile music smile likeforfollow losange...\n",
              " 3402  3403  ...  best offer universal smartphone car air vent m...\n",
              " 3403  3404  ...  gain follower rt must follow follow back follo...\n",
              " 3404  3405  ...          apple window seem like overall hate apple\n",
              " ...    ...  ...                                                ...\n",
              " 3495  3496  ...  hillary clinton struggle find news photography...\n",
              " 3496  3497  ...  say want microsoft least charge build source a...\n",
              " 3497  3498  ...  gain follower rt must follow follow back follo...\n",
              " 3498  3499  ...  thatisall happy sunday life beauty joy happine...\n",
              " 3499  3500  ...  moby buy cool gift today sony samsung iphone ipad\n",
              " \n",
              " [100 rows x 4 columns],\n",
              "         id  ...                                        clean_tweet\n",
              " 3500  3501  ...  iphone mockup graphicdesign logo freelancer se...\n",
              " 3501  3502  ...      new casing baby samsung phone red orange girl\n",
              " 3502  3503  ...  message top button officially broken apple win...\n",
              " 3503  3504  ...  apple right day never forget much fail serious...\n",
              " 3504  3505  ...   say first time heard update gonna send new phone\n",
              " ...    ...  ...                                                ...\n",
              " 3595  3596  ...  reposting wallofwallstreet via crowdfire look ...\n",
              " 3596  3597  ...  wow get quick charge usb car charger type c ca...\n",
              " 3597  3598  ...  fact phone week old charger headphone already ...\n",
              " 3598  3599  ...  minute wasted far fucking apple id account and...\n",
              " 3599  3600  ...  new year goal dsct sony lip rearlip trunklip m...\n",
              " \n",
              " [100 rows x 4 columns],\n",
              "         id  ...                                        clean_tweet\n",
              " 3600  3601  ...  free apple iphone tester needed iphone tech fo...\n",
              " 3601  3602  ...  science weighs best hangover cure ff friend gr...\n",
              " 3602  3603  ...  space cool space bordercollie bordercollies bo...\n",
              " 3603  3604  ...  dont iphone stupid little icon come box applei...\n",
              " 3604  3605  ...  apple account support bureaucratic hugo chavez...\n",
              " ...    ...  ...                                                ...\n",
              " 3695  3696  ...  liked klip goodnight klip sleep restful tuesda...\n",
              " 3696  3697  ...  apple mac airbook hd failed year use wtf apple...\n",
              " 3697  3698  ...  apple turn today anniversary apple stevejobs s...\n",
              " 3698  3699  ...  red beanie red camera leica light snapshot fra...\n",
              " 3699  3700  ...  luke bible quote truth faith igers poppage ins...\n",
              " \n",
              " [100 rows x 4 columns],\n",
              "         id  ...                                        clean_tweet\n",
              " 3700  3701  ...  reallyreal app approved iphone ipad dating col...\n",
              " 3701  3702  ...  good day everyone enjoy offer miss boostmobile...\n",
              " 3702  3703  ...  justinbieber love sexy hot delicious kiss appl...\n",
              " 3703  3704  ...  laptop could turn back fix would amazing figur...\n",
              " 3704  3705  ...  well someone want using wifi wifi asshole fuck...\n",
              " ...    ...  ...                                                ...\n",
              " 3795  3796  ...  text brother half asleep paulcgd iphone autoco...\n",
              " 3796  3797  ...  syncing piece ipod hourse update motherfucker ...\n",
              " 3797  3798  ...  audio proverb app english italian listen repea...\n",
              " 3798  3799  ...         fml great time phone die smdh apple iphone\n",
              " 3799  3800  ...  hey asshole want googlemaps youtube apps back ...\n",
              " \n",
              " [100 rows x 4 columns],\n",
              "         id  ...                                        clean_tweet\n",
              " 3800  3801  ...  edlitam paris travel amazing iphone funny worl...\n",
              " 3801  3802  ...  iphone battery usage totally unrelated phone u...\n",
              " 3802  3803  ...  father taking buy first gaming console ever p ...\n",
              " 3803  3804  ...  new phone motorola motox ittalkstome sogood in...\n",
              " 3804  3805  ...  laying night sunday yesterdaywassaturday tired...\n",
              " ...    ...  ...                                                ...\n",
              " 3895  3896  ...  soon mine baby p amazon gamer extremelyhappy sony\n",
              " 3896  3897  ...  soft grip battery case iphone powerplus ii per...\n",
              " 3897  3898  ...  lover samsung ipad live laugh life instago ins...\n",
              " 3898  3899  ...  tomorrow valenti tomorrow friday tgif instapic...\n",
              " 3899  3900  ...  keeping music ear pandora iphone itunes monica...\n",
              " \n",
              " [100 rows x 4 columns],\n",
              "         id  ...                                        clean_tweet\n",
              " 3900  3901  ...  follow capetownsup instagram sup surf fun cape...\n",
              " 3901  3902  ...  simple makeup dayyyy instapic samsung makeup r...\n",
              " 3902  3903  ...  payback battle sandbox android game news io ap...\n",
              " 3903  3904  ...  creating new way make education material w iph...\n",
              " 3904  3905  ...  tunnel joy peace reflect remember sky cloud cl...\n",
              " ...    ...  ...                                                ...\n",
              " 3995  3996  ...  hour christmas samsung live laugh life instamo...\n",
              " 3996  3997  ...  racing industry anti corruption news photograp...\n",
              " 3997  3998  ...  good morning rm japan whole za world friend ni...\n",
              " 3998  3999  ...  official iphone stay plugged disaster needanew...\n",
              " 3999  4000  ...  never hated inanimate object much fucking hate...\n",
              " \n",
              " [100 rows x 4 columns],\n",
              "         id  ...                                        clean_tweet\n",
              " 4000  4001  ...  happy founder day holiday iphone smile shade g...\n",
              " 4001  4002  ...  photo jdi peace inphonesia instragrammers ipho...\n",
              " 4002  4003  ...  every day save life friday selfie blonde iphon...\n",
              " 4003  4004  ...   wonderful slow phone good service apple phone as\n",
              " 4004  4005  ...  satisfied customer priceless switch costumer s...\n",
              " ...    ...  ...                                                ...\n",
              " 4095  4096  ...  playing video game justdrihhh iphonesia iphone...\n",
              " 4096  4097  ...                            phone dy time emergency\n",
              " 4097  4098  ...  io music app display lyric apple music song vi...\n",
              " 4098  4099  ...     bumpily rhyme e ye je mi ne check rhyme iphone\n",
              " 4099  4100  ...  love poem love app fashion usa girl poem valen...\n",
              " \n",
              " [100 rows x 4 columns],\n",
              "         id  ...                                        clean_tweet\n",
              " 4100  4101  ...  free ipad iphone kindle amazon prime wolfe exe...\n",
              " 4101  4102  ...  code findgifts via redbubble redbubble sale di...\n",
              " 4102  4103  ...  oppo suck always phone suffers heat problem be...\n",
              " 4103  4104  ...         kid platypus sing free app get iphone ipad\n",
              " 4104  4105  ...  muslim love care iphone ipad io muslimsforpeac...\n",
              " ...    ...  ...                                                ...\n",
              " 4195  4196  ...  happened today christmas present christmas app...\n",
              " 4196  4197  ...  kind adorable nick cute bestfriends iphone boy...\n",
              " 4197  4198  ...  sweet love sweet app idol girl nowplaying quot...\n",
              " 4198  4199  ...  another face hysteria morning dufan wonderfuli...\n",
              " 4199  4200  ...  tea fuel tea india iphone bangalore refresh fu...\n",
              " \n",
              " [100 rows x 4 columns],\n",
              "         id  ...                                        clean_tweet\n",
              " 4200  4201  ...  al one favorite song piercetheveil ptv song mu...\n",
              " 4201  4202  ...  seek f u c k u fuckyou samsung galaxy galaxy a...\n",
              " 4202  4203  ...  lovin mood case clicklnt casemate mood moodygr...\n",
              " 4203  4204  ...  waterfall vocation newyear trip thailand khaok...\n",
              " 4204  4205  ...  backend vocation newyear trip thailand khaoko ...\n",
              " ...    ...  ...                                                ...\n",
              " 4295  4296  ...   going itunes listened always liked vid tell bout\n",
              " 4296  4297  ...  would like wish amazing day make every minute ...\n",
              " 4297  4298  ...  photography video android apps beautiful cute ...\n",
              " 4298  4299  ...  wonder message getting read even open fucking ...\n",
              " 4299  4300  ...  know smart get iphone repair centre early avoi...\n",
              " \n",
              " [100 rows x 4 columns],\n",
              "         id  ...                                        clean_tweet\n",
              " 4300  4301  ...  photo longhair swag sxe baby straightedge onel...\n",
              " 4301  4302  ...  follow capetownsup instagram sup surf fun cape...\n",
              " 4302  4303  ...  city view nyc ny nyc newyork usa timesq travel...\n",
              " 4303  4304  ...   yayy get mini love dad muax samsung mini spmgift\n",
              " 4304  4305  ...           dear iphone iphone plus apple ly amazing\n",
              " ...    ...  ...                                                ...\n",
              " 4395  4396  ...  photo pick two survey pick iphone filter relat...\n",
              " 4396  4397  ...                      nd time restore ipod annoying\n",
              " 4397  4398  ...  release day release day city amfenster ddr son...\n",
              " 4398  4399  ...  needing thunderbolt firewire adapter pronto th...\n",
              " 4399  4400  ...  installing free program create appleid verify ...\n",
              " \n",
              " [100 rows x 4 columns],\n",
              "         id  ...                                        clean_tweet\n",
              " 4400  4401  ...  guess came post today olaf snowman samsung pho...\n",
              " 4401  4402  ...  skittle love fatcat orangecat iphone apple ani...\n",
              " 4402  4403  ...           pundit among iphone user love att iphone\n",
              " 4403  4404  ...  gain follower rt must follow follow back follo...\n",
              " 4404  4405  ...  painting music smile galeanastudio paintingbru...\n",
              " ...    ...  ...                                                ...\n",
              " 4495  4496  ...  orange mood today mood mymood orange bellross ...\n",
              " 4496  4497  ...  dude fusrohdave comic bff bestfriend webcomic ...\n",
              " 4497  4498  ...  web developer conference know tag work idiot a...\n",
              " 4498  4499  ...       l onora apple pie oh day first pic instagram\n",
              " 4499  4500  ...  listening new magnacarta al waiting samsung fi...\n",
              " \n",
              " [100 rows x 4 columns],\n",
              "         id  ...                                        clean_tweet\n",
              " 4500  4501  ...  another stupid shitty ugly charger broke annoy...\n",
              " 4501  4502  ...  goodmorning nowplaying np tpain nappyboy best ...\n",
              " 4502  4503  ...  even home get fit nikke trainning iphone app t...\n",
              " 4503  4504  ...  earlier phone enough battery life update say u...\n",
              " 4504  4505  ...  really lovin new phone android rock speed much...\n",
              " ...    ...  ...                                                ...\n",
              " 4595  4596  ...  fact taken hour reset iphone straight bull iph...\n",
              " 4596  4597  ...  moon vocation newyear trip thailand khaoko ilc...\n",
              " 4597  4598  ...  hey new iphone xd sopretty iphone gold white i...\n",
              " 4598  4599  ...  smiley emirati boy love uae handmade mobile ip...\n",
              " 4599  4600  ...  th august thproductions fimmaking canon iphone...\n",
              " \n",
              " [100 rows x 4 columns],\n",
              "         id  ...                                        clean_tweet\n",
              " 4600  4601  ...  anonymous please go fuck psn sony psn back onl...\n",
              " 4601  4602  ...  got ipad read book able see printed text yr un...\n",
              " 4602  4603  ...  true love great innovation tip technology inno...\n",
              " 4603  4604  ...  teacher light way others educate little mind t...\n",
              " 4604  4605  ...  switched got galaxy woot galaxy samsung new phone\n",
              " ...    ...  ...                                                ...\n",
              " 4695  4696  ...  phone deleted text message panic attack apple ...\n",
              " 4696  4697  ...  samsung galaxy keyboard bug together google ad...\n",
              " 4697  4698  ...  fantastic app great pic photography nowplaying...\n",
              " 4698  4699  ...  many time apple exec used today event fastcomp...\n",
              " 4699  4700  ...  well certainly happy samsung galaxy new phone ...\n",
              " \n",
              " [100 rows x 4 columns],\n",
              "         id  ...                                        clean_tweet\n",
              " 4700  4701  ...  yeah io auto correct wanted allure surge commo...\n",
              " 4701  4702  ...             got iphone g ipad apple recording move\n",
              " 4702  4703  ...  u pay million news photography fashion health ...\n",
              " 4703  4704  ...  download io ipod g fuck apple ihateyou ipodsbroke\n",
              " 4704  4705  ...  tag friend leave comment coder life girl devel...\n",
              " ...    ...  ...                                                ...\n",
              " 4795  4796  ...  coral rose tapestry iphone duvet comforter art...\n",
              " 4796  4797  ...  view studio today amazing cloud beautiful hump...\n",
              " 4797  4798  ...  animoji like best thing ever till novelty run ...\n",
              " 4798  4799  ...  thanks apple making month old iphone unlikeabl...\n",
              " 4799  4800  ...  would like wish amazing day make every minute ...\n",
              " \n",
              " [100 rows x 4 columns],\n",
              "         id  ...                                        clean_tweet\n",
              " 4800  4801  ...           look arrived yay ipod classic apple geek\n",
              " 4801  4802  ...           evo thing least year iphonerantcontinued\n",
              " 4802  4803  ...  istanbul hagiasophia byzantine history easter ...\n",
              " 4803  4804  ...  phone look big aw samsung galaxy baggy jumper ...\n",
              " 4804  4805  ...  meeeeeee concussion tagsforlikes tflers tweegr...\n",
              " ...    ...  ...                                                ...\n",
              " 4895  4896  ...  happy valentine day saritaceramics valentine v...\n",
              " 4896  4897  ...  photo cause dressed today boyfriend dressedup ...\n",
              " 4897  4898  ...  face dad gave card worth gay shopping boy macb...\n",
              " 4898  4899  ...  hello august go fast august boy selfie iphonex...\n",
              " 4899  4900  ...  hot flash deal apple ipad air refurb reg free ...\n",
              " \n",
              " [100 rows x 4 columns],\n",
              "         id  ...                                        clean_tweet\n",
              " 4900  4901  ...  pc exquisite squishy random charm iphone strap...\n",
              " 4901  4902  ...  finally updated sgsii ic arabic p samsung thou...\n",
              " 4902  4903  ...  photo scifi starwars sandiegocomiccon apple am...\n",
              " 4903  4904  ...  first time shooting shoot bird cat apple donts...\n",
              " 4904  4905  ...  donald trump ushered whole news photography fa...\n",
              " ...    ...  ...                                                ...\n",
              " 4995  4996  ...  new pink condom cellphone samsung core duo cut...\n",
              " 4996  4997  ...            finally going word shitty phone samsung\n",
              " 4997  4998  ...  wake oh meeennn x x photooftheday wake like sl...\n",
              " 4998  4999  ...  imovie complete fucking waste fuckyou apple fu...\n",
              " 4999  5000  ...  unlock level zen block coming soon relax iphon...\n",
              " \n",
              " [100 rows x 4 columns],\n",
              "         id  ...                                        clean_tweet\n",
              " 5000  5001  ...   prophet husband iphone android kindle book april\n",
              " 5001  5002  ...  happy birthday mother gule gule kullan birthda...\n",
              " 5002  5003  ...  thought dope tattoo art amazing fffound color ...\n",
              " 5003  5004  ...  iphone manual made simple amazon usa uk italy ...\n",
              " 5004  5005  ...  fucking apple suck cover everything broken scr...\n",
              " ...    ...  ...                                                ...\n",
              " 5095  5096  ...  best pink cover ever bunny iphone cover pink f...\n",
              " 5096  5097  ...  samsung edge samsung edge android bless goodvi...\n",
              " 5097  5098  ...  jacielynnclark make phone sell em like make ch...\n",
              " 5098  5099  ...  donut candy krema juice apple kiwi yummy apple...\n",
              " 5099  5100  ...  went beach today wonderful shotoniphone iphone...\n",
              " \n",
              " [100 rows x 4 columns],\n",
              "         id  ...                                        clean_tweet\n",
              " 5100  5101  ...  chilling bathroom ipad device fantastic whysocool\n",
              " 5101  5102  ...  believe believe jb longhair extentions new iph...\n",
              " 5102  5103  ...  red hair care lol instagram iphone iphoneograp...\n",
              " 5103  5104  ...  iphone battery spontaneously melt leak acid on...\n",
              " 5104  5105  ...  anjarwarnyoto steak holycow holycow radal tkp ...\n",
              " ...    ...  ...                                                ...\n",
              " 5195  5196  ...  time got new iphone iphone apple istore istore...\n",
              " 5196  5197  ...  ursulaknight chocoladutchess think although it...\n",
              " 5197  5198  ...  carrot samsung live laugh life instago instahu...\n",
              " 5198  5199  ...  gamestop rescue exchanged jacked venom movie d...\n",
              " 5199  5200  ...  gain follower rt must follow follow back follo...\n",
              " \n",
              " [100 rows x 4 columns],\n",
              "         id  ...                                        clean_tweet\n",
              " 5200  5201  ...  vivo india plz provide ota update battery batt...\n",
              " 5201  5202  ...  love facetime date longdistancerelationship em...\n",
              " 5202  5203  ...           justinbieber apple ipad iphone may ammay\n",
              " 5203  5204  ...  iphone twitter apps apple io yes tempared gl i...\n",
              " 5204  5205  ...  new toy fashion galaxynote newbuy samsung sams...\n",
              " ...    ...  ...                                                ...\n",
              " 5295  5296  ...  samsung tablet spin arrived prize expensive pr...\n",
              " 5296  5297  ...  hot deal high tech lightning usb cable foot ge...\n",
              " 5297  5298  ...  w little sist little sister smile kawaii sweet...\n",
              " 5298  5299  ...  best christmas gift could ever ask love mom da...\n",
              " 5299  5300  ...  one thing mexicocity cdmx find sort food like ...\n",
              " \n",
              " [100 rows x 4 columns],\n",
              "         id  ...                                        clean_tweet\n",
              " 5300  5301  ...  reunited feel good photooftheday instafun ipho...\n",
              " 5301  5302  ...  artist goin iphonesia photooftheday iphone iph...\n",
              " 5302  5303  ...  sorry iphone need upgrade galaxy tgif samsung ...\n",
              " 5303  5304  ...  finally bought p finally play old favorite gam...\n",
              " 5304  5305  ...  regram new toy thankyoudaddy tablet samsung ga...\n",
              " ...    ...  ...                                                ...\n",
              " 5395  5396  ...  inventionx worst mistake one could make buying...\n",
              " 5396  5397  ...  wow fuck apple letting use cable certified app...\n",
              " 5397  5398  ...  good morning world sweetheart iphone italy box...\n",
              " 5398  5399  ...    man apple get hotspot lte th floor blackberry z\n",
              " 5399  5400  ...             hurt luismiguel ipod love skullscandys\n",
              " \n",
              " [100 rows x 4 columns],\n",
              "         id  ...                                        clean_tweet\n",
              " 5400  5401  ...  need itunes alternative mainly music transfer ...\n",
              " 5401  5402  ...  great new game play already app store instagra...\n",
              " 5402  5403  ...  let get beautiful beautytips beauty apps iphon...\n",
              " 5403  5404  ...  wow good job apple time make io fix bug come d...\n",
              " 5404  5405  ...  apple marketing best planet suck sucker apple ...\n",
              " ...    ...  ...                                                ...\n",
              " 5495  5496  ...  like reading like ebooks check story orpheus e...\n",
              " 5496  5497  ...  wait till get new phone gssucks already used d...\n",
              " 5497  5498  ...  gromit wallaceandgromit wallace gromit bristol...\n",
              " 5498  5499  ...  moby buy cool gift today sony iphone samsung ipad\n",
              " 5499  5500  ...  phone alive decided go swim saturday spend thr...\n",
              " \n",
              " [100 rows x 4 columns],\n",
              "         id  ...                                        clean_tweet\n",
              " 5500  5501  ...  hacking password wifi prank lion le watermelo ...\n",
              " 5501  5502  ...  architecture iphonesia iphone iphone instagood...\n",
              " 5502  5503  ...  took glance change life forever kimkardashian ...\n",
              " 5503  5504  ...  dia venecia day day girl boy instadaily iphone...\n",
              " 5504  5505  ...  super green drink almonddream banana apple fla...\n",
              " ...    ...  ...                                                ...\n",
              " 5595  5596  ...  dmcconachie giffgaff emily mashable used old s...\n",
              " 5596  5597  ...  best twwitter word twitter iphone internet sn ...\n",
              " 5597  5598  ...  throwbackthursday baby boy man family kid tbt ...\n",
              " 5598  5599  ...  samsung galaxy going launched today india offi...\n",
              " 5599  5600  ...  nearly vocation newyear trip thailand khaoko i...\n",
              " \n",
              " [100 rows x 4 columns],\n",
              "         id  ...                                        clean_tweet\n",
              " 5600  5601  ...  lunch go vegan lunch plantbased fruit hydrate ...\n",
              " 5601  5602  ...  sometimes wake smell rose rose sony natgeoyour...\n",
              " 5602  5603  ...  find word express upset apple right iphone fai...\n",
              " 5603  5604  ...  love dude latergram photooftheday pitsofig pit...\n",
              " 5604  5605  ...  prize tonight annual dinner biotherm samsung g...\n",
              " ...    ...  ...                                                ...\n",
              " 5695  5696  ...  would like wish amazing day make every minute ...\n",
              " 5696  5697  ...  great holding trophy fun instaboy instagram in...\n",
              " 5697  5698  ...        apple fucking hour cancel one inch progress\n",
              " 5698  5699  ...  remove thing phone apple decided put hateu vio...\n",
              " 5699  5700  ...  new mobile shell mobile cover minion minioner ...\n",
              " \n",
              " [100 rows x 4 columns],\n",
              "         id  ...                                        clean_tweet\n",
              " 5700  5701  ...  could linger day melt word instagram twitter i...\n",
              " 5701  5702  ...  oliver samsung live laugh life legoland malays...\n",
              " 5702  5703  ...  gamescom let go gamescom gaming cologne fuckbe...\n",
              " 5703  5704  ...                 ipod suck think apple product went\n",
              " 5704  5705  ...  would like wish amazing day make every minute ...\n",
              " ...    ...  ...                                                ...\n",
              " 5795  5796  ...        thanks tablet great happy tablet samsung en\n",
              " 5796  5797  ...  know time work apple make terrible software lo...\n",
              " 5797  5798  ...  gnr got rt mariahljay rt eatsmith love new iph...\n",
              " 5798  5799  ...  come iphone apple lego legominifigure brickcen...\n",
              " 5799  5800  ...  love else relate relatable funny quote relate ...\n",
              " \n",
              " [100 rows x 4 columns],\n",
              "         id  ...                                        clean_tweet\n",
              " 5800  5801  ...  would like wish amazing day make every minute ...\n",
              " 5801  5802  ...  phone sony us art picture music igers idaily inst\n",
              " 5802  5803  ...  buy iphone please theellenshow iphone taipei i...\n",
              " 5803  5804  ...  daddy please buy mac win suck apple mac imac w...\n",
              " 5804  5805  ...  sweet love sweet app photography woman iphone ...\n",
              " ...    ...  ...                                                ...\n",
              " 5895  5896  ...  prolly getting rid google map one apple worst ...\n",
              " 5896  5897  ...                hate ipod reset second time product\n",
              " 5897  5898  ...  love come great responsibility life rainbow ho...\n",
              " 5898  5899  ...     like plugged ipod last thinking charging wasnt\n",
              " 5899  5900  ...  candle make relax sony camera cybershot water ...\n",
              " \n",
              " [100 rows x 4 columns],\n",
              "         id  ...                                        clean_tweet\n",
              " 5900  5901  ...  would like wish amazing day make every minute ...\n",
              " 5901  5902  ...  favorite new apple emoji even different nation...\n",
              " 5902  5903  ...  apple helpdesk made win talk real person amazi...\n",
              " 5903  5904  ...  iphone cover pinkish iphone iphone pink cover ...\n",
              " 5904  5905  ...  breno brenoswag psp portable playstation day n...\n",
              " ...    ...  ...                                                ...\n",
              " 5995  5996  ...  new free app take photo iphone free app tech i...\n",
              " 5996  5997  ...  iphone samsung case holiday phone use code day...\n",
              " 5997  5998  ...  see ya daddy twitter harry haribo family apple...\n",
              " 5998  5999  ...  jarstalking lisa back everything long take mr ...\n",
              " 5999  6000  ...  dessert always great idea try apple crumble to...\n",
              " \n",
              " [100 rows x 4 columns],\n",
              "         id  ...                                        clean_tweet\n",
              " 6000  6001  ...  mp cutter free android apps beautiful cute col...\n",
              " 6001  6002  ...  itunes decides restore entire phone notahappyc...\n",
              " 6002  6003  ...  must accidentally updated iphone pissed screwa...\n",
              " 6003  6004  ...  ee marcalleraee habbosamp marc still communica...\n",
              " 6004  6005  ...  il sont content lizardsquad psn xboxlive hack ...\n",
              " ...    ...  ...                                                ...\n",
              " 6095  6096  ...           hungry chocolate orange apple sweet home\n",
              " 6096  6097  ...  mac computer better start working break shit a...\n",
              " 6097  6098  ...  hate gotta wait til home get wifi download io ...\n",
              " 6098  6099  ...  awkward moment town called something total dif...\n",
              " 6099  6100  ...  follow capetownsup instagram sup surf fun cape...\n",
              " \n",
              " [100 rows x 4 columns],\n",
              "         id  ...                                        clean_tweet\n",
              " 6100  6101  ...  finito iphones nothing problem since moment go...\n",
              " 6101  6102  ...  charged ipad friday used everyday since still ...\n",
              " 6102  6103  ...  sunrise one minute ago europe zeeland samsung ...\n",
              " 6103  6104  ...  even resize permanently itunes get fit standar...\n",
              " 6104  6105  ...  proper car porn weekend ig iphone nature igers...\n",
              " ...    ...  ...                                                ...\n",
              " 6195  6196  ...  phone mirror one present cool phone samsung ga...\n",
              " 6196  6197  ...         new phone awesome samsung galaxy new phone\n",
              " 6197  6198  ...  calling unemployment people love tweeting hold...\n",
              " 6198  6199  ...  tbt jubilation daisy alaska kindness beautiful...\n",
              " 6199  6200  ...  wat shop day shopping clothes tshirt pant sing...\n",
              " \n",
              " [100 rows x 4 columns],\n",
              "         id  ...                                        clean_tweet\n",
              " 6200  6201  ...  bad mood since lost phone love new phone iphon...\n",
              " 6201  6202  ...  thousand switching armband slimclipcase find m...\n",
              " 6202  6203  ...  tried upload photo fb twice app keep crashing ...\n",
              " 6203  6204  ...  finally functional new phone replace old spoil...\n",
              " 6204  6205  ...  zarathegeek still made apple still made sheepl...\n",
              " ...    ...  ...                                                ...\n",
              " 6295  6296  ...  linen lace phone case via etsy sundaymorning h...\n",
              " 6296  6297  ...  rt alibakes okay going reestablish much love i...\n",
              " 6297  6298  ...  lightning pull dissidia ffoo via youtube final...\n",
              " 6298  6299  ...  new panorama setting iphone kitty cat manx tor...\n",
              " 6299  6300  ...  amazing inject much suck process buying new ip...\n",
              " \n",
              " [100 rows x 4 columns],\n",
              "         id  ...                                        clean_tweet\n",
              " 6300  6301  ...  pretty happy iphone got shipped todat thumbsup...\n",
              " 6301  6302  ...  think best present christmas present iphone be...\n",
              " 6302  6303  ...  hate way android force look download icon clea...\n",
              " 6303  6304  ...  little nemo iphoneography iphonesia instagram ...\n",
              " 6304  6305  ...  keep phone protected one boost mobile case goo...\n",
              " ...    ...  ...                                                ...\n",
              " 6395  6396  ...       new iphone sound terrible waiting age aswell\n",
              " 6396  6397  ...  updated ipod see anything new amazing justifie...\n",
              " 6397  6398  ...  wow actually read fucking term condition hate ...\n",
              " 6398  6399  ...  blinding light two little dot bottom cat eye c...\n",
              " 6399  6400  ...    well phone working manually download apps apple\n",
              " \n",
              " [100 rows x 4 columns],\n",
              "         id  ...                                        clean_tweet\n",
              " 6400  6401  ...  gain follower rt must follow follow back follo...\n",
              " 6401  6402  ...  fucking hate apple never get password username...\n",
              " 6402  6403  ...         ok real pissing even wifi imessage working\n",
              " 6403  6404  ...  wish right starwars battlefront p sony dontjud...\n",
              " 6404  6405  ...           th iphone charger already breaking apple\n",
              " ...    ...  ...                                                ...\n",
              " 6495  6496  ...    love instagram iphone iphonography boredom girl\n",
              " 6496  6497  ...  credit end grimm promotional consideration fur...\n",
              " 6497  6498  ...  much love little one niece school apple health...\n",
              " 6498  6499  ...  cutest cute text message personal deep boyfrie...\n",
              " 6499  6500  ...  enjoying morning coffee working beenhipster hi...\n",
              " \n",
              " [100 rows x 4 columns],\n",
              "         id  ...                                        clean_tweet\n",
              " 6500  6501  ...  heart candle candle heart lightcandle instagra...\n",
              " 6501  6502  ...  christmas want someonebuymethis gift giftidea ...\n",
              " 6502  6503  ...  world photography day canon nikon sigma leica ...\n",
              " 6503  6504  ...          one headphone ever work use ipod urgh ffs\n",
              " 6504  6505  ...  scape city follow sun selfie iphone camera lol...\n",
              " ...    ...  ...                                                ...\n",
              " 6595  6596  ...  would like wish amazing day make every minute ...\n",
              " 6596  6597  ...  textgram funny followme think teamfollow iphon...\n",
              " 6597  6598  ...  mi iphone connecting itunes geniusbar appointm...\n",
              " 6598  6599  ...  phone necessity car clip buy one get click bio...\n",
              " 6599  6600  ...  watson happy puppy puppy mutt lifeproof galaxy...\n",
              " \n",
              " [100 rows x 4 columns],\n",
              "         id  ...                                        clean_tweet\n",
              " 6600  6601  ...  like share want phone case iphone iphone sam p...\n",
              " 6601  6602  ...  ebony coffee table final coat ridgid ryobi tro...\n",
              " 6602  6603  ...                  ugh dip want imac bad sexy wantit\n",
              " 6603  6604  ...  choose wisely palmsprings w jeffmindell color ...\n",
              " 6604  6605  ...  best offer universal smartphone car air vent m...\n",
              " ...    ...  ...                                                ...\n",
              " 6695  6696  ...  clint eastwood donald trump news photography f...\n",
              " 6696  6697  ...  dude mobile said apple suck smart enough know ...\n",
              " 6697  6698  ...  follow capetownsup instagram sup surf fun cape...\n",
              " 6698  6699  ...           deleted picture video phone memory apple\n",
              " 6699  6700  ...  thankyou sony p addon finally happiness gaming...\n",
              " \n",
              " [100 rows x 4 columns],\n",
              "         id  ...                                        clean_tweet\n",
              " 6700  6701  ...  catch throat iphonesia iphone instagood instag...\n",
              " 6701  6702  ...          shuffle itunes bono come apple itunesrape\n",
              " 6702  6703  ...  change background image android apps beautiful...\n",
              " 6703  6704  ...  impressed appstore customer service phone cras...\n",
              " 6704  6705  ...  marble air cast concrete macbook macbookpro ma...\n",
              " ...    ...  ...                                                ...\n",
              " 6795  6796  ...  beauty playstation p playstationeurope awesome...\n",
              " 6796  6797  ...  instacollage advocare postworkout arginine spa...\n",
              " 6797  6798  ...  hiroshimap art japan hiroshima trip japantrip ...\n",
              " 6798  6799  ...  favourite new apple release let u know latest ...\n",
              " 6799  6800  ...  japan sony rt silly u new laptop pink breastca...\n",
              " \n",
              " [100 rows x 4 columns],\n",
              "         id  ...                                        clean_tweet\n",
              " 6800  6801  ...  want update itunes want delete stop asking eve...\n",
              " 6801  6802  ...  photo word word paper ink print iphone instagr...\n",
              " 6802  6803  ...  wasted almost drop iphone would made cry know ...\n",
              " 6803  6804  ...  new phone iphone galaxy apple samsung design n...\n",
              " 6804  6805  ...  mac macintosh story pt th apple birthday mac s...\n",
              " ...    ...  ...                                                ...\n",
              " 6895  6896  ...  seriously confused anyone would want iphone sa...\n",
              " 6896  6897  ...  beautiful campus fiu tuesday tree parkinglotvi...\n",
              " 6897  6898  ...  happy cat tabby cat catsofinstagram cold icy w...\n",
              " 6898  6899  ...  girl demi lavato lavatic cute sexy fine music ...\n",
              " 6899  6900  ...  bought ipad watch ipad case apple ipad watch i...\n",
              " \n",
              " [100 rows x 4 columns],\n",
              "         id  ...                                        clean_tweet\n",
              " 6900  6901  ...  jaylin making sandart kid family bw bwlover bl...\n",
              " 6901  6902  ...  working much w mac work messing window keyboar...\n",
              " 6902  6903  ...                 iphones look way make need new one\n",
              " 6903  6904  ...  vivo india exactly happened today sale sent ma...\n",
              " 6904  6905  ...  gain follower rt must follow follow back follo...\n",
              " ...    ...  ...                                                ...\n",
              " 6995  6996  ...  temple run game appstore apple losangeles good...\n",
              " 6996  6997  ...  please rt jesus god tech iphone app faith joy ...\n",
              " 6997  6998  ...  got another one piccollage iphone hate apple w...\n",
              " 6998  6999  ...  possible get refund tim cook get stevejobs bac...\n",
              " 6999  7000  ...  never get phone disappointed shirty fuckin pho...\n",
              " \n",
              " [100 rows x 4 columns],\n",
              "         id  ...                                        clean_tweet\n",
              " 7000  7001  ...  love plaid plaid flannel instapic blackandwhit...\n",
              " 7001  7002  ...               ok ok week love iphone g love iphone\n",
              " 7002  7003  ...  good night goodnight sweetdreams girl bedroom ...\n",
              " 7003  7004  ...  code findgifts via redbubble redbubble suicide...\n",
              " 7004  7005  ...  take steemit blue sky sun life photo photo pho...\n",
              " ...    ...  ...                                                ...\n",
              " 7095  7096  ...  sunpolis soon news gaming gamedev game art vid...\n",
              " 7096  7097  ...  b ruff back back via youtube hiphop newartist ...\n",
              " 7097  7098  ...  new baby fotorus new girly case england withe ...\n",
              " 7098  7099  ...  gsb thing love alpa camera griffen iphone micr...\n",
              " 7099  7100  ...  gusta ven phone technology la venta power bank...\n",
              " \n",
              " [100 rows x 4 columns],\n",
              "         id  ...                                        clean_tweet\n",
              " 7100  7101  ...  home steemit home story new life art gallery p...\n",
              " 7101  7102  ...  hey samsung galaxy new phone whitefrost galaxy...\n",
              " 7102  7103  ...  aunt computer sucked song ipod think im gonna ...\n",
              " 7103  7104  ...  sale iphone case torras series liquid silicone...\n",
              " 7104  7105  ...  using ipod phone hour decided much hate apple ...\n",
              " ...    ...  ...                                                ...\n",
              " 7195  7196  ...  relax time instagram iphone instagood iphoneon...\n",
              " 7196  7197  ...  show download rate iphone game spooky challeng...\n",
              " 7197  7198  ...  galaxy speedy king smartphones confirmed galax...\n",
              " 7198  7199  ...  small fast steemit fast bug bug nature naturep...\n",
              " 7199  7200  ...  coldest night last night c guest still happy n...\n",
              " \n",
              " [100 rows x 4 columns],\n",
              "         id  ...                                        clean_tweet\n",
              " 7200  7201  ...  khormaunited zain sim stuck handset remove app...\n",
              " 7201  7202  ...  spoiled bought smart tv tonight samsung tv spo...\n",
              " 7202  7203  ...             miss old phone took great picture bomb\n",
              " 7203  7204  ...              got call apple schedule interview mrw\n",
              " 7204  7205  ...                   done bout funny true iphone care\n",
              " ...    ...  ...                                                ...\n",
              " 7295  7296  ...  haha said bright cute cat adorable cozy pet cu...\n",
              " 7296  7297  ...         happiness simple need think sony like like\n",
              " 7297  7298  ...  photo sunday view nature park tree water scene...\n",
              " 7298  7299  ...  ninja love ninjanaptap iphone appstore io appl...\n",
              " 7299  7300  ...  keyboard want type letter anymore anyone know ...\n",
              " \n",
              " [100 rows x 4 columns],\n",
              "         id  ...                                        clean_tweet\n",
              " 7300  7301  ...  love new phone case iphone cover case sunset b...\n",
              " 7301  7302  ...  look death ya know serious daddy monroe iphone...\n",
              " 7302  7303  ...  smile change world smile iphone apple men menh...\n",
              " 7303  7304  ...  sony rx v camera sony rx v likeforlike l l lik...\n",
              " 7304  7305  ...  follow capetownsup instagram sup surf fun cape...\n",
              " ...    ...  ...                                                ...\n",
              " 7395  7396  ...  ipad ipad mini fuck everyone new crap charger ...\n",
              " 7396  7397  ...  really suck anything dealing internet igiveup ...\n",
              " 7397  7398  ...  gonna sp instagood instadaily twelveskip iphon...\n",
              " 7398  7399  ...  brighton hove street gb uk city town iphoneonl...\n",
              " 7399  7400  ...  owns facebook chart ff friend gratitude ipad i...\n",
              " \n",
              " [100 rows x 4 columns],\n",
              "         id  ...                                        clean_tweet\n",
              " 7400  7401  ...    apple rolling verizon iphone valentine day sale\n",
              " 7401  7402  ...  joshbates yea blieve lol angrylaura hatevodafo...\n",
              " 7402  7403  ...  rt ellyrulez official twitter app iphone ipod ...\n",
              " 7403  7404  ...  pink wonderland shopping sweet cute pink shop ...\n",
              " 7404  7405  ...    deleted message patrick accidentally iphone mad\n",
              " ...    ...  ...                                                ...\n",
              " 7495  7496  ...  gain follower rt must follow follow back follo...\n",
              " 7496  7497  ...  yeah bb suck iphone rt nstre love since bb yet...\n",
              " 7497  7498  ...  way blessed stressed count day make day count ...\n",
              " 7498  7499  ...  let say time io io go applegeek apple appleonl...\n",
              " 7499  7500  ...  followtrick retweet follow rt followback gain ...\n",
              " \n",
              " [100 rows x 4 columns],\n",
              "         id  ...                                        clean_tweet\n",
              " 7500  7501  ...  wish newyear new year animoji emoji emoticon a...\n",
              " 7501  7502  ...  u apple team promote new phone al thats anothe...\n",
              " 7502  7503  ...  spider man case iphone fixmeiphone spider man ...\n",
              " 7503  7504  ...  great another iphone another problem flash wor...\n",
              " 7504  7505  ...  got camera charger film swag samsung usb scoot...\n",
              " ...    ...  ...                                                ...\n",
              " 7595  7596  ...  sport like russia moscow japan istanbul turkis...\n",
              " 7596  7597  ...  begging catch apple onion cabbage thewhiteprin...\n",
              " 7597  7598  ...  believe happening soooo ready kingdomhearts sq...\n",
              " 7598  7599  ...  better late never yo good toledo spain day cl ...\n",
              " 7599  7600  ...  thank uncle cardigan cute chilling iphone inst...\n",
              " \n",
              " [100 rows x 4 columns],\n",
              "         id  ...                                        clean_tweet\n",
              " 7600  7601  ...  holaaaa happy weekend u weekend animoji fun sm...\n",
              " 7601  7602  ...  ready valentine use app fashion nowplaying wom...\n",
              " 7602  7603  ...  luxury colorful l much zeta supply click link ...\n",
              " 7603  7604  ...  photo nikosx iphone beach holiday bw iphone bl...\n",
              " 7604  7605  ...  dearest boy make heart beat fast woman sexy ph...\n",
              " ...    ...  ...                                                ...\n",
              " 7695  7696  ...  iphone give freebie upgrade phone cnt bk samsu...\n",
              " 7696  7697  ...  caught vortex software update o discrepancy pr...\n",
              " 7697  7698  ...  jaijuiceandcafe mmmmmm happy pineapple mint ap...\n",
              " 7698  7699  ...  round targeting p iphone seo money loan ticket...\n",
              " 7699  7700  ...  bigger ripoff duo apple microsoft upgrade offi...\n",
              " \n",
              " [100 rows x 4 columns],\n",
              "         id  ...                                        clean_tweet\n",
              " 7700  7701  ...  duck sodding apple done iphone f picture leavi...\n",
              " 7701  7702  ...  hate iphone g right even orderingfood cellphon...\n",
              " 7702  7703  ...  samsung worse customer service company done bu...\n",
              " 7703  7704  ...  lightroom ig three ten new year newyear welcom...\n",
              " 7704  7705  ...  proofjalenmcmillan proof concept trending beli...\n",
              " ...    ...  ...                                                ...\n",
              " 7795  7796  ...  free lord rangoli diwali diwali diwalirangoli ...\n",
              " 7796  7797  ...                   iphone asleep every night iphone\n",
              " 7797  7798  ...    apple rolling verizon iphone valentine day sale\n",
              " 7798  7799  ...  asthma allergy voice still access apple update...\n",
              " 7799  7800  ...  microsoft window privacy policy new normal new...\n",
              " \n",
              " [100 rows x 4 columns],\n",
              "         id  ...                                        clean_tweet\n",
              " 7800  7801  ...  follow capetownsup instagram sup surf fun cape...\n",
              " 7801  7802  ...  happy new year beaver eggtooth newsdict news r...\n",
              " 7802  7803  ...  earpods apple stupidest invention fucking stay...\n",
              " 7803  7804  ...  gain follower rt must follow follow back follo...\n",
              " 7804  7805  ...  bad day bad life relax metime chocolate handph...\n",
              " ...    ...  ...                                                ...\n",
              " 7895  7896  ...  khalsir fork new battery repair ehhmm thanks s...\n",
              " 7896  7897  ...  pissed macbook crash apple company nothing app...\n",
              " 7897  7898  ...  slowly moving away shitty apple goodbye apple ...\n",
              " 7898  7899  ...  would like wish amazing day make every minute ...\n",
              " 7899  7900  ...  early christmas present sure dont mind thanks ...\n",
              " \n",
              " [100 rows x 4 columns],\n",
              "         id  ...                                        clean_tweet\n",
              " 7900  7901  ...  iphone calendar link facebook calendar even fa...\n",
              " 7901  7902  ...  brendan brady new apple advert fuck apple rela...\n",
              " 7902  7903  ...  wanna put music itunes iphone fucking difficul...\n",
              " 7903  7904  ...  kaylahinks snapchatprobbz haha true deleted bb...\n",
              " 7904  7905  ...  fuckyou apple one thing stop working buy whole...\n",
              " 7905  7906  ...  ove fist inside oh god fist inside big boob po...\n",
              " 7906  7907  ...   legit feel like brand new phone apple newsscreen\n",
              " 7907  7908  ...   tipsy rhyme e ye je mi ne dont miss rhyme iphone\n",
              " 7908  7909  ...  second fucking time stay hold min phone start ...\n",
              " 7909  7910  ...  rt monteithelgort first post new phone samsung...\n",
              " 7910  7911  ...  perfect match instagood applewatch red instagr...\n",
              " 7911  7912  ...  completely love new iphone emojis iphone apple...\n",
              " 7912  7913  ...  tune turn drop gtd one app mobile mind meditat...\n",
              " 7913  7914  ...  ok galaxy crashed one day wait til monday skyr...\n",
              " 7914  7915  ...  gain follower rt must follow follow back follo...\n",
              " 7915  7916  ...  live loud lol liveoutloud selfie smile sony mu...\n",
              " 7916  7917  ...  would like wish amazing day make every minute ...\n",
              " 7917  7918  ...  helping lovely year old neighbor ipad morning ...\n",
              " 7918  7919  ...  finally got smart pocket wifi stay connected a...\n",
              " 7919  7920  ...  apple barcelona apple store bcn barcelona trav...\n",
              " \n",
              " [20 rows x 4 columns]]"
            ]
          },
          "metadata": {
            "tags": []
          },
          "execution_count": 24
        }
      ]
    },
    {
      "cell_type": "code",
      "metadata": {
        "id": "ADgZJHQLOeE3",
        "outputId": "fe964e32-4987-49f2-dc21-50ecc8d82669",
        "colab": {
          "base_uri": "https://localhost:8080/"
        }
      },
      "source": [
        "elmo_train = [elmo_vector(x['clean_tweet']) for x in train_batch]"
      ],
      "execution_count": 27,
      "outputs": [
        {
          "output_type": "stream",
          "text": [
            "INFO:tensorflow:Saver not created because there are no variables in the graph to restore\n"
          ],
          "name": "stdout"
        },
        {
          "output_type": "stream",
          "text": [
            "INFO:tensorflow:Saver not created because there are no variables in the graph to restore\n"
          ],
          "name": "stderr"
        },
        {
          "output_type": "stream",
          "text": [
            "INFO:tensorflow:Saver not created because there are no variables in the graph to restore\n"
          ],
          "name": "stdout"
        },
        {
          "output_type": "stream",
          "text": [
            "INFO:tensorflow:Saver not created because there are no variables in the graph to restore\n"
          ],
          "name": "stderr"
        },
        {
          "output_type": "stream",
          "text": [
            "INFO:tensorflow:Saver not created because there are no variables in the graph to restore\n"
          ],
          "name": "stdout"
        },
        {
          "output_type": "stream",
          "text": [
            "INFO:tensorflow:Saver not created because there are no variables in the graph to restore\n"
          ],
          "name": "stderr"
        },
        {
          "output_type": "stream",
          "text": [
            "INFO:tensorflow:Saver not created because there are no variables in the graph to restore\n"
          ],
          "name": "stdout"
        },
        {
          "output_type": "stream",
          "text": [
            "INFO:tensorflow:Saver not created because there are no variables in the graph to restore\n"
          ],
          "name": "stderr"
        },
        {
          "output_type": "stream",
          "text": [
            "INFO:tensorflow:Saver not created because there are no variables in the graph to restore\n"
          ],
          "name": "stdout"
        },
        {
          "output_type": "stream",
          "text": [
            "INFO:tensorflow:Saver not created because there are no variables in the graph to restore\n"
          ],
          "name": "stderr"
        },
        {
          "output_type": "stream",
          "text": [
            "INFO:tensorflow:Saver not created because there are no variables in the graph to restore\n"
          ],
          "name": "stdout"
        },
        {
          "output_type": "stream",
          "text": [
            "INFO:tensorflow:Saver not created because there are no variables in the graph to restore\n"
          ],
          "name": "stderr"
        },
        {
          "output_type": "stream",
          "text": [
            "INFO:tensorflow:Saver not created because there are no variables in the graph to restore\n"
          ],
          "name": "stdout"
        },
        {
          "output_type": "stream",
          "text": [
            "INFO:tensorflow:Saver not created because there are no variables in the graph to restore\n"
          ],
          "name": "stderr"
        },
        {
          "output_type": "stream",
          "text": [
            "INFO:tensorflow:Saver not created because there are no variables in the graph to restore\n"
          ],
          "name": "stdout"
        },
        {
          "output_type": "stream",
          "text": [
            "INFO:tensorflow:Saver not created because there are no variables in the graph to restore\n"
          ],
          "name": "stderr"
        },
        {
          "output_type": "stream",
          "text": [
            "INFO:tensorflow:Saver not created because there are no variables in the graph to restore\n"
          ],
          "name": "stdout"
        },
        {
          "output_type": "stream",
          "text": [
            "INFO:tensorflow:Saver not created because there are no variables in the graph to restore\n"
          ],
          "name": "stderr"
        },
        {
          "output_type": "stream",
          "text": [
            "INFO:tensorflow:Saver not created because there are no variables in the graph to restore\n"
          ],
          "name": "stdout"
        },
        {
          "output_type": "stream",
          "text": [
            "INFO:tensorflow:Saver not created because there are no variables in the graph to restore\n"
          ],
          "name": "stderr"
        },
        {
          "output_type": "stream",
          "text": [
            "INFO:tensorflow:Saver not created because there are no variables in the graph to restore\n"
          ],
          "name": "stdout"
        },
        {
          "output_type": "stream",
          "text": [
            "INFO:tensorflow:Saver not created because there are no variables in the graph to restore\n"
          ],
          "name": "stderr"
        },
        {
          "output_type": "stream",
          "text": [
            "INFO:tensorflow:Saver not created because there are no variables in the graph to restore\n"
          ],
          "name": "stdout"
        },
        {
          "output_type": "stream",
          "text": [
            "INFO:tensorflow:Saver not created because there are no variables in the graph to restore\n"
          ],
          "name": "stderr"
        },
        {
          "output_type": "stream",
          "text": [
            "INFO:tensorflow:Saver not created because there are no variables in the graph to restore\n"
          ],
          "name": "stdout"
        },
        {
          "output_type": "stream",
          "text": [
            "INFO:tensorflow:Saver not created because there are no variables in the graph to restore\n"
          ],
          "name": "stderr"
        },
        {
          "output_type": "stream",
          "text": [
            "INFO:tensorflow:Saver not created because there are no variables in the graph to restore\n"
          ],
          "name": "stdout"
        },
        {
          "output_type": "stream",
          "text": [
            "INFO:tensorflow:Saver not created because there are no variables in the graph to restore\n"
          ],
          "name": "stderr"
        },
        {
          "output_type": "stream",
          "text": [
            "INFO:tensorflow:Saver not created because there are no variables in the graph to restore\n"
          ],
          "name": "stdout"
        },
        {
          "output_type": "stream",
          "text": [
            "INFO:tensorflow:Saver not created because there are no variables in the graph to restore\n"
          ],
          "name": "stderr"
        },
        {
          "output_type": "stream",
          "text": [
            "INFO:tensorflow:Saver not created because there are no variables in the graph to restore\n"
          ],
          "name": "stdout"
        },
        {
          "output_type": "stream",
          "text": [
            "INFO:tensorflow:Saver not created because there are no variables in the graph to restore\n"
          ],
          "name": "stderr"
        },
        {
          "output_type": "stream",
          "text": [
            "INFO:tensorflow:Saver not created because there are no variables in the graph to restore\n"
          ],
          "name": "stdout"
        },
        {
          "output_type": "stream",
          "text": [
            "INFO:tensorflow:Saver not created because there are no variables in the graph to restore\n"
          ],
          "name": "stderr"
        },
        {
          "output_type": "stream",
          "text": [
            "INFO:tensorflow:Saver not created because there are no variables in the graph to restore\n"
          ],
          "name": "stdout"
        },
        {
          "output_type": "stream",
          "text": [
            "INFO:tensorflow:Saver not created because there are no variables in the graph to restore\n"
          ],
          "name": "stderr"
        },
        {
          "output_type": "stream",
          "text": [
            "INFO:tensorflow:Saver not created because there are no variables in the graph to restore\n"
          ],
          "name": "stdout"
        },
        {
          "output_type": "stream",
          "text": [
            "INFO:tensorflow:Saver not created because there are no variables in the graph to restore\n"
          ],
          "name": "stderr"
        },
        {
          "output_type": "stream",
          "text": [
            "INFO:tensorflow:Saver not created because there are no variables in the graph to restore\n"
          ],
          "name": "stdout"
        },
        {
          "output_type": "stream",
          "text": [
            "INFO:tensorflow:Saver not created because there are no variables in the graph to restore\n"
          ],
          "name": "stderr"
        },
        {
          "output_type": "stream",
          "text": [
            "INFO:tensorflow:Saver not created because there are no variables in the graph to restore\n"
          ],
          "name": "stdout"
        },
        {
          "output_type": "stream",
          "text": [
            "INFO:tensorflow:Saver not created because there are no variables in the graph to restore\n"
          ],
          "name": "stderr"
        },
        {
          "output_type": "stream",
          "text": [
            "INFO:tensorflow:Saver not created because there are no variables in the graph to restore\n"
          ],
          "name": "stdout"
        },
        {
          "output_type": "stream",
          "text": [
            "INFO:tensorflow:Saver not created because there are no variables in the graph to restore\n"
          ],
          "name": "stderr"
        },
        {
          "output_type": "stream",
          "text": [
            "INFO:tensorflow:Saver not created because there are no variables in the graph to restore\n"
          ],
          "name": "stdout"
        },
        {
          "output_type": "stream",
          "text": [
            "INFO:tensorflow:Saver not created because there are no variables in the graph to restore\n"
          ],
          "name": "stderr"
        },
        {
          "output_type": "stream",
          "text": [
            "INFO:tensorflow:Saver not created because there are no variables in the graph to restore\n"
          ],
          "name": "stdout"
        },
        {
          "output_type": "stream",
          "text": [
            "INFO:tensorflow:Saver not created because there are no variables in the graph to restore\n"
          ],
          "name": "stderr"
        },
        {
          "output_type": "stream",
          "text": [
            "INFO:tensorflow:Saver not created because there are no variables in the graph to restore\n"
          ],
          "name": "stdout"
        },
        {
          "output_type": "stream",
          "text": [
            "INFO:tensorflow:Saver not created because there are no variables in the graph to restore\n"
          ],
          "name": "stderr"
        },
        {
          "output_type": "stream",
          "text": [
            "INFO:tensorflow:Saver not created because there are no variables in the graph to restore\n"
          ],
          "name": "stdout"
        },
        {
          "output_type": "stream",
          "text": [
            "INFO:tensorflow:Saver not created because there are no variables in the graph to restore\n"
          ],
          "name": "stderr"
        },
        {
          "output_type": "stream",
          "text": [
            "INFO:tensorflow:Saver not created because there are no variables in the graph to restore\n"
          ],
          "name": "stdout"
        },
        {
          "output_type": "stream",
          "text": [
            "INFO:tensorflow:Saver not created because there are no variables in the graph to restore\n"
          ],
          "name": "stderr"
        },
        {
          "output_type": "stream",
          "text": [
            "INFO:tensorflow:Saver not created because there are no variables in the graph to restore\n"
          ],
          "name": "stdout"
        },
        {
          "output_type": "stream",
          "text": [
            "INFO:tensorflow:Saver not created because there are no variables in the graph to restore\n"
          ],
          "name": "stderr"
        },
        {
          "output_type": "stream",
          "text": [
            "INFO:tensorflow:Saver not created because there are no variables in the graph to restore\n"
          ],
          "name": "stdout"
        },
        {
          "output_type": "stream",
          "text": [
            "INFO:tensorflow:Saver not created because there are no variables in the graph to restore\n"
          ],
          "name": "stderr"
        },
        {
          "output_type": "stream",
          "text": [
            "INFO:tensorflow:Saver not created because there are no variables in the graph to restore\n"
          ],
          "name": "stdout"
        },
        {
          "output_type": "stream",
          "text": [
            "INFO:tensorflow:Saver not created because there are no variables in the graph to restore\n"
          ],
          "name": "stderr"
        },
        {
          "output_type": "stream",
          "text": [
            "INFO:tensorflow:Saver not created because there are no variables in the graph to restore\n"
          ],
          "name": "stdout"
        },
        {
          "output_type": "stream",
          "text": [
            "INFO:tensorflow:Saver not created because there are no variables in the graph to restore\n"
          ],
          "name": "stderr"
        },
        {
          "output_type": "stream",
          "text": [
            "INFO:tensorflow:Saver not created because there are no variables in the graph to restore\n"
          ],
          "name": "stdout"
        },
        {
          "output_type": "stream",
          "text": [
            "INFO:tensorflow:Saver not created because there are no variables in the graph to restore\n"
          ],
          "name": "stderr"
        },
        {
          "output_type": "stream",
          "text": [
            "INFO:tensorflow:Saver not created because there are no variables in the graph to restore\n"
          ],
          "name": "stdout"
        },
        {
          "output_type": "stream",
          "text": [
            "INFO:tensorflow:Saver not created because there are no variables in the graph to restore\n"
          ],
          "name": "stderr"
        },
        {
          "output_type": "stream",
          "text": [
            "INFO:tensorflow:Saver not created because there are no variables in the graph to restore\n"
          ],
          "name": "stdout"
        },
        {
          "output_type": "stream",
          "text": [
            "INFO:tensorflow:Saver not created because there are no variables in the graph to restore\n"
          ],
          "name": "stderr"
        },
        {
          "output_type": "stream",
          "text": [
            "INFO:tensorflow:Saver not created because there are no variables in the graph to restore\n"
          ],
          "name": "stdout"
        },
        {
          "output_type": "stream",
          "text": [
            "INFO:tensorflow:Saver not created because there are no variables in the graph to restore\n"
          ],
          "name": "stderr"
        },
        {
          "output_type": "stream",
          "text": [
            "INFO:tensorflow:Saver not created because there are no variables in the graph to restore\n"
          ],
          "name": "stdout"
        },
        {
          "output_type": "stream",
          "text": [
            "INFO:tensorflow:Saver not created because there are no variables in the graph to restore\n"
          ],
          "name": "stderr"
        },
        {
          "output_type": "stream",
          "text": [
            "INFO:tensorflow:Saver not created because there are no variables in the graph to restore\n"
          ],
          "name": "stdout"
        },
        {
          "output_type": "stream",
          "text": [
            "INFO:tensorflow:Saver not created because there are no variables in the graph to restore\n"
          ],
          "name": "stderr"
        },
        {
          "output_type": "stream",
          "text": [
            "INFO:tensorflow:Saver not created because there are no variables in the graph to restore\n"
          ],
          "name": "stdout"
        },
        {
          "output_type": "stream",
          "text": [
            "INFO:tensorflow:Saver not created because there are no variables in the graph to restore\n"
          ],
          "name": "stderr"
        },
        {
          "output_type": "stream",
          "text": [
            "INFO:tensorflow:Saver not created because there are no variables in the graph to restore\n"
          ],
          "name": "stdout"
        },
        {
          "output_type": "stream",
          "text": [
            "INFO:tensorflow:Saver not created because there are no variables in the graph to restore\n"
          ],
          "name": "stderr"
        },
        {
          "output_type": "stream",
          "text": [
            "INFO:tensorflow:Saver not created because there are no variables in the graph to restore\n"
          ],
          "name": "stdout"
        },
        {
          "output_type": "stream",
          "text": [
            "INFO:tensorflow:Saver not created because there are no variables in the graph to restore\n"
          ],
          "name": "stderr"
        },
        {
          "output_type": "stream",
          "text": [
            "INFO:tensorflow:Saver not created because there are no variables in the graph to restore\n"
          ],
          "name": "stdout"
        },
        {
          "output_type": "stream",
          "text": [
            "INFO:tensorflow:Saver not created because there are no variables in the graph to restore\n"
          ],
          "name": "stderr"
        },
        {
          "output_type": "stream",
          "text": [
            "INFO:tensorflow:Saver not created because there are no variables in the graph to restore\n"
          ],
          "name": "stdout"
        },
        {
          "output_type": "stream",
          "text": [
            "INFO:tensorflow:Saver not created because there are no variables in the graph to restore\n"
          ],
          "name": "stderr"
        },
        {
          "output_type": "stream",
          "text": [
            "INFO:tensorflow:Saver not created because there are no variables in the graph to restore\n"
          ],
          "name": "stdout"
        },
        {
          "output_type": "stream",
          "text": [
            "INFO:tensorflow:Saver not created because there are no variables in the graph to restore\n"
          ],
          "name": "stderr"
        },
        {
          "output_type": "stream",
          "text": [
            "INFO:tensorflow:Saver not created because there are no variables in the graph to restore\n"
          ],
          "name": "stdout"
        },
        {
          "output_type": "stream",
          "text": [
            "INFO:tensorflow:Saver not created because there are no variables in the graph to restore\n"
          ],
          "name": "stderr"
        },
        {
          "output_type": "stream",
          "text": [
            "INFO:tensorflow:Saver not created because there are no variables in the graph to restore\n"
          ],
          "name": "stdout"
        },
        {
          "output_type": "stream",
          "text": [
            "INFO:tensorflow:Saver not created because there are no variables in the graph to restore\n"
          ],
          "name": "stderr"
        },
        {
          "output_type": "stream",
          "text": [
            "INFO:tensorflow:Saver not created because there are no variables in the graph to restore\n"
          ],
          "name": "stdout"
        },
        {
          "output_type": "stream",
          "text": [
            "INFO:tensorflow:Saver not created because there are no variables in the graph to restore\n"
          ],
          "name": "stderr"
        },
        {
          "output_type": "stream",
          "text": [
            "INFO:tensorflow:Saver not created because there are no variables in the graph to restore\n"
          ],
          "name": "stdout"
        },
        {
          "output_type": "stream",
          "text": [
            "INFO:tensorflow:Saver not created because there are no variables in the graph to restore\n"
          ],
          "name": "stderr"
        },
        {
          "output_type": "stream",
          "text": [
            "INFO:tensorflow:Saver not created because there are no variables in the graph to restore\n"
          ],
          "name": "stdout"
        },
        {
          "output_type": "stream",
          "text": [
            "INFO:tensorflow:Saver not created because there are no variables in the graph to restore\n"
          ],
          "name": "stderr"
        },
        {
          "output_type": "stream",
          "text": [
            "INFO:tensorflow:Saver not created because there are no variables in the graph to restore\n"
          ],
          "name": "stdout"
        },
        {
          "output_type": "stream",
          "text": [
            "INFO:tensorflow:Saver not created because there are no variables in the graph to restore\n"
          ],
          "name": "stderr"
        },
        {
          "output_type": "stream",
          "text": [
            "INFO:tensorflow:Saver not created because there are no variables in the graph to restore\n"
          ],
          "name": "stdout"
        },
        {
          "output_type": "stream",
          "text": [
            "INFO:tensorflow:Saver not created because there are no variables in the graph to restore\n"
          ],
          "name": "stderr"
        },
        {
          "output_type": "stream",
          "text": [
            "INFO:tensorflow:Saver not created because there are no variables in the graph to restore\n"
          ],
          "name": "stdout"
        },
        {
          "output_type": "stream",
          "text": [
            "INFO:tensorflow:Saver not created because there are no variables in the graph to restore\n"
          ],
          "name": "stderr"
        },
        {
          "output_type": "stream",
          "text": [
            "INFO:tensorflow:Saver not created because there are no variables in the graph to restore\n"
          ],
          "name": "stdout"
        },
        {
          "output_type": "stream",
          "text": [
            "INFO:tensorflow:Saver not created because there are no variables in the graph to restore\n"
          ],
          "name": "stderr"
        },
        {
          "output_type": "stream",
          "text": [
            "INFO:tensorflow:Saver not created because there are no variables in the graph to restore\n"
          ],
          "name": "stdout"
        },
        {
          "output_type": "stream",
          "text": [
            "INFO:tensorflow:Saver not created because there are no variables in the graph to restore\n"
          ],
          "name": "stderr"
        },
        {
          "output_type": "stream",
          "text": [
            "INFO:tensorflow:Saver not created because there are no variables in the graph to restore\n"
          ],
          "name": "stdout"
        },
        {
          "output_type": "stream",
          "text": [
            "INFO:tensorflow:Saver not created because there are no variables in the graph to restore\n"
          ],
          "name": "stderr"
        },
        {
          "output_type": "stream",
          "text": [
            "INFO:tensorflow:Saver not created because there are no variables in the graph to restore\n"
          ],
          "name": "stdout"
        },
        {
          "output_type": "stream",
          "text": [
            "INFO:tensorflow:Saver not created because there are no variables in the graph to restore\n"
          ],
          "name": "stderr"
        },
        {
          "output_type": "stream",
          "text": [
            "INFO:tensorflow:Saver not created because there are no variables in the graph to restore\n"
          ],
          "name": "stdout"
        },
        {
          "output_type": "stream",
          "text": [
            "INFO:tensorflow:Saver not created because there are no variables in the graph to restore\n"
          ],
          "name": "stderr"
        },
        {
          "output_type": "stream",
          "text": [
            "INFO:tensorflow:Saver not created because there are no variables in the graph to restore\n"
          ],
          "name": "stdout"
        },
        {
          "output_type": "stream",
          "text": [
            "INFO:tensorflow:Saver not created because there are no variables in the graph to restore\n"
          ],
          "name": "stderr"
        },
        {
          "output_type": "stream",
          "text": [
            "INFO:tensorflow:Saver not created because there are no variables in the graph to restore\n"
          ],
          "name": "stdout"
        },
        {
          "output_type": "stream",
          "text": [
            "INFO:tensorflow:Saver not created because there are no variables in the graph to restore\n"
          ],
          "name": "stderr"
        },
        {
          "output_type": "stream",
          "text": [
            "INFO:tensorflow:Saver not created because there are no variables in the graph to restore\n"
          ],
          "name": "stdout"
        },
        {
          "output_type": "stream",
          "text": [
            "INFO:tensorflow:Saver not created because there are no variables in the graph to restore\n"
          ],
          "name": "stderr"
        },
        {
          "output_type": "stream",
          "text": [
            "INFO:tensorflow:Saver not created because there are no variables in the graph to restore\n"
          ],
          "name": "stdout"
        },
        {
          "output_type": "stream",
          "text": [
            "INFO:tensorflow:Saver not created because there are no variables in the graph to restore\n"
          ],
          "name": "stderr"
        },
        {
          "output_type": "stream",
          "text": [
            "INFO:tensorflow:Saver not created because there are no variables in the graph to restore\n"
          ],
          "name": "stdout"
        },
        {
          "output_type": "stream",
          "text": [
            "INFO:tensorflow:Saver not created because there are no variables in the graph to restore\n"
          ],
          "name": "stderr"
        },
        {
          "output_type": "stream",
          "text": [
            "INFO:tensorflow:Saver not created because there are no variables in the graph to restore\n"
          ],
          "name": "stdout"
        },
        {
          "output_type": "stream",
          "text": [
            "INFO:tensorflow:Saver not created because there are no variables in the graph to restore\n"
          ],
          "name": "stderr"
        },
        {
          "output_type": "stream",
          "text": [
            "INFO:tensorflow:Saver not created because there are no variables in the graph to restore\n"
          ],
          "name": "stdout"
        },
        {
          "output_type": "stream",
          "text": [
            "INFO:tensorflow:Saver not created because there are no variables in the graph to restore\n"
          ],
          "name": "stderr"
        },
        {
          "output_type": "stream",
          "text": [
            "INFO:tensorflow:Saver not created because there are no variables in the graph to restore\n"
          ],
          "name": "stdout"
        },
        {
          "output_type": "stream",
          "text": [
            "INFO:tensorflow:Saver not created because there are no variables in the graph to restore\n"
          ],
          "name": "stderr"
        },
        {
          "output_type": "stream",
          "text": [
            "INFO:tensorflow:Saver not created because there are no variables in the graph to restore\n"
          ],
          "name": "stdout"
        },
        {
          "output_type": "stream",
          "text": [
            "INFO:tensorflow:Saver not created because there are no variables in the graph to restore\n"
          ],
          "name": "stderr"
        },
        {
          "output_type": "stream",
          "text": [
            "INFO:tensorflow:Saver not created because there are no variables in the graph to restore\n"
          ],
          "name": "stdout"
        },
        {
          "output_type": "stream",
          "text": [
            "INFO:tensorflow:Saver not created because there are no variables in the graph to restore\n"
          ],
          "name": "stderr"
        },
        {
          "output_type": "stream",
          "text": [
            "INFO:tensorflow:Saver not created because there are no variables in the graph to restore\n"
          ],
          "name": "stdout"
        },
        {
          "output_type": "stream",
          "text": [
            "INFO:tensorflow:Saver not created because there are no variables in the graph to restore\n"
          ],
          "name": "stderr"
        },
        {
          "output_type": "stream",
          "text": [
            "INFO:tensorflow:Saver not created because there are no variables in the graph to restore\n"
          ],
          "name": "stdout"
        },
        {
          "output_type": "stream",
          "text": [
            "INFO:tensorflow:Saver not created because there are no variables in the graph to restore\n"
          ],
          "name": "stderr"
        },
        {
          "output_type": "stream",
          "text": [
            "INFO:tensorflow:Saver not created because there are no variables in the graph to restore\n"
          ],
          "name": "stdout"
        },
        {
          "output_type": "stream",
          "text": [
            "INFO:tensorflow:Saver not created because there are no variables in the graph to restore\n"
          ],
          "name": "stderr"
        },
        {
          "output_type": "stream",
          "text": [
            "INFO:tensorflow:Saver not created because there are no variables in the graph to restore\n"
          ],
          "name": "stdout"
        },
        {
          "output_type": "stream",
          "text": [
            "INFO:tensorflow:Saver not created because there are no variables in the graph to restore\n"
          ],
          "name": "stderr"
        },
        {
          "output_type": "stream",
          "text": [
            "INFO:tensorflow:Saver not created because there are no variables in the graph to restore\n"
          ],
          "name": "stdout"
        },
        {
          "output_type": "stream",
          "text": [
            "INFO:tensorflow:Saver not created because there are no variables in the graph to restore\n"
          ],
          "name": "stderr"
        },
        {
          "output_type": "stream",
          "text": [
            "INFO:tensorflow:Saver not created because there are no variables in the graph to restore\n"
          ],
          "name": "stdout"
        },
        {
          "output_type": "stream",
          "text": [
            "INFO:tensorflow:Saver not created because there are no variables in the graph to restore\n"
          ],
          "name": "stderr"
        },
        {
          "output_type": "stream",
          "text": [
            "INFO:tensorflow:Saver not created because there are no variables in the graph to restore\n"
          ],
          "name": "stdout"
        },
        {
          "output_type": "stream",
          "text": [
            "INFO:tensorflow:Saver not created because there are no variables in the graph to restore\n"
          ],
          "name": "stderr"
        },
        {
          "output_type": "stream",
          "text": [
            "INFO:tensorflow:Saver not created because there are no variables in the graph to restore\n"
          ],
          "name": "stdout"
        },
        {
          "output_type": "stream",
          "text": [
            "INFO:tensorflow:Saver not created because there are no variables in the graph to restore\n"
          ],
          "name": "stderr"
        },
        {
          "output_type": "stream",
          "text": [
            "INFO:tensorflow:Saver not created because there are no variables in the graph to restore\n"
          ],
          "name": "stdout"
        },
        {
          "output_type": "stream",
          "text": [
            "INFO:tensorflow:Saver not created because there are no variables in the graph to restore\n"
          ],
          "name": "stderr"
        },
        {
          "output_type": "stream",
          "text": [
            "INFO:tensorflow:Saver not created because there are no variables in the graph to restore\n"
          ],
          "name": "stdout"
        },
        {
          "output_type": "stream",
          "text": [
            "INFO:tensorflow:Saver not created because there are no variables in the graph to restore\n"
          ],
          "name": "stderr"
        },
        {
          "output_type": "stream",
          "text": [
            "INFO:tensorflow:Saver not created because there are no variables in the graph to restore\n"
          ],
          "name": "stdout"
        },
        {
          "output_type": "stream",
          "text": [
            "INFO:tensorflow:Saver not created because there are no variables in the graph to restore\n"
          ],
          "name": "stderr"
        },
        {
          "output_type": "stream",
          "text": [
            "INFO:tensorflow:Saver not created because there are no variables in the graph to restore\n"
          ],
          "name": "stdout"
        },
        {
          "output_type": "stream",
          "text": [
            "INFO:tensorflow:Saver not created because there are no variables in the graph to restore\n"
          ],
          "name": "stderr"
        },
        {
          "output_type": "stream",
          "text": [
            "INFO:tensorflow:Saver not created because there are no variables in the graph to restore\n"
          ],
          "name": "stdout"
        },
        {
          "output_type": "stream",
          "text": [
            "INFO:tensorflow:Saver not created because there are no variables in the graph to restore\n"
          ],
          "name": "stderr"
        },
        {
          "output_type": "stream",
          "text": [
            "INFO:tensorflow:Saver not created because there are no variables in the graph to restore\n"
          ],
          "name": "stdout"
        },
        {
          "output_type": "stream",
          "text": [
            "INFO:tensorflow:Saver not created because there are no variables in the graph to restore\n"
          ],
          "name": "stderr"
        }
      ]
    },
    {
      "cell_type": "code",
      "metadata": {
        "id": "S2evlSm3P0VR"
      },
      "source": [
        "import numpy as np \n",
        "ELMO_TRAIN_COMPLETE = np.concatenate(elmo_train, axis=0)"
      ],
      "execution_count": 28,
      "outputs": []
    },
    {
      "cell_type": "code",
      "metadata": {
        "id": "jKI-5BFDQJPs"
      },
      "source": [
        "\n",
        "from sklearn.model_selection import train_test_split\n",
        "\n",
        "xtrain, xvalid, ytrain, yvalid = train_test_split(ELMO_TRAIN_COMPLETE, \n",
        "                                                 email_train_dataframe['label'],  \n",
        "                                                  random_state=42, \n",
        "                                                  test_size=0.2)"
      ],
      "execution_count": 29,
      "outputs": []
    },
    {
      "cell_type": "code",
      "metadata": {
        "id": "cD55hHTAQnM0",
        "outputId": "cc3ef573-972a-42ba-d94b-b25d2e84c13a",
        "colab": {
          "base_uri": "https://localhost:8080/"
        }
      },
      "source": [
        "from sklearn.linear_model import LogisticRegression\n",
        "from sklearn.metrics import f1_score\n",
        "\n",
        "lreg = LogisticRegression()\n",
        "lreg.fit(xtrain, ytrain)"
      ],
      "execution_count": 30,
      "outputs": [
        {
          "output_type": "stream",
          "text": [
            "/usr/local/lib/python3.6/dist-packages/sklearn/linear_model/_logistic.py:940: ConvergenceWarning: lbfgs failed to converge (status=1):\n",
            "STOP: TOTAL NO. of ITERATIONS REACHED LIMIT.\n",
            "\n",
            "Increase the number of iterations (max_iter) or scale the data as shown in:\n",
            "    https://scikit-learn.org/stable/modules/preprocessing.html\n",
            "Please also refer to the documentation for alternative solver options:\n",
            "    https://scikit-learn.org/stable/modules/linear_model.html#logistic-regression\n",
            "  extra_warning_msg=_LOGISTIC_SOLVER_CONVERGENCE_MSG)\n"
          ],
          "name": "stderr"
        },
        {
          "output_type": "execute_result",
          "data": {
            "text/plain": [
              "LogisticRegression(C=1.0, class_weight=None, dual=False, fit_intercept=True,\n",
              "                   intercept_scaling=1, l1_ratio=None, max_iter=100,\n",
              "                   multi_class='auto', n_jobs=None, penalty='l2',\n",
              "                   random_state=None, solver='lbfgs', tol=0.0001, verbose=0,\n",
              "                   warm_start=False)"
            ]
          },
          "metadata": {
            "tags": []
          },
          "execution_count": 30
        }
      ]
    },
    {
      "cell_type": "code",
      "metadata": {
        "id": "m8Xo5_QiRG_C",
        "outputId": "9032fbc8-5fca-4a52-b4ec-4e9b6c200f83",
        "colab": {
          "base_uri": "https://localhost:8080/"
        }
      },
      "source": [
        "pred_val = lreg.predict(xvalid)\n",
        "f1_score(yvalid,pred_val)"
      ],
      "execution_count": 31,
      "outputs": [
        {
          "output_type": "execute_result",
          "data": {
            "text/plain": [
              "0.7530266343825665"
            ]
          },
          "metadata": {
            "tags": []
          },
          "execution_count": 31
        }
      ]
    }
  ]
}